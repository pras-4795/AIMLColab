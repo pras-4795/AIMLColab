{
  "nbformat": 4,
  "nbformat_minor": 0,
  "metadata": {
    "colab": {
      "name": "Novartis.ipynb",
      "provenance": [],
      "collapsed_sections": [],
      "mount_file_id": "1mp4zcdM1n-HAJyJ5aCkMBwFsfvj5iyuy",
      "authorship_tag": "ABX9TyOZhDcaLe39GSJQms4HuYpZ",
      "include_colab_link": true
    },
    "kernelspec": {
      "name": "python3",
      "display_name": "Python 3"
    }
  },
  "cells": [
    {
      "cell_type": "markdown",
      "metadata": {
        "id": "view-in-github",
        "colab_type": "text"
      },
      "source": [
        "<a href=\"https://colab.research.google.com/github/pras-4795/AIMLColab/blob/master/Novartis.ipynb\" target=\"_parent\"><img src=\"https://colab.research.google.com/assets/colab-badge.svg\" alt=\"Open In Colab\"/></a>"
      ]
    },
    {
      "cell_type": "code",
      "metadata": {
        "id": "xAsTquvZtVNb",
        "colab_type": "code",
        "colab": {}
      },
      "source": [
        "#median is performing better\n",
        "#gradient boosting is better for unbalanced data"
      ],
      "execution_count": 0,
      "outputs": []
    },
    {
      "cell_type": "code",
      "metadata": {
        "id": "e8dDPOAZc7Xo",
        "colab_type": "code",
        "colab": {}
      },
      "source": [
        "import pandas as pd\n",
        "import numpy as np\n",
        "\n",
        "from sklearn.model_selection import train_test_split\n",
        "from sklearn.ensemble import GradientBoostingClassifier\n",
        "from sklearn.metrics import classification_report"
      ],
      "execution_count": 0,
      "outputs": []
    },
    {
      "cell_type": "code",
      "metadata": {
        "id": "uReG1gNVdO7r",
        "colab_type": "code",
        "outputId": "f30a12eb-8892-4aa1-c566-e7510e3ae5f8",
        "colab": {
          "base_uri": "https://localhost:8080/",
          "height": 304
        }
      },
      "source": [
        "df = pd.read_csv('/content/drive/My Drive/Novartis/Dataset/Train.csv')\n",
        "df.describe()"
      ],
      "execution_count": 2,
      "outputs": [
        {
          "output_type": "execute_result",
          "data": {
            "text/html": [
              "<div>\n",
              "<style scoped>\n",
              "    .dataframe tbody tr th:only-of-type {\n",
              "        vertical-align: middle;\n",
              "    }\n",
              "\n",
              "    .dataframe tbody tr th {\n",
              "        vertical-align: top;\n",
              "    }\n",
              "\n",
              "    .dataframe thead th {\n",
              "        text-align: right;\n",
              "    }\n",
              "</style>\n",
              "<table border=\"1\" class=\"dataframe\">\n",
              "  <thead>\n",
              "    <tr style=\"text-align: right;\">\n",
              "      <th></th>\n",
              "      <th>X_1</th>\n",
              "      <th>X_2</th>\n",
              "      <th>X_3</th>\n",
              "      <th>X_4</th>\n",
              "      <th>X_5</th>\n",
              "      <th>X_6</th>\n",
              "      <th>X_7</th>\n",
              "      <th>X_8</th>\n",
              "      <th>X_9</th>\n",
              "      <th>X_10</th>\n",
              "      <th>X_11</th>\n",
              "      <th>X_12</th>\n",
              "      <th>X_13</th>\n",
              "      <th>X_14</th>\n",
              "      <th>X_15</th>\n",
              "      <th>MULTIPLE_OFFENSE</th>\n",
              "    </tr>\n",
              "  </thead>\n",
              "  <tbody>\n",
              "    <tr>\n",
              "      <th>count</th>\n",
              "      <td>23856.000000</td>\n",
              "      <td>23856.000000</td>\n",
              "      <td>23856.000000</td>\n",
              "      <td>23856.000000</td>\n",
              "      <td>23856.000000</td>\n",
              "      <td>23856.000000</td>\n",
              "      <td>23856.000000</td>\n",
              "      <td>23856.000000</td>\n",
              "      <td>23856.000000</td>\n",
              "      <td>23856.000000</td>\n",
              "      <td>23856.000000</td>\n",
              "      <td>23674.000000</td>\n",
              "      <td>23856.000000</td>\n",
              "      <td>23856.000000</td>\n",
              "      <td>23856.000000</td>\n",
              "      <td>23856.000000</td>\n",
              "    </tr>\n",
              "    <tr>\n",
              "      <th>mean</th>\n",
              "      <td>0.483778</td>\n",
              "      <td>24.791206</td>\n",
              "      <td>24.637450</td>\n",
              "      <td>4.276744</td>\n",
              "      <td>2.455609</td>\n",
              "      <td>6.154175</td>\n",
              "      <td>4.876509</td>\n",
              "      <td>0.972460</td>\n",
              "      <td>4.924128</td>\n",
              "      <td>1.244802</td>\n",
              "      <td>206.954519</td>\n",
              "      <td>0.974064</td>\n",
              "      <td>85.237383</td>\n",
              "      <td>72.674296</td>\n",
              "      <td>33.464747</td>\n",
              "      <td>0.955231</td>\n",
              "    </tr>\n",
              "    <tr>\n",
              "      <th>std</th>\n",
              "      <td>1.439738</td>\n",
              "      <td>15.240231</td>\n",
              "      <td>15.135093</td>\n",
              "      <td>2.944672</td>\n",
              "      <td>1.963095</td>\n",
              "      <td>4.471756</td>\n",
              "      <td>3.881931</td>\n",
              "      <td>1.453144</td>\n",
              "      <td>1.362625</td>\n",
              "      <td>1.119301</td>\n",
              "      <td>93.033348</td>\n",
              "      <td>1.167725</td>\n",
              "      <td>27.597226</td>\n",
              "      <td>43.297320</td>\n",
              "      <td>8.386834</td>\n",
              "      <td>0.206800</td>\n",
              "    </tr>\n",
              "    <tr>\n",
              "      <th>min</th>\n",
              "      <td>0.000000</td>\n",
              "      <td>0.000000</td>\n",
              "      <td>0.000000</td>\n",
              "      <td>0.000000</td>\n",
              "      <td>0.000000</td>\n",
              "      <td>1.000000</td>\n",
              "      <td>0.000000</td>\n",
              "      <td>0.000000</td>\n",
              "      <td>0.000000</td>\n",
              "      <td>1.000000</td>\n",
              "      <td>0.000000</td>\n",
              "      <td>0.000000</td>\n",
              "      <td>0.000000</td>\n",
              "      <td>0.000000</td>\n",
              "      <td>0.000000</td>\n",
              "      <td>0.000000</td>\n",
              "    </tr>\n",
              "    <tr>\n",
              "      <th>25%</th>\n",
              "      <td>0.000000</td>\n",
              "      <td>7.000000</td>\n",
              "      <td>8.000000</td>\n",
              "      <td>2.000000</td>\n",
              "      <td>1.000000</td>\n",
              "      <td>3.000000</td>\n",
              "      <td>2.000000</td>\n",
              "      <td>0.000000</td>\n",
              "      <td>5.000000</td>\n",
              "      <td>1.000000</td>\n",
              "      <td>174.000000</td>\n",
              "      <td>1.000000</td>\n",
              "      <td>72.000000</td>\n",
              "      <td>29.000000</td>\n",
              "      <td>34.000000</td>\n",
              "      <td>1.000000</td>\n",
              "    </tr>\n",
              "    <tr>\n",
              "      <th>50%</th>\n",
              "      <td>0.000000</td>\n",
              "      <td>24.000000</td>\n",
              "      <td>24.000000</td>\n",
              "      <td>4.000000</td>\n",
              "      <td>3.000000</td>\n",
              "      <td>5.000000</td>\n",
              "      <td>4.000000</td>\n",
              "      <td>1.000000</td>\n",
              "      <td>5.000000</td>\n",
              "      <td>1.000000</td>\n",
              "      <td>249.000000</td>\n",
              "      <td>1.000000</td>\n",
              "      <td>98.000000</td>\n",
              "      <td>62.000000</td>\n",
              "      <td>34.000000</td>\n",
              "      <td>1.000000</td>\n",
              "    </tr>\n",
              "    <tr>\n",
              "      <th>75%</th>\n",
              "      <td>0.000000</td>\n",
              "      <td>36.000000</td>\n",
              "      <td>35.000000</td>\n",
              "      <td>6.000000</td>\n",
              "      <td>5.000000</td>\n",
              "      <td>8.000000</td>\n",
              "      <td>7.000000</td>\n",
              "      <td>1.000000</td>\n",
              "      <td>6.000000</td>\n",
              "      <td>1.000000</td>\n",
              "      <td>249.000000</td>\n",
              "      <td>1.000000</td>\n",
              "      <td>103.000000</td>\n",
              "      <td>107.000000</td>\n",
              "      <td>34.000000</td>\n",
              "      <td>1.000000</td>\n",
              "    </tr>\n",
              "    <tr>\n",
              "      <th>max</th>\n",
              "      <td>7.000000</td>\n",
              "      <td>52.000000</td>\n",
              "      <td>52.000000</td>\n",
              "      <td>10.000000</td>\n",
              "      <td>5.000000</td>\n",
              "      <td>19.000000</td>\n",
              "      <td>18.000000</td>\n",
              "      <td>99.000000</td>\n",
              "      <td>6.000000</td>\n",
              "      <td>90.000000</td>\n",
              "      <td>332.000000</td>\n",
              "      <td>90.000000</td>\n",
              "      <td>116.000000</td>\n",
              "      <td>142.000000</td>\n",
              "      <td>50.000000</td>\n",
              "      <td>1.000000</td>\n",
              "    </tr>\n",
              "  </tbody>\n",
              "</table>\n",
              "</div>"
            ],
            "text/plain": [
              "                X_1           X_2  ...          X_15  MULTIPLE_OFFENSE\n",
              "count  23856.000000  23856.000000  ...  23856.000000      23856.000000\n",
              "mean       0.483778     24.791206  ...     33.464747          0.955231\n",
              "std        1.439738     15.240231  ...      8.386834          0.206800\n",
              "min        0.000000      0.000000  ...      0.000000          0.000000\n",
              "25%        0.000000      7.000000  ...     34.000000          1.000000\n",
              "50%        0.000000     24.000000  ...     34.000000          1.000000\n",
              "75%        0.000000     36.000000  ...     34.000000          1.000000\n",
              "max        7.000000     52.000000  ...     50.000000          1.000000\n",
              "\n",
              "[8 rows x 16 columns]"
            ]
          },
          "metadata": {
            "tags": []
          },
          "execution_count": 2
        }
      ]
    },
    {
      "cell_type": "code",
      "metadata": {
        "id": "UqmekGxJm8t0",
        "colab_type": "code",
        "outputId": "86cfc703-f346-4e68-a6a6-d5390f6b0a65",
        "colab": {
          "base_uri": "https://localhost:8080/",
          "height": 336
        }
      },
      "source": [
        "df.isnull().sum()"
      ],
      "execution_count": 3,
      "outputs": [
        {
          "output_type": "execute_result",
          "data": {
            "text/plain": [
              "INCIDENT_ID           0\n",
              "DATE                  0\n",
              "X_1                   0\n",
              "X_2                   0\n",
              "X_3                   0\n",
              "X_4                   0\n",
              "X_5                   0\n",
              "X_6                   0\n",
              "X_7                   0\n",
              "X_8                   0\n",
              "X_9                   0\n",
              "X_10                  0\n",
              "X_11                  0\n",
              "X_12                182\n",
              "X_13                  0\n",
              "X_14                  0\n",
              "X_15                  0\n",
              "MULTIPLE_OFFENSE      0\n",
              "dtype: int64"
            ]
          },
          "metadata": {
            "tags": []
          },
          "execution_count": 3
        }
      ]
    },
    {
      "cell_type": "code",
      "metadata": {
        "id": "g_fg0J9YhFVl",
        "colab_type": "code",
        "outputId": "55ed8428-6fa2-434f-fcda-168bb3197998",
        "colab": {
          "base_uri": "https://localhost:8080/",
          "height": 336
        }
      },
      "source": [
        "value =  df['X_12'].mean()\n",
        "df['X_12'] = df['X_12'].replace(np.nan, value)\n",
        "df.isnull().sum()"
      ],
      "execution_count": 4,
      "outputs": [
        {
          "output_type": "execute_result",
          "data": {
            "text/plain": [
              "INCIDENT_ID         0\n",
              "DATE                0\n",
              "X_1                 0\n",
              "X_2                 0\n",
              "X_3                 0\n",
              "X_4                 0\n",
              "X_5                 0\n",
              "X_6                 0\n",
              "X_7                 0\n",
              "X_8                 0\n",
              "X_9                 0\n",
              "X_10                0\n",
              "X_11                0\n",
              "X_12                0\n",
              "X_13                0\n",
              "X_14                0\n",
              "X_15                0\n",
              "MULTIPLE_OFFENSE    0\n",
              "dtype: int64"
            ]
          },
          "metadata": {
            "tags": []
          },
          "execution_count": 4
        }
      ]
    },
    {
      "cell_type": "code",
      "metadata": {
        "id": "kIgJ0b_ed6-t",
        "colab_type": "code",
        "colab": {}
      },
      "source": [
        "X = df.loc[:,'X_1':'X_15']\n",
        "Y = df.loc[:,'MULTIPLE_OFFENSE']"
      ],
      "execution_count": 0,
      "outputs": []
    },
    {
      "cell_type": "code",
      "metadata": {
        "id": "LfboeIqufuSZ",
        "colab_type": "code",
        "colab": {}
      },
      "source": [
        "x_train, x_test, y_train, y_test = train_test_split(X, Y, test_size = 0.33, random_state=42)"
      ],
      "execution_count": 0,
      "outputs": []
    },
    {
      "cell_type": "code",
      "metadata": {
        "id": "ABhiMNF0QO_5",
        "colab_type": "code",
        "outputId": "843da59a-67c6-4a0e-fc96-f1fc356172f3",
        "colab": {
          "base_uri": "https://localhost:8080/",
          "height": 185
        }
      },
      "source": [
        "from sklearn.ensemble import GradientBoostingClassifier\n",
        "model = GradientBoostingClassifier(learning_rate=0.25, n_estimators=250, random_state=42)\n",
        "model.fit(x_train, y_train)"
      ],
      "execution_count": 39,
      "outputs": [
        {
          "output_type": "execute_result",
          "data": {
            "text/plain": [
              "GradientBoostingClassifier(ccp_alpha=0.0, criterion='friedman_mse', init=None,\n",
              "                           learning_rate=0.25, loss='deviance', max_depth=3,\n",
              "                           max_features=None, max_leaf_nodes=None,\n",
              "                           min_impurity_decrease=0.0, min_impurity_split=None,\n",
              "                           min_samples_leaf=1, min_samples_split=2,\n",
              "                           min_weight_fraction_leaf=0.0, n_estimators=250,\n",
              "                           n_iter_no_change=None, presort='deprecated',\n",
              "                           random_state=42, subsample=1.0, tol=0.0001,\n",
              "                           validation_fraction=0.1, verbose=0,\n",
              "                           warm_start=False)"
            ]
          },
          "metadata": {
            "tags": []
          },
          "execution_count": 39
        }
      ]
    },
    {
      "cell_type": "code",
      "metadata": {
        "id": "ZNvwLB4qgL8A",
        "colab_type": "code",
        "outputId": "3e1d94f7-f454-46ba-ab0d-d0a73fdb5cbe",
        "colab": {
          "base_uri": "https://localhost:8080/",
          "height": 168
        }
      },
      "source": [
        "p = model.predict(x_test)\n",
        "print(classification_report(y_test,p))"
      ],
      "execution_count": 40,
      "outputs": [
        {
          "output_type": "stream",
          "text": [
            "              precision    recall  f1-score   support\n",
            "\n",
            "           0       1.00      0.99      1.00       374\n",
            "           1       1.00      1.00      1.00      7499\n",
            "\n",
            "    accuracy                           1.00      7873\n",
            "   macro avg       1.00      1.00      1.00      7873\n",
            "weighted avg       1.00      1.00      1.00      7873\n",
            "\n"
          ],
          "name": "stdout"
        }
      ]
    },
    {
      "cell_type": "code",
      "metadata": {
        "id": "ovhqqNz2kczz",
        "colab_type": "code",
        "outputId": "bf67983e-3b5b-433b-eea1-0cc4a5873223",
        "colab": {
          "base_uri": "https://localhost:8080/",
          "height": 319
        }
      },
      "source": [
        "df_test = pd.read_csv('/content/drive/My Drive/Novartis/Dataset/Test.csv')\n",
        "df_test.isnull().sum()"
      ],
      "execution_count": 10,
      "outputs": [
        {
          "output_type": "execute_result",
          "data": {
            "text/plain": [
              "INCIDENT_ID      0\n",
              "DATE             0\n",
              "X_1              0\n",
              "X_2              0\n",
              "X_3              0\n",
              "X_4              0\n",
              "X_5              0\n",
              "X_6              0\n",
              "X_7              0\n",
              "X_8              0\n",
              "X_9              0\n",
              "X_10             0\n",
              "X_11             0\n",
              "X_12           127\n",
              "X_13             0\n",
              "X_14             0\n",
              "X_15             0\n",
              "dtype: int64"
            ]
          },
          "metadata": {
            "tags": []
          },
          "execution_count": 10
        }
      ]
    },
    {
      "cell_type": "code",
      "metadata": {
        "id": "4wTLnCbdn7y2",
        "colab_type": "code",
        "outputId": "2423165e-49e5-4b45-daa2-9574733234ca",
        "colab": {
          "base_uri": "https://localhost:8080/",
          "height": 319
        }
      },
      "source": [
        "df_test['X_12'] = df_test['X_12'].replace(np.nan, value)\n",
        "df_test.isnull().sum()"
      ],
      "execution_count": 11,
      "outputs": [
        {
          "output_type": "execute_result",
          "data": {
            "text/plain": [
              "INCIDENT_ID    0\n",
              "DATE           0\n",
              "X_1            0\n",
              "X_2            0\n",
              "X_3            0\n",
              "X_4            0\n",
              "X_5            0\n",
              "X_6            0\n",
              "X_7            0\n",
              "X_8            0\n",
              "X_9            0\n",
              "X_10           0\n",
              "X_11           0\n",
              "X_12           0\n",
              "X_13           0\n",
              "X_14           0\n",
              "X_15           0\n",
              "dtype: int64"
            ]
          },
          "metadata": {
            "tags": []
          },
          "execution_count": 11
        }
      ]
    },
    {
      "cell_type": "code",
      "metadata": {
        "id": "JA_upjtnoLQ0",
        "colab_type": "code",
        "colab": {}
      },
      "source": [
        "testInput = df_test.loc[:,'X_1':'X_15']\n",
        "out = model.predict(testInput)\n",
        "df_test['MULTIPLE_OFFENSE'] = out\n",
        "df_test.loc[:,['INCIDENT_ID', 'MULTIPLE_OFFENSE']].to_csv('submission.csv', index=False)"
      ],
      "execution_count": 0,
      "outputs": []
    }
  ]
}