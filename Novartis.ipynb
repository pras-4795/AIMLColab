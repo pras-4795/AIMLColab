{
  "nbformat": 4,
  "nbformat_minor": 0,
  "metadata": {
    "colab": {
      "name": "Novartis.ipynb",
      "provenance": [],
      "collapsed_sections": [],
      "mount_file_id": "1mp4zcdM1n-HAJyJ5aCkMBwFsfvj5iyuy",
      "authorship_tag": "ABX9TyNyClkWIsZzmPZyUwBxNkpY",
      "include_colab_link": true
    },
    "kernelspec": {
      "name": "python3",
      "display_name": "Python 3"
    }
  },
  "cells": [
    {
      "cell_type": "markdown",
      "metadata": {
        "id": "view-in-github",
        "colab_type": "text"
      },
      "source": [
        "<a href=\"https://colab.research.google.com/github/pras-4795/AIMLColab/blob/master/Novartis.ipynb\" target=\"_parent\"><img src=\"https://colab.research.google.com/assets/colab-badge.svg\" alt=\"Open In Colab\"/></a>"
      ]
    },
    {
      "cell_type": "code",
      "metadata": {
        "id": "e8dDPOAZc7Xo",
        "colab_type": "code",
        "colab": {}
      },
      "source": [
        "import pandas as pd\n",
        "import numpy as np\n",
        "\n",
        "from sklearn.model_selection import train_test_split\n",
        "from sklearn.ensemble import GradientBoostingClassifier\n",
        "from sklearn.metrics import classification_report"
      ],
      "execution_count": 0,
      "outputs": []
    },
    {
      "cell_type": "code",
      "metadata": {
        "id": "uReG1gNVdO7r",
        "colab_type": "code",
        "outputId": "ac8c7834-ee58-4b23-a143-4d63796126ba",
        "colab": {
          "base_uri": "https://localhost:8080/",
          "height": 304
        }
      },
      "source": [
        "df = pd.read_csv('/content/drive/My Drive/Novartis/Dataset/Train.csv')\n",
        "df.describe()"
      ],
      "execution_count": 2,
      "outputs": [
        {
          "output_type": "execute_result",
          "data": {
            "text/html": [
              "<div>\n",
              "<style scoped>\n",
              "    .dataframe tbody tr th:only-of-type {\n",
              "        vertical-align: middle;\n",
              "    }\n",
              "\n",
              "    .dataframe tbody tr th {\n",
              "        vertical-align: top;\n",
              "    }\n",
              "\n",
              "    .dataframe thead th {\n",
              "        text-align: right;\n",
              "    }\n",
              "</style>\n",
              "<table border=\"1\" class=\"dataframe\">\n",
              "  <thead>\n",
              "    <tr style=\"text-align: right;\">\n",
              "      <th></th>\n",
              "      <th>X_1</th>\n",
              "      <th>X_2</th>\n",
              "      <th>X_3</th>\n",
              "      <th>X_4</th>\n",
              "      <th>X_5</th>\n",
              "      <th>X_6</th>\n",
              "      <th>X_7</th>\n",
              "      <th>X_8</th>\n",
              "      <th>X_9</th>\n",
              "      <th>X_10</th>\n",
              "      <th>X_11</th>\n",
              "      <th>X_12</th>\n",
              "      <th>X_13</th>\n",
              "      <th>X_14</th>\n",
              "      <th>X_15</th>\n",
              "      <th>MULTIPLE_OFFENSE</th>\n",
              "    </tr>\n",
              "  </thead>\n",
              "  <tbody>\n",
              "    <tr>\n",
              "      <th>count</th>\n",
              "      <td>23856.000000</td>\n",
              "      <td>23856.000000</td>\n",
              "      <td>23856.000000</td>\n",
              "      <td>23856.000000</td>\n",
              "      <td>23856.000000</td>\n",
              "      <td>23856.000000</td>\n",
              "      <td>23856.000000</td>\n",
              "      <td>23856.000000</td>\n",
              "      <td>23856.000000</td>\n",
              "      <td>23856.000000</td>\n",
              "      <td>23856.000000</td>\n",
              "      <td>23674.000000</td>\n",
              "      <td>23856.000000</td>\n",
              "      <td>23856.000000</td>\n",
              "      <td>23856.000000</td>\n",
              "      <td>23856.000000</td>\n",
              "    </tr>\n",
              "    <tr>\n",
              "      <th>mean</th>\n",
              "      <td>0.483778</td>\n",
              "      <td>24.791206</td>\n",
              "      <td>24.637450</td>\n",
              "      <td>4.276744</td>\n",
              "      <td>2.455609</td>\n",
              "      <td>6.154175</td>\n",
              "      <td>4.876509</td>\n",
              "      <td>0.972460</td>\n",
              "      <td>4.924128</td>\n",
              "      <td>1.244802</td>\n",
              "      <td>206.954519</td>\n",
              "      <td>0.974064</td>\n",
              "      <td>85.237383</td>\n",
              "      <td>72.674296</td>\n",
              "      <td>33.464747</td>\n",
              "      <td>0.955231</td>\n",
              "    </tr>\n",
              "    <tr>\n",
              "      <th>std</th>\n",
              "      <td>1.439738</td>\n",
              "      <td>15.240231</td>\n",
              "      <td>15.135093</td>\n",
              "      <td>2.944672</td>\n",
              "      <td>1.963095</td>\n",
              "      <td>4.471756</td>\n",
              "      <td>3.881931</td>\n",
              "      <td>1.453144</td>\n",
              "      <td>1.362625</td>\n",
              "      <td>1.119301</td>\n",
              "      <td>93.033348</td>\n",
              "      <td>1.167725</td>\n",
              "      <td>27.597226</td>\n",
              "      <td>43.297320</td>\n",
              "      <td>8.386834</td>\n",
              "      <td>0.206800</td>\n",
              "    </tr>\n",
              "    <tr>\n",
              "      <th>min</th>\n",
              "      <td>0.000000</td>\n",
              "      <td>0.000000</td>\n",
              "      <td>0.000000</td>\n",
              "      <td>0.000000</td>\n",
              "      <td>0.000000</td>\n",
              "      <td>1.000000</td>\n",
              "      <td>0.000000</td>\n",
              "      <td>0.000000</td>\n",
              "      <td>0.000000</td>\n",
              "      <td>1.000000</td>\n",
              "      <td>0.000000</td>\n",
              "      <td>0.000000</td>\n",
              "      <td>0.000000</td>\n",
              "      <td>0.000000</td>\n",
              "      <td>0.000000</td>\n",
              "      <td>0.000000</td>\n",
              "    </tr>\n",
              "    <tr>\n",
              "      <th>25%</th>\n",
              "      <td>0.000000</td>\n",
              "      <td>7.000000</td>\n",
              "      <td>8.000000</td>\n",
              "      <td>2.000000</td>\n",
              "      <td>1.000000</td>\n",
              "      <td>3.000000</td>\n",
              "      <td>2.000000</td>\n",
              "      <td>0.000000</td>\n",
              "      <td>5.000000</td>\n",
              "      <td>1.000000</td>\n",
              "      <td>174.000000</td>\n",
              "      <td>1.000000</td>\n",
              "      <td>72.000000</td>\n",
              "      <td>29.000000</td>\n",
              "      <td>34.000000</td>\n",
              "      <td>1.000000</td>\n",
              "    </tr>\n",
              "    <tr>\n",
              "      <th>50%</th>\n",
              "      <td>0.000000</td>\n",
              "      <td>24.000000</td>\n",
              "      <td>24.000000</td>\n",
              "      <td>4.000000</td>\n",
              "      <td>3.000000</td>\n",
              "      <td>5.000000</td>\n",
              "      <td>4.000000</td>\n",
              "      <td>1.000000</td>\n",
              "      <td>5.000000</td>\n",
              "      <td>1.000000</td>\n",
              "      <td>249.000000</td>\n",
              "      <td>1.000000</td>\n",
              "      <td>98.000000</td>\n",
              "      <td>62.000000</td>\n",
              "      <td>34.000000</td>\n",
              "      <td>1.000000</td>\n",
              "    </tr>\n",
              "    <tr>\n",
              "      <th>75%</th>\n",
              "      <td>0.000000</td>\n",
              "      <td>36.000000</td>\n",
              "      <td>35.000000</td>\n",
              "      <td>6.000000</td>\n",
              "      <td>5.000000</td>\n",
              "      <td>8.000000</td>\n",
              "      <td>7.000000</td>\n",
              "      <td>1.000000</td>\n",
              "      <td>6.000000</td>\n",
              "      <td>1.000000</td>\n",
              "      <td>249.000000</td>\n",
              "      <td>1.000000</td>\n",
              "      <td>103.000000</td>\n",
              "      <td>107.000000</td>\n",
              "      <td>34.000000</td>\n",
              "      <td>1.000000</td>\n",
              "    </tr>\n",
              "    <tr>\n",
              "      <th>max</th>\n",
              "      <td>7.000000</td>\n",
              "      <td>52.000000</td>\n",
              "      <td>52.000000</td>\n",
              "      <td>10.000000</td>\n",
              "      <td>5.000000</td>\n",
              "      <td>19.000000</td>\n",
              "      <td>18.000000</td>\n",
              "      <td>99.000000</td>\n",
              "      <td>6.000000</td>\n",
              "      <td>90.000000</td>\n",
              "      <td>332.000000</td>\n",
              "      <td>90.000000</td>\n",
              "      <td>116.000000</td>\n",
              "      <td>142.000000</td>\n",
              "      <td>50.000000</td>\n",
              "      <td>1.000000</td>\n",
              "    </tr>\n",
              "  </tbody>\n",
              "</table>\n",
              "</div>"
            ],
            "text/plain": [
              "                X_1           X_2  ...          X_15  MULTIPLE_OFFENSE\n",
              "count  23856.000000  23856.000000  ...  23856.000000      23856.000000\n",
              "mean       0.483778     24.791206  ...     33.464747          0.955231\n",
              "std        1.439738     15.240231  ...      8.386834          0.206800\n",
              "min        0.000000      0.000000  ...      0.000000          0.000000\n",
              "25%        0.000000      7.000000  ...     34.000000          1.000000\n",
              "50%        0.000000     24.000000  ...     34.000000          1.000000\n",
              "75%        0.000000     36.000000  ...     34.000000          1.000000\n",
              "max        7.000000     52.000000  ...     50.000000          1.000000\n",
              "\n",
              "[8 rows x 16 columns]"
            ]
          },
          "metadata": {
            "tags": []
          },
          "execution_count": 2
        }
      ]
    },
    {
      "cell_type": "code",
      "metadata": {
        "id": "hlZ-Il6VqWBk",
        "colab_type": "code",
        "colab": {
          "base_uri": "https://localhost:8080/",
          "height": 437
        },
        "outputId": "ed7a085d-1972-4025-fafe-f0cb57486b02"
      },
      "source": [
        "df.info()"
      ],
      "execution_count": 3,
      "outputs": [
        {
          "output_type": "stream",
          "text": [
            "<class 'pandas.core.frame.DataFrame'>\n",
            "RangeIndex: 23856 entries, 0 to 23855\n",
            "Data columns (total 18 columns):\n",
            " #   Column            Non-Null Count  Dtype  \n",
            "---  ------            --------------  -----  \n",
            " 0   INCIDENT_ID       23856 non-null  object \n",
            " 1   DATE              23856 non-null  object \n",
            " 2   X_1               23856 non-null  int64  \n",
            " 3   X_2               23856 non-null  int64  \n",
            " 4   X_3               23856 non-null  int64  \n",
            " 5   X_4               23856 non-null  int64  \n",
            " 6   X_5               23856 non-null  int64  \n",
            " 7   X_6               23856 non-null  int64  \n",
            " 8   X_7               23856 non-null  int64  \n",
            " 9   X_8               23856 non-null  int64  \n",
            " 10  X_9               23856 non-null  int64  \n",
            " 11  X_10              23856 non-null  int64  \n",
            " 12  X_11              23856 non-null  int64  \n",
            " 13  X_12              23674 non-null  float64\n",
            " 14  X_13              23856 non-null  int64  \n",
            " 15  X_14              23856 non-null  int64  \n",
            " 16  X_15              23856 non-null  int64  \n",
            " 17  MULTIPLE_OFFENSE  23856 non-null  int64  \n",
            "dtypes: float64(1), int64(15), object(2)\n",
            "memory usage: 3.3+ MB\n"
          ],
          "name": "stdout"
        }
      ]
    },
    {
      "cell_type": "markdown",
      "metadata": {
        "id": "_XmZCmq-98nF",
        "colab_type": "text"
      },
      "source": [
        "Checking for null values"
      ]
    },
    {
      "cell_type": "code",
      "metadata": {
        "id": "UqmekGxJm8t0",
        "colab_type": "code",
        "outputId": "1e37bd95-dff0-451c-b1e4-2ac18d64df57",
        "colab": {
          "base_uri": "https://localhost:8080/",
          "height": 336
        }
      },
      "source": [
        "df.isnull().sum()"
      ],
      "execution_count": 4,
      "outputs": [
        {
          "output_type": "execute_result",
          "data": {
            "text/plain": [
              "INCIDENT_ID           0\n",
              "DATE                  0\n",
              "X_1                   0\n",
              "X_2                   0\n",
              "X_3                   0\n",
              "X_4                   0\n",
              "X_5                   0\n",
              "X_6                   0\n",
              "X_7                   0\n",
              "X_8                   0\n",
              "X_9                   0\n",
              "X_10                  0\n",
              "X_11                  0\n",
              "X_12                182\n",
              "X_13                  0\n",
              "X_14                  0\n",
              "X_15                  0\n",
              "MULTIPLE_OFFENSE      0\n",
              "dtype: int64"
            ]
          },
          "metadata": {
            "tags": []
          },
          "execution_count": 4
        }
      ]
    },
    {
      "cell_type": "code",
      "metadata": {
        "id": "YQkVx52WmeJz",
        "colab_type": "code",
        "colab": {}
      },
      "source": [
        "#df.loc[:,'DATE':'X_15'].hist(bins=25, figsize=(12, 50), layout=(8, 2));"
      ],
      "execution_count": 0,
      "outputs": []
    },
    {
      "cell_type": "markdown",
      "metadata": {
        "id": "F-G10k7Q-D8z",
        "colab_type": "text"
      },
      "source": [
        "Replacing the null values with mean value of the column. Replacing with medain does not show any  difference than replacing with mean."
      ]
    },
    {
      "cell_type": "code",
      "metadata": {
        "id": "g_fg0J9YhFVl",
        "colab_type": "code",
        "outputId": "7d410ad2-42c7-41e2-d1ef-3821a1aa4e17",
        "colab": {
          "base_uri": "https://localhost:8080/",
          "height": 336
        }
      },
      "source": [
        "value =  df['X_12'].mean()\n",
        "df['X_12'] = df['X_12'].replace(np.nan, value)\n",
        "df.isnull().sum()"
      ],
      "execution_count": 6,
      "outputs": [
        {
          "output_type": "execute_result",
          "data": {
            "text/plain": [
              "INCIDENT_ID         0\n",
              "DATE                0\n",
              "X_1                 0\n",
              "X_2                 0\n",
              "X_3                 0\n",
              "X_4                 0\n",
              "X_5                 0\n",
              "X_6                 0\n",
              "X_7                 0\n",
              "X_8                 0\n",
              "X_9                 0\n",
              "X_10                0\n",
              "X_11                0\n",
              "X_12                0\n",
              "X_13                0\n",
              "X_14                0\n",
              "X_15                0\n",
              "MULTIPLE_OFFENSE    0\n",
              "dtype: int64"
            ]
          },
          "metadata": {
            "tags": []
          },
          "execution_count": 6
        }
      ]
    },
    {
      "cell_type": "markdown",
      "metadata": {
        "id": "eIaHk8UB6KlI",
        "colab_type": "text"
      },
      "source": [
        "Most of the values are repeating, since the number of unique values in each column are not even 1% of total number of rows. Hence, we can assume all of them to be categorical variables."
      ]
    },
    {
      "cell_type": "code",
      "metadata": {
        "id": "Hqb6M9uO5say",
        "colab_type": "code",
        "colab": {
          "base_uri": "https://localhost:8080/",
          "height": 319
        },
        "outputId": "5bf5255d-ee10-4fd4-d0f7-d74cf213c432"
      },
      "source": [
        "for col in df:\n",
        "    print('{} : {}'.format(col, df[col].unique().size))"
      ],
      "execution_count": 18,
      "outputs": [
        {
          "output_type": "stream",
          "text": [
            "INCIDENT_ID : 23856\n",
            "DATE : 9121\n",
            "X_1 : 8\n",
            "X_2 : 52\n",
            "X_3 : 52\n",
            "X_4 : 10\n",
            "X_5 : 5\n",
            "X_6 : 19\n",
            "X_7 : 19\n",
            "X_8 : 24\n",
            "X_9 : 7\n",
            "X_10 : 24\n",
            "X_11 : 133\n",
            "X_12 : 24\n",
            "X_13 : 60\n",
            "X_14 : 62\n",
            "X_15 : 28\n",
            "MULTIPLE_OFFENSE : 2\n"
          ],
          "name": "stdout"
        }
      ]
    },
    {
      "cell_type": "markdown",
      "metadata": {
        "id": "TjDsd7mZCQGb",
        "colab_type": "text"
      },
      "source": [
        "We are ignoring date as it is not adding  much information."
      ]
    },
    {
      "cell_type": "code",
      "metadata": {
        "id": "kIgJ0b_ed6-t",
        "colab_type": "code",
        "colab": {}
      },
      "source": [
        "X = df.loc[:,'X_1':'X_15']\n",
        "Y = df.loc[:,'MULTIPLE_OFFENSE']"
      ],
      "execution_count": 0,
      "outputs": []
    },
    {
      "cell_type": "markdown",
      "metadata": {
        "id": "Qi4DtkuZ9bM1",
        "colab_type": "text"
      },
      "source": [
        "Splitting the data set into train and test sets for validation."
      ]
    },
    {
      "cell_type": "code",
      "metadata": {
        "id": "LfboeIqufuSZ",
        "colab_type": "code",
        "colab": {}
      },
      "source": [
        "x_train, x_test, y_train, y_test = train_test_split(X, Y, test_size = 0.33, random_state=42)"
      ],
      "execution_count": 0,
      "outputs": []
    },
    {
      "cell_type": "markdown",
      "metadata": {
        "id": "0fFMDGaP8dyS",
        "colab_type": "text"
      },
      "source": [
        "Gradient Boosting is better for unbalanced data, since we have more number of class 1 than of class 0 in MULTIPLE_OFFENSE labels."
      ]
    },
    {
      "cell_type": "code",
      "metadata": {
        "id": "ABhiMNF0QO_5",
        "colab_type": "code",
        "outputId": "892e85a0-6fc8-4d5f-f965-39199b2c1dc7",
        "colab": {
          "base_uri": "https://localhost:8080/",
          "height": 185
        }
      },
      "source": [
        "model = GradientBoostingClassifier(learning_rate=0.25, n_estimators=150, random_state=42)\n",
        "model.fit(x_train, y_train)"
      ],
      "execution_count": 9,
      "outputs": [
        {
          "output_type": "execute_result",
          "data": {
            "text/plain": [
              "GradientBoostingClassifier(ccp_alpha=0.0, criterion='friedman_mse', init=None,\n",
              "                           learning_rate=0.25, loss='deviance', max_depth=3,\n",
              "                           max_features=None, max_leaf_nodes=None,\n",
              "                           min_impurity_decrease=0.0, min_impurity_split=None,\n",
              "                           min_samples_leaf=1, min_samples_split=2,\n",
              "                           min_weight_fraction_leaf=0.0, n_estimators=150,\n",
              "                           n_iter_no_change=None, presort='deprecated',\n",
              "                           random_state=42, subsample=1.0, tol=0.0001,\n",
              "                           validation_fraction=0.1, verbose=0,\n",
              "                           warm_start=False)"
            ]
          },
          "metadata": {
            "tags": []
          },
          "execution_count": 9
        }
      ]
    },
    {
      "cell_type": "code",
      "metadata": {
        "id": "ZNvwLB4qgL8A",
        "colab_type": "code",
        "outputId": "b10c0fed-84b6-4c24-da1c-e9d11ea4de49",
        "colab": {
          "base_uri": "https://localhost:8080/",
          "height": 168
        }
      },
      "source": [
        "p = model.predict(x_test)\n",
        "print(classification_report(y_test,p))"
      ],
      "execution_count": 10,
      "outputs": [
        {
          "output_type": "stream",
          "text": [
            "              precision    recall  f1-score   support\n",
            "\n",
            "           0       1.00      0.99      1.00       374\n",
            "           1       1.00      1.00      1.00      7499\n",
            "\n",
            "    accuracy                           1.00      7873\n",
            "   macro avg       1.00      1.00      1.00      7873\n",
            "weighted avg       1.00      1.00      1.00      7873\n",
            "\n"
          ],
          "name": "stdout"
        }
      ]
    },
    {
      "cell_type": "markdown",
      "metadata": {
        "id": "CnjKyLa4CmY0",
        "colab_type": "text"
      },
      "source": [
        "Predicting the values in test.csv"
      ]
    },
    {
      "cell_type": "code",
      "metadata": {
        "id": "ovhqqNz2kczz",
        "colab_type": "code",
        "outputId": "c877a551-308f-470f-a50c-1b44128e8242",
        "colab": {
          "base_uri": "https://localhost:8080/",
          "height": 319
        }
      },
      "source": [
        "df_test = pd.read_csv('/content/drive/My Drive/Novartis/Dataset/Test.csv')\n",
        "df_test.isnull().sum()"
      ],
      "execution_count": 11,
      "outputs": [
        {
          "output_type": "execute_result",
          "data": {
            "text/plain": [
              "INCIDENT_ID      0\n",
              "DATE             0\n",
              "X_1              0\n",
              "X_2              0\n",
              "X_3              0\n",
              "X_4              0\n",
              "X_5              0\n",
              "X_6              0\n",
              "X_7              0\n",
              "X_8              0\n",
              "X_9              0\n",
              "X_10             0\n",
              "X_11             0\n",
              "X_12           127\n",
              "X_13             0\n",
              "X_14             0\n",
              "X_15             0\n",
              "dtype: int64"
            ]
          },
          "metadata": {
            "tags": []
          },
          "execution_count": 11
        }
      ]
    },
    {
      "cell_type": "markdown",
      "metadata": {
        "id": "U6PWvoWuCuiM",
        "colab_type": "text"
      },
      "source": [
        "Replacig null values."
      ]
    },
    {
      "cell_type": "code",
      "metadata": {
        "id": "4wTLnCbdn7y2",
        "colab_type": "code",
        "outputId": "ab8fe2a3-e3ee-451b-d6c9-845faa087d9e",
        "colab": {
          "base_uri": "https://localhost:8080/",
          "height": 319
        }
      },
      "source": [
        "df_test['X_12'] = df_test['X_12'].replace(np.nan, value)\n",
        "df_test.isnull().sum()"
      ],
      "execution_count": 12,
      "outputs": [
        {
          "output_type": "execute_result",
          "data": {
            "text/plain": [
              "INCIDENT_ID    0\n",
              "DATE           0\n",
              "X_1            0\n",
              "X_2            0\n",
              "X_3            0\n",
              "X_4            0\n",
              "X_5            0\n",
              "X_6            0\n",
              "X_7            0\n",
              "X_8            0\n",
              "X_9            0\n",
              "X_10           0\n",
              "X_11           0\n",
              "X_12           0\n",
              "X_13           0\n",
              "X_14           0\n",
              "X_15           0\n",
              "dtype: int64"
            ]
          },
          "metadata": {
            "tags": []
          },
          "execution_count": 12
        }
      ]
    },
    {
      "cell_type": "markdown",
      "metadata": {
        "id": "3t9pYWQMC0EY",
        "colab_type": "text"
      },
      "source": [
        "Predicting the values and writing them to submission.csv"
      ]
    },
    {
      "cell_type": "code",
      "metadata": {
        "id": "JA_upjtnoLQ0",
        "colab_type": "code",
        "colab": {}
      },
      "source": [
        "testInput = df_test.loc[:,'X_1':'X_15']\n",
        "out = model.predict(testInput)\n",
        "df_test['MULTIPLE_OFFENSE'] = out\n",
        "df_test.loc[:,['INCIDENT_ID', 'MULTIPLE_OFFENSE']].to_csv('submission.csv', index=False)"
      ],
      "execution_count": 0,
      "outputs": []
    }
  ]
}