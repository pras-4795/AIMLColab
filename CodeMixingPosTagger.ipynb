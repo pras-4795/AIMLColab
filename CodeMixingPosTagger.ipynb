{
  "nbformat": 4,
  "nbformat_minor": 0,
  "metadata": {
    "colab": {
      "name": "CodeMixingPosTagger.ipynb",
      "version": "0.3.2",
      "provenance": [],
      "include_colab_link": true
    },
    "kernelspec": {
      "name": "python3",
      "display_name": "Python 3"
    }
  },
  "cells": [
    {
      "cell_type": "markdown",
      "metadata": {
        "id": "view-in-github",
        "colab_type": "text"
      },
      "source": [
        "<a href=\"https://colab.research.google.com/github/pras-4795/AIMLColab/blob/master/CodeMixingPosTagger.ipynb\" target=\"_parent\"><img src=\"https://colab.research.google.com/assets/colab-badge.svg\" alt=\"Open In Colab\"/></a>"
      ]
    },
    {
      "cell_type": "code",
      "metadata": {
        "id": "O8oDysoD3msX",
        "colab_type": "code",
        "colab": {
          "base_uri": "https://localhost:8080/",
          "height": 34
        },
        "outputId": "edf7a563-ae99-4234-8454-ff79c483a1ec"
      },
      "source": [
        "from google.colab import drive\n",
        "drive.mount('/content/drive')"
      ],
      "execution_count": 1,
      "outputs": [
        {
          "output_type": "stream",
          "text": [
            "Drive already mounted at /content/drive; to attempt to forcibly remount, call drive.mount(\"/content/drive\", force_remount=True).\n"
          ],
          "name": "stdout"
        }
      ]
    },
    {
      "cell_type": "code",
      "metadata": {
        "id": "6wfrbNr_2Jcx",
        "colab_type": "code",
        "colab": {}
      },
      "source": [
        "from itertools import chain\n",
        "import nltk\n",
        "from sklearn.metrics import classification_report, confusion_matrix\n",
        "from sklearn.preprocessing import LabelBinarizer\n",
        "import sklearn\n",
        "import pycrfsuite\n",
        "import random\n",
        "\n",
        "def load_data(files):\n",
        "    data, sent = [], []\n",
        "    for file in files:\n",
        "        with open(file, 'r') as rf:\n",
        "            for line in rf:\n",
        "                if line.strip() != '':\n",
        "                    sent.append(line.strip().split('\\t'))\n",
        "                else:\n",
        "                    if len(sent) > 0:\n",
        "                        data.append(sent)\n",
        "                        sent = []\n",
        "    return data\n",
        "  \n",
        "  "
      ],
      "execution_count": 0,
      "outputs": []
    },
    {
      "cell_type": "code",
      "metadata": {
        "id": "sNqXu-ud2cYU",
        "colab_type": "code",
        "colab": {}
      },
      "source": [
        "fileB = ['/content/drive/My Drive/FB_BN_EN_CR.txt', '/content/drive/My Drive/TWT_BN_EN_CR.txt', '/content/drive/My Drive/WA_BN_EN_CR.txt']\n",
        "fileH = ['/content/drive/My Drive/FB_HI_EN_CR.txt', '/content/drive/My Drive/TWT_HI_EN_CR.txt', '/content/drive/My Drive/WA_HI_EN_CR.txt']\n",
        "fileT = ['/content/drive/My Drive/FB_TE_EN_CR.txt', '/content/drive/My Drive/TWT_TE_EN_CR.txt', '/content/drive/My Drive/WA_TE_EN_CR.txt']\n",
        "\n",
        "dataB = load_data(fileB)\n",
        "dataH = load_data(fileH)\n",
        "dataT = load_data(fileT)"
      ],
      "execution_count": 0,
      "outputs": []
    },
    {
      "cell_type": "code",
      "metadata": {
        "id": "8J0w3OxS2kaa",
        "colab_type": "code",
        "colab": {}
      },
      "source": [
        "## Here I'm using whole data to train the model\n",
        "random.seed(7)\n",
        "random.shuffle(dataB)\n",
        "train_sentsB = dataB[:]\n",
        "\n",
        "random.seed(7)\n",
        "random.shuffle(dataH)\n",
        "train_sentsH = dataH[:]\n",
        "\n",
        "random.seed(7)\n",
        "random.shuffle(dataT)\n",
        "train_sentsT = dataT[:]"
      ],
      "execution_count": 0,
      "outputs": []
    },
    {
      "cell_type": "code",
      "metadata": {
        "id": "NcU4XlxB5GBt",
        "colab_type": "code",
        "colab": {}
      },
      "source": [
        "def sent2features(sent): \n",
        "    return [features(sent, i) for i in range(len(sent))]\n",
        "  \n",
        "def sent2pos(sent):\n",
        "  return [pos_tag for token, language_label, pos_tag in sent]\n",
        "\n"
      ],
      "execution_count": 0,
      "outputs": []
    },
    {
      "cell_type": "code",
      "metadata": {
        "id": "ockLpxSY4Yxb",
        "colab_type": "code",
        "colab": {}
      },
      "source": [
        "def features(sentence, index):\n",
        "  return{\n",
        "  'word': sentence[index],\n",
        "  'is_first': index == 0,\n",
        "  'is_last': index == len(sentence) - 1,\n",
        "  'is_capitalized': sentence[index][0].upper() == sentence[index][0],\n",
        "  'is_all_caps': sentence[index][0].upper() == sentence[index],\n",
        "  'is_all_lower': sentence[index][0].lower() == sentence[index],\n",
        "  'prefix-1': sentence[index][0][0],\n",
        "  'prefix-2': sentence[index][0][:2],\n",
        "  'prefix-3': sentence[index][0][:3],\n",
        "  'suffix-1': sentence[index][0][-1],\n",
        "  'suffix-2': sentence[index][0][-2:],\n",
        "  'suffix-3': sentence[index][0][-3:],\n",
        "  'prev_word': '' if index == 0 else sentence[index - 1],\n",
        "  'next_word': '' if index == len(sentence) - 1 else sentence[index + 1],\n",
        "  'has_hyphen': '-' in sentence[index],\n",
        "  'is_numeric': sentence[index][0].isdigit(),\n",
        "  'capitals_inside': sentence[index][0][1:].lower() != sentence[index][0][1:]\n",
        "  }\n"
      ],
      "execution_count": 0,
      "outputs": []
    },
    {
      "cell_type": "code",
      "metadata": {
        "id": "d218bEr520yz",
        "colab_type": "code",
        "colab": {}
      },
      "source": [
        "X_trainB = [sent2features(sent) for sent in train_sentsB]\n",
        "y_trainB = [sent2pos(sent) for sent in train_sentsB]\n",
        "\n",
        "X_trainH = [sent2features(sent) for sent in train_sentsH]\n",
        "y_trainH = [sent2pos(sent) for sent in train_sentsH]\n",
        "\n",
        "X_trainT = [sent2features(sent) for sent in train_sentsT]\n",
        "y_trainT = [sent2pos(sent) for sent in train_sentsT]"
      ],
      "execution_count": 0,
      "outputs": []
    },
    {
      "cell_type": "code",
      "metadata": {
        "id": "7VpElMtZ3BQh",
        "colab_type": "code",
        "colab": {
          "base_uri": "https://localhost:8080/",
          "height": 34
        },
        "outputId": "af2595eb-baef-4cfd-d76c-8cbc27ddc1d9"
      },
      "source": [
        "## Telugu Lang Trainer\n",
        "trainerT = pycrfsuite.Trainer(verbose=False)\n",
        "\n",
        "for xseq, yseq in zip(X_trainT, y_trainT):\n",
        "    trainerT.append(xseq, yseq)\n",
        "    \n",
        "trainerT.set_params({\n",
        "    'c1': 1.0,   # coefficient for L1 penalty\n",
        "    'c2': 1e-3,  # coefficient for L2 penalty\n",
        "    'max_iterations': 50,  # stop earlier\n",
        "\n",
        "    # include transitions that are possible, but not observed\n",
        "    'feature.possible_transitions': True\n",
        "})\n",
        "\n",
        "trainerT.params()\n",
        "\n",
        "trainerT.train('Telugu.crfsuite')\n",
        "\n",
        "taggerT = pycrfsuite.Tagger()\n",
        "taggerT.open('Telugu.crfsuite')"
      ],
      "execution_count": 8,
      "outputs": [
        {
          "output_type": "execute_result",
          "data": {
            "text/plain": [
              "<contextlib.closing at 0x7fda19aad128>"
            ]
          },
          "metadata": {
            "tags": []
          },
          "execution_count": 8
        }
      ]
    },
    {
      "cell_type": "code",
      "metadata": {
        "id": "JFI0o57S-8uF",
        "colab_type": "code",
        "colab": {
          "base_uri": "https://localhost:8080/",
          "height": 34
        },
        "outputId": "5273fab2-66aa-4221-db1d-a4be7cfb10f0"
      },
      "source": [
        "## Hindi Lang Trainer\n",
        "trainerH = pycrfsuite.Trainer(verbose=False)\n",
        "\n",
        "for xseq, yseq in zip(X_trainH, y_trainH):\n",
        "    trainerH.append(xseq, yseq)\n",
        "    \n",
        "trainerH.set_params({\n",
        "    'c1': 1.0,   # coefficient for L1 penalty\n",
        "    'c2': 1e-3,  # coefficient for L2 penalty\n",
        "    'max_iterations': 50,  # stop earlier\n",
        "\n",
        "    # include transitions that are possible, but not observed\n",
        "    'feature.possible_transitions': True\n",
        "})\n",
        "\n",
        "trainerH.params()\n",
        "\n",
        "trainerH.train('Hindi.crfsuite')\n",
        "\n",
        "taggerH = pycrfsuite.Tagger()\n",
        "taggerH.open('Hindi.crfsuite')"
      ],
      "execution_count": 9,
      "outputs": [
        {
          "output_type": "execute_result",
          "data": {
            "text/plain": [
              "<contextlib.closing at 0x7fda19aad438>"
            ]
          },
          "metadata": {
            "tags": []
          },
          "execution_count": 9
        }
      ]
    },
    {
      "cell_type": "code",
      "metadata": {
        "id": "1AQI_tnh--Ai",
        "colab_type": "code",
        "colab": {
          "base_uri": "https://localhost:8080/",
          "height": 34
        },
        "outputId": "fb57dea0-a956-4770-b98d-857bbeafd8a9"
      },
      "source": [
        "## Bengali Lang Trainer\n",
        "trainerB = pycrfsuite.Trainer(verbose=False)\n",
        "\n",
        "for xseq, yseq in zip(X_trainB, y_trainB):\n",
        "    trainerB.append(xseq, yseq)\n",
        "    \n",
        "trainerB.set_params({\n",
        "    'c1': 1.0,   # coefficient for L1 penalty\n",
        "    'c2': 1e-3,  # coefficient for L2 penalty\n",
        "    'max_iterations': 50,  # stop earlier\n",
        "\n",
        "    # include transitions that are possible, but not observed\n",
        "    'feature.possible_transitions': True\n",
        "})\n",
        "\n",
        "trainerB.params()\n",
        "\n",
        "trainerB.train('Bengali.crfsuite')\n",
        "\n",
        "taggerB = pycrfsuite.Tagger()\n",
        "taggerB.open('Bengali.crfsuite')"
      ],
      "execution_count": 10,
      "outputs": [
        {
          "output_type": "execute_result",
          "data": {
            "text/plain": [
              "<contextlib.closing at 0x7fda19aad748>"
            ]
          },
          "metadata": {
            "tags": []
          },
          "execution_count": 10
        }
      ]
    },
    {
      "cell_type": "code",
      "metadata": {
        "id": "5oTk9Nh_APT6",
        "colab_type": "code",
        "colab": {}
      },
      "source": [
        "## use tagger to predict the values:\n",
        "## EX: print(tagger.tag(sent2features(example_sent)))"
      ],
      "execution_count": 0,
      "outputs": []
    }
  ]
}