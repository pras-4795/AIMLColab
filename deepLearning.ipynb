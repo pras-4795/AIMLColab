{
  "nbformat": 4,
  "nbformat_minor": 0,
  "metadata": {
    "colab": {
      "name": "Untitled1.ipynb",
      "version": "0.3.2",
      "provenance": [],
      "include_colab_link": true
    },
    "kernelspec": {
      "name": "python3",
      "display_name": "Python 3"
    },
    "accelerator": "GPU"
  },
  "cells": [
    {
      "cell_type": "markdown",
      "metadata": {
        "id": "view-in-github",
        "colab_type": "text"
      },
      "source": [
        "<a href=\"https://colab.research.google.com/github/pras-4795/AIMLColab/blob/master/deepLearning.ipynb\" target=\"_parent\"><img src=\"https://colab.research.google.com/assets/colab-badge.svg\" alt=\"Open In Colab\"/></a>"
      ]
    },
    {
      "cell_type": "code",
      "metadata": {
        "id": "hM5LBvP36GkH",
        "colab_type": "code",
        "colab": {
          "base_uri": "https://localhost:8080/",
          "height": 296
        },
        "outputId": "fbf149d3-203c-4f4d-d9ff-be386bbe9671"
      },
      "source": [
        "import numpy as np\n",
        "training_data = np.load('/content/drive/My Drive/training_data.npy')"
      ],
      "execution_count": 4,
      "outputs": [
        {
          "output_type": "error",
          "ename": "FileNotFoundError",
          "evalue": "ignored",
          "traceback": [
            "\u001b[0;31m---------------------------------------------------------------------------\u001b[0m",
            "\u001b[0;31mFileNotFoundError\u001b[0m                         Traceback (most recent call last)",
            "\u001b[0;32m<ipython-input-4-00d44aa32c0e>\u001b[0m in \u001b[0;36m<module>\u001b[0;34m()\u001b[0m\n\u001b[1;32m      1\u001b[0m \u001b[0;32mimport\u001b[0m \u001b[0mnumpy\u001b[0m \u001b[0;32mas\u001b[0m \u001b[0mnp\u001b[0m\u001b[0;34m\u001b[0m\u001b[0;34m\u001b[0m\u001b[0m\n\u001b[0;32m----> 2\u001b[0;31m \u001b[0mtraining_data\u001b[0m \u001b[0;34m=\u001b[0m \u001b[0mnp\u001b[0m\u001b[0;34m.\u001b[0m\u001b[0mload\u001b[0m\u001b[0;34m(\u001b[0m\u001b[0;34m'/content/drive/My Drive/training_data.npy'\u001b[0m\u001b[0;34m)\u001b[0m\u001b[0;34m\u001b[0m\u001b[0;34m\u001b[0m\u001b[0m\n\u001b[0m",
            "\u001b[0;32m/usr/local/lib/python3.6/dist-packages/numpy/lib/npyio.py\u001b[0m in \u001b[0;36mload\u001b[0;34m(file, mmap_mode, allow_pickle, fix_imports, encoding)\u001b[0m\n\u001b[1;32m    420\u001b[0m         \u001b[0mown_fid\u001b[0m \u001b[0;34m=\u001b[0m \u001b[0;32mFalse\u001b[0m\u001b[0;34m\u001b[0m\u001b[0;34m\u001b[0m\u001b[0m\n\u001b[1;32m    421\u001b[0m     \u001b[0;32melse\u001b[0m\u001b[0;34m:\u001b[0m\u001b[0;34m\u001b[0m\u001b[0;34m\u001b[0m\u001b[0m\n\u001b[0;32m--> 422\u001b[0;31m         \u001b[0mfid\u001b[0m \u001b[0;34m=\u001b[0m \u001b[0mopen\u001b[0m\u001b[0;34m(\u001b[0m\u001b[0mos_fspath\u001b[0m\u001b[0;34m(\u001b[0m\u001b[0mfile\u001b[0m\u001b[0;34m)\u001b[0m\u001b[0;34m,\u001b[0m \u001b[0;34m\"rb\"\u001b[0m\u001b[0;34m)\u001b[0m\u001b[0;34m\u001b[0m\u001b[0;34m\u001b[0m\u001b[0m\n\u001b[0m\u001b[1;32m    423\u001b[0m         \u001b[0mown_fid\u001b[0m \u001b[0;34m=\u001b[0m \u001b[0;32mTrue\u001b[0m\u001b[0;34m\u001b[0m\u001b[0;34m\u001b[0m\u001b[0m\n\u001b[1;32m    424\u001b[0m \u001b[0;34m\u001b[0m\u001b[0m\n",
            "\u001b[0;31mFileNotFoundError\u001b[0m: [Errno 2] No such file or directory: '/content/drive/My Drive/training_data.npy'"
          ]
        }
      ]
    },
    {
      "cell_type": "code",
      "metadata": {
        "id": "02DoKYTbOPJL",
        "colab_type": "code",
        "colab": {
          "base_uri": "https://localhost:8080/",
          "height": 121
        },
        "outputId": "1b5ff40b-9d87-4d10-cf3b-d5cdc9eabb47"
      },
      "source": [
        "from google.colab import drive\n",
        "drive.mount('/content/drive')"
      ],
      "execution_count": 5,
      "outputs": [
        {
          "output_type": "stream",
          "text": [
            "Go to this URL in a browser: https://accounts.google.com/o/oauth2/auth?client_id=947318989803-6bn6qk8qdgf4n4g3pfee6491hc0brc4i.apps.googleusercontent.com&redirect_uri=urn%3Aietf%3Awg%3Aoauth%3A2.0%3Aoob&scope=email%20https%3A%2F%2Fwww.googleapis.com%2Fauth%2Fdocs.test%20https%3A%2F%2Fwww.googleapis.com%2Fauth%2Fdrive%20https%3A%2F%2Fwww.googleapis.com%2Fauth%2Fdrive.photos.readonly%20https%3A%2F%2Fwww.googleapis.com%2Fauth%2Fpeopleapi.readonly&response_type=code\n",
            "\n",
            "Enter your authorization code:\n",
            "··········\n",
            "Mounted at /content/drive\n"
          ],
          "name": "stdout"
        }
      ]
    },
    {
      "cell_type": "code",
      "metadata": {
        "id": "51D_1aWeA4NG",
        "colab_type": "code",
        "outputId": "1e55045c-36d3-439a-8a6b-c5d1bc61efef",
        "colab": {
          "base_uri": "https://localhost:8080/",
          "height": 34
        }
      },
      "source": [
        "from keras import models\n",
        "from keras import layers\n",
        "from keras import optimizers"
      ],
      "execution_count": 0,
      "outputs": [
        {
          "output_type": "stream",
          "text": [
            "Using TensorFlow backend.\n"
          ],
          "name": "stderr"
        }
      ]
    },
    {
      "cell_type": "code",
      "metadata": {
        "id": "QgPeZLkFBsAY",
        "colab_type": "code",
        "colab": {}
      },
      "source": [
        "%matplotlib inline\n",
        "import matplotlib as mlp"
      ],
      "execution_count": 0,
      "outputs": []
    },
    {
      "cell_type": "code",
      "metadata": {
        "id": "-UVsWjluCfwA",
        "colab_type": "code",
        "colab": {}
      },
      "source": [
        "from sklearn.model_selection import train_test_split"
      ],
      "execution_count": 0,
      "outputs": []
    },
    {
      "cell_type": "code",
      "metadata": {
        "id": "J8_y90cRDd6A",
        "colab_type": "code",
        "colab": {}
      },
      "source": [
        "X_train, X_test, y_train, y_test = train_test_split(\n",
        "    training_data[0], training_data[1], test_size=0.2, random_state=42)"
      ],
      "execution_count": 0,
      "outputs": []
    },
    {
      "cell_type": "code",
      "metadata": {
        "id": "YiRlYijUDhyt",
        "colab_type": "code",
        "outputId": "400f33f7-cba3-431b-d695-f3d04b82742a",
        "colab": {
          "base_uri": "https://localhost:8080/",
          "height": 34
        }
      },
      "source": [
        "import tensorflow as tf\n",
        "device_name = tf.test.gpu_device_name()\n",
        "if device_name != '/device:GPU:0':\n",
        "  raise SystemError('GPU device not found')\n",
        "print('Found GPU at: {}'.format(device_name))"
      ],
      "execution_count": 1,
      "outputs": [
        {
          "output_type": "stream",
          "text": [
            "Found GPU at: /device:GPU:0\n"
          ],
          "name": "stdout"
        }
      ]
    },
    {
      "cell_type": "code",
      "metadata": {
        "id": "S16isnYHJ2kl",
        "colab_type": "code",
        "colab": {
          "base_uri": "https://localhost:8080/",
          "height": 706
        },
        "outputId": "af82ea3b-5f47-4b5f-85eb-534726723490"
      },
      "source": [
        "import numpy as np\n",
        "from keras import models\n",
        "from keras import layers\n",
        "\n",
        "from keras import optimizers\n",
        "from sklearn.utils import shuffle\n",
        "from sklearn.preprocessing import StandardScaler\n",
        "\n",
        "\n",
        "training_data = np.load('/content/drive/My Drive/training_data.npy')\n",
        "#X,y=shuffle(training_data[0],training_data[1])\n",
        "scaler = StandardScaler()\n",
        "training_data=scaler.fit_transform(training_data)\n",
        "X=training_data[0]\n",
        "y=training_data[1]\n",
        "#X=scaler.fit_transform(X)\n",
        "#y=scaler.fit_transform(y)\n",
        "model = models.Sequential()\n",
        "\n",
        "\n",
        "print(\"-------------Input Layer begin\")\n",
        "# The Input Layer :\n",
        "model.add(layers.Dense(10, kernel_initializer='normal',input_dim = 1, activation='relu'))\n",
        "\n",
        "# The Hidden Layers :\n",
        "model.add(layers.Dense(20, kernel_initializer='normal',activation='relu'))\n",
        "#model.add(layers.Dense(3, kernel_initializer='normal',activation='relu'))\n",
        "#model.add(layers.Dense(256, kernel_initializer='normal',activation='relu'))\n",
        "\n",
        "# The Output Layer :\n",
        "model.add(layers.Dense(1, kernel_initializer='normal',activation='tanh'))\n",
        "\n",
        "#compile model using mse as a measure of model performance\n",
        "print(\"-------------compiling\")\n",
        "model.compile(optimizer='RMSprop', loss='mean_squared_error')\n",
        "print(\"-------------summary\")\n",
        "model.summary()\n",
        "\n",
        "\n",
        "from keras.callbacks import EarlyStopping\n",
        "#set early stopping monitor so the model stops training when it won't improve anymore\n",
        "early_stopping_monitor = EarlyStopping(patience=3)\n",
        "#train model\n",
        "print(\"----------------model fitting\")\n",
        "model.fit(X, y, validation_split=0.2, epochs=30, callbacks=[early_stopping_monitor])\n"
      ],
      "execution_count": 30,
      "outputs": [
        {
          "output_type": "stream",
          "text": [
            "-------------Input Layer begin\n",
            "-------------compiling\n",
            "-------------summary\n",
            "_________________________________________________________________\n",
            "Layer (type)                 Output Shape              Param #   \n",
            "=================================================================\n",
            "dense_29 (Dense)             (None, 10)                20        \n",
            "_________________________________________________________________\n",
            "dense_30 (Dense)             (None, 20)                220       \n",
            "_________________________________________________________________\n",
            "dense_31 (Dense)             (None, 1)                 21        \n",
            "=================================================================\n",
            "Total params: 261\n",
            "Trainable params: 261\n",
            "Non-trainable params: 0\n",
            "_________________________________________________________________\n",
            "----------------model fitting\n",
            "Train on 800000 samples, validate on 200000 samples\n",
            "Epoch 1/30\n",
            "800000/800000 [==============================] - 107s 133us/step - loss: 0.0057 - val_loss: 4.0906e-07\n",
            "Epoch 2/30\n",
            "800000/800000 [==============================] - 104s 130us/step - loss: 3.7571e-06 - val_loss: 1.2861e-09\n",
            "Epoch 3/30\n",
            "800000/800000 [==============================] - 101s 126us/step - loss: 2.7085e-06 - val_loss: 6.6231e-08\n",
            "Epoch 4/30\n",
            "800000/800000 [==============================] - 103s 128us/step - loss: 1.8434e-06 - val_loss: 7.8059e-10\n",
            "Epoch 5/30\n",
            "800000/800000 [==============================] - 102s 127us/step - loss: 1.1398e-06 - val_loss: 1.0721e-10\n",
            "Epoch 6/30\n",
            "800000/800000 [==============================] - 101s 126us/step - loss: 6.3669e-07 - val_loss: 1.3985e-06\n",
            "Epoch 7/30\n",
            "800000/800000 [==============================] - 100s 125us/step - loss: 2.6507e-07 - val_loss: 9.9340e-08\n",
            "Epoch 8/30\n",
            "800000/800000 [==============================] - 98s 123us/step - loss: 5.7800e-08 - val_loss: 2.1572e-11\n",
            "Epoch 9/30\n",
            "800000/800000 [==============================] - 101s 126us/step - loss: 1.9954e-08 - val_loss: 2.2075e-09\n",
            "Epoch 10/30\n",
            "800000/800000 [==============================] - 98s 123us/step - loss: 1.2274e-08 - val_loss: 1.4093e-09\n",
            "Epoch 11/30\n",
            "800000/800000 [==============================] - 98s 123us/step - loss: 9.4064e-09 - val_loss: 4.7784e-09\n"
          ],
          "name": "stdout"
        },
        {
          "output_type": "execute_result",
          "data": {
            "text/plain": [
              "<keras.callbacks.History at 0x7efbcc42aba8>"
            ]
          },
          "metadata": {
            "tags": []
          },
          "execution_count": 30
        }
      ]
    }
  ]
}