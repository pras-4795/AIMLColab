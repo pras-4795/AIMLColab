{
  "nbformat": 4,
  "nbformat_minor": 0,
  "metadata": {
    "colab": {
      "name": "assg_2_code_AI0051.ipynb",
      "version": "0.3.2",
      "provenance": [],
      "collapsed_sections": [],
      "include_colab_link": true
    },
    "kernelspec": {
      "name": "python3",
      "display_name": "Python 3"
    },
    "accelerator": "GPU"
  },
  "cells": [
    {
      "cell_type": "markdown",
      "metadata": {
        "id": "view-in-github",
        "colab_type": "text"
      },
      "source": [
        "<a href=\"https://colab.research.google.com/github/pras-4795/AIMLColab/blob/master/assg_2_code_AI0051.ipynb\" target=\"_parent\"><img src=\"https://colab.research.google.com/assets/colab-badge.svg\" alt=\"Open In Colab\"/></a>"
      ]
    },
    {
      "cell_type": "code",
      "metadata": {
        "id": "SFysnypza-8Y",
        "colab_type": "code",
        "outputId": "db3a1a53-70af-4c40-e3cc-7a805c280a05",
        "colab": {
          "base_uri": "https://localhost:8080/",
          "height": 34
        }
      },
      "source": [
        "from google.colab import drive\n",
        "drive.mount('/content/drive')"
      ],
      "execution_count": 0,
      "outputs": [
        {
          "output_type": "stream",
          "text": [
            "Drive already mounted at /content/drive; to attempt to forcibly remount, call drive.mount(\"/content/drive\", force_remount=True).\n"
          ],
          "name": "stdout"
        }
      ]
    },
    {
      "cell_type": "code",
      "metadata": {
        "id": "8IstFv_DpAQ4",
        "colab_type": "code",
        "outputId": "ba62a696-2de8-4716-9570-7de237c7233a",
        "colab": {
          "base_uri": "https://localhost:8080/",
          "height": 34
        }
      },
      "source": [
        "import numpy as np\n",
        "import matplotlib.pyplot as plt\n",
        "from keras.models import Sequential\n",
        "from keras.layers import Dense\n",
        "from keras.layers import Conv2D, Flatten, MaxPooling2D, Dropout\n",
        "from keras.utils import to_categorical\n",
        "from sklearn.model_selection import train_test_split\n",
        "\n",
        "train = np.load(\"/content/drive/My Drive/training_data.npy\")\n",
        "\n",
        "label = np.load(\"/content/drive/My Drive/training_label.npy\")\n",
        "\n",
        "test = np.load(\"/content/drive/My Drive/testing_data.npy\")"
      ],
      "execution_count": 0,
      "outputs": [
        {
          "output_type": "stream",
          "text": [
            "Using TensorFlow backend.\n"
          ],
          "name": "stderr"
        }
      ]
    },
    {
      "cell_type": "code",
      "metadata": {
        "id": "ijO716o2pP9_",
        "colab_type": "code",
        "colab": {}
      },
      "source": [
        "num_classes = 10\n",
        "\n",
        "label_cat = to_categorical(label, num_classes)\n",
        "\n",
        "X_train, X_test, y_train, y_test = train_test_split(train, label_cat, test_size=0.2, random_state=42)"
      ],
      "execution_count": 0,
      "outputs": []
    },
    {
      "cell_type": "code",
      "metadata": {
        "id": "ArYg50tlphTv",
        "colab_type": "code",
        "outputId": "b912a8b0-305f-48c0-fd52-9e892e9bd408",
        "colab": {
          "base_uri": "https://localhost:8080/",
          "height": 1000
        }
      },
      "source": [
        "model = Sequential()\n",
        "#add model layers\n",
        "\n",
        "#we are adding 2 Convlution layers, max pooling, dropouts(regularize)\n",
        "model.add(Conv2D(16, (5, 5), activation='relu', input_shape=(28,28,1)))\n",
        "model.add(MaxPooling2D(2, 2))\n",
        "model.add(Dropout(0.2))\n",
        "model.add(Conv2D(32, (3, 3), activation='relu'))\n",
        "model.add(MaxPooling2D(2, 2))\n",
        "model.add(Dropout(0.2))\n",
        "model.add(Flatten())\n",
        "model.add(Dense(64, activation='relu'))\n",
        "model.add(Dense(32, activation='relu'))\n",
        "model.add(Dense(num_classes, activation='softmax'))\n",
        "\n",
        "model.compile(optimizer= 'adam', loss='categorical_crossentropy', metrics=['accuracy'])\n",
        "\n",
        "print(model.output_shape)\n",
        "\n",
        "md = model.fit(X_train, y_train, epochs=40, batch_size=64, validation_data=(X_test, y_test))"
      ],
      "execution_count": 0,
      "outputs": [
        {
          "output_type": "stream",
          "text": [
            "WARNING: Logging before flag parsing goes to stderr.\n",
            "W0721 16:28:29.549361 140423699588992 deprecation_wrapper.py:119] From /usr/local/lib/python3.6/dist-packages/keras/backend/tensorflow_backend.py:74: The name tf.get_default_graph is deprecated. Please use tf.compat.v1.get_default_graph instead.\n",
            "\n",
            "W0721 16:28:29.568893 140423699588992 deprecation_wrapper.py:119] From /usr/local/lib/python3.6/dist-packages/keras/backend/tensorflow_backend.py:517: The name tf.placeholder is deprecated. Please use tf.compat.v1.placeholder instead.\n",
            "\n",
            "W0721 16:28:29.571925 140423699588992 deprecation_wrapper.py:119] From /usr/local/lib/python3.6/dist-packages/keras/backend/tensorflow_backend.py:4138: The name tf.random_uniform is deprecated. Please use tf.random.uniform instead.\n",
            "\n",
            "W0721 16:28:29.587109 140423699588992 deprecation_wrapper.py:119] From /usr/local/lib/python3.6/dist-packages/keras/backend/tensorflow_backend.py:3976: The name tf.nn.max_pool is deprecated. Please use tf.nn.max_pool2d instead.\n",
            "\n",
            "W0721 16:28:29.589598 140423699588992 deprecation_wrapper.py:119] From /usr/local/lib/python3.6/dist-packages/keras/backend/tensorflow_backend.py:133: The name tf.placeholder_with_default is deprecated. Please use tf.compat.v1.placeholder_with_default instead.\n",
            "\n",
            "W0721 16:28:29.599764 140423699588992 deprecation.py:506] From /usr/local/lib/python3.6/dist-packages/keras/backend/tensorflow_backend.py:3445: calling dropout (from tensorflow.python.ops.nn_ops) with keep_prob is deprecated and will be removed in a future version.\n",
            "Instructions for updating:\n",
            "Please use `rate` instead of `keep_prob`. Rate should be set to `rate = 1 - keep_prob`.\n",
            "W0721 16:28:29.682771 140423699588992 deprecation_wrapper.py:119] From /usr/local/lib/python3.6/dist-packages/keras/optimizers.py:790: The name tf.train.Optimizer is deprecated. Please use tf.compat.v1.train.Optimizer instead.\n",
            "\n",
            "W0721 16:28:29.704947 140423699588992 deprecation_wrapper.py:119] From /usr/local/lib/python3.6/dist-packages/keras/backend/tensorflow_backend.py:3295: The name tf.log is deprecated. Please use tf.math.log instead.\n",
            "\n",
            "W0721 16:28:29.795184 140423699588992 deprecation.py:323] From /usr/local/lib/python3.6/dist-packages/tensorflow/python/ops/math_grad.py:1250: add_dispatch_support.<locals>.wrapper (from tensorflow.python.ops.array_ops) is deprecated and will be removed in a future version.\n",
            "Instructions for updating:\n",
            "Use tf.where in 2.0, which has the same broadcast rule as np.where\n"
          ],
          "name": "stderr"
        },
        {
          "output_type": "stream",
          "text": [
            "(None, 10)\n",
            "Train on 48000 samples, validate on 12000 samples\n",
            "Epoch 1/40\n",
            "48000/48000 [==============================] - 7s 136us/step - loss: 0.6908 - acc: 0.7437 - val_loss: 0.4754 - val_acc: 0.8253\n",
            "Epoch 2/40\n",
            "48000/48000 [==============================] - 4s 78us/step - loss: 0.4581 - acc: 0.8322 - val_loss: 0.3995 - val_acc: 0.8558\n",
            "Epoch 3/40\n",
            "48000/48000 [==============================] - 4s 78us/step - loss: 0.3937 - acc: 0.8561 - val_loss: 0.3457 - val_acc: 0.8726\n",
            "Epoch 4/40\n",
            "48000/48000 [==============================] - 4s 79us/step - loss: 0.3596 - acc: 0.8679 - val_loss: 0.3148 - val_acc: 0.8842\n",
            "Epoch 5/40\n",
            "48000/48000 [==============================] - 4s 80us/step - loss: 0.3326 - acc: 0.8792 - val_loss: 0.3143 - val_acc: 0.8822\n",
            "Epoch 6/40\n",
            "48000/48000 [==============================] - 4s 79us/step - loss: 0.3162 - acc: 0.8840 - val_loss: 0.2909 - val_acc: 0.8934\n",
            "Epoch 7/40\n",
            "48000/48000 [==============================] - 4s 78us/step - loss: 0.3027 - acc: 0.8879 - val_loss: 0.2864 - val_acc: 0.8946\n",
            "Epoch 8/40\n",
            "48000/48000 [==============================] - 4s 78us/step - loss: 0.2860 - acc: 0.8935 - val_loss: 0.2719 - val_acc: 0.9025\n",
            "Epoch 9/40\n",
            "48000/48000 [==============================] - 4s 78us/step - loss: 0.2798 - acc: 0.8967 - val_loss: 0.2690 - val_acc: 0.9010\n",
            "Epoch 10/40\n",
            "48000/48000 [==============================] - 4s 78us/step - loss: 0.2738 - acc: 0.8970 - val_loss: 0.2645 - val_acc: 0.9044\n",
            "Epoch 11/40\n",
            "48000/48000 [==============================] - 4s 78us/step - loss: 0.2636 - acc: 0.9008 - val_loss: 0.2687 - val_acc: 0.9027\n",
            "Epoch 12/40\n",
            "48000/48000 [==============================] - 4s 78us/step - loss: 0.2595 - acc: 0.9027 - val_loss: 0.2572 - val_acc: 0.9062\n",
            "Epoch 13/40\n",
            "48000/48000 [==============================] - 4s 78us/step - loss: 0.2504 - acc: 0.9074 - val_loss: 0.2557 - val_acc: 0.9050\n",
            "Epoch 14/40\n",
            "48000/48000 [==============================] - 4s 78us/step - loss: 0.2442 - acc: 0.9090 - val_loss: 0.2456 - val_acc: 0.9105\n",
            "Epoch 15/40\n",
            "48000/48000 [==============================] - 4s 78us/step - loss: 0.2393 - acc: 0.9096 - val_loss: 0.2462 - val_acc: 0.9116\n",
            "Epoch 16/40\n",
            "48000/48000 [==============================] - 4s 78us/step - loss: 0.2357 - acc: 0.9109 - val_loss: 0.2424 - val_acc: 0.9118\n",
            "Epoch 17/40\n",
            "48000/48000 [==============================] - 4s 79us/step - loss: 0.2332 - acc: 0.9120 - val_loss: 0.2522 - val_acc: 0.9077\n",
            "Epoch 18/40\n",
            "48000/48000 [==============================] - 4s 79us/step - loss: 0.2285 - acc: 0.9127 - val_loss: 0.2494 - val_acc: 0.9088\n",
            "Epoch 19/40\n",
            "48000/48000 [==============================] - 4s 78us/step - loss: 0.2253 - acc: 0.9150 - val_loss: 0.2409 - val_acc: 0.9109\n",
            "Epoch 20/40\n",
            "48000/48000 [==============================] - 4s 78us/step - loss: 0.2191 - acc: 0.9171 - val_loss: 0.2396 - val_acc: 0.9142\n",
            "Epoch 21/40\n",
            "48000/48000 [==============================] - 4s 78us/step - loss: 0.2166 - acc: 0.9182 - val_loss: 0.2457 - val_acc: 0.9115\n",
            "Epoch 22/40\n",
            "48000/48000 [==============================] - 4s 79us/step - loss: 0.2177 - acc: 0.9177 - val_loss: 0.2370 - val_acc: 0.9136\n",
            "Epoch 23/40\n",
            "48000/48000 [==============================] - 4s 83us/step - loss: 0.2122 - acc: 0.9201 - val_loss: 0.2414 - val_acc: 0.9116\n",
            "Epoch 24/40\n",
            "48000/48000 [==============================] - 4s 83us/step - loss: 0.2117 - acc: 0.9193 - val_loss: 0.2442 - val_acc: 0.9088\n",
            "Epoch 25/40\n",
            "48000/48000 [==============================] - 4s 80us/step - loss: 0.2083 - acc: 0.9200 - val_loss: 0.2310 - val_acc: 0.9159\n",
            "Epoch 26/40\n",
            "48000/48000 [==============================] - 4s 79us/step - loss: 0.2047 - acc: 0.9221 - val_loss: 0.2468 - val_acc: 0.9084\n",
            "Epoch 27/40\n",
            "48000/48000 [==============================] - 4s 78us/step - loss: 0.2017 - acc: 0.9238 - val_loss: 0.2384 - val_acc: 0.9119\n",
            "Epoch 28/40\n",
            "48000/48000 [==============================] - 4s 78us/step - loss: 0.1967 - acc: 0.9250 - val_loss: 0.2383 - val_acc: 0.9147\n",
            "Epoch 29/40\n",
            "48000/48000 [==============================] - 4s 78us/step - loss: 0.1990 - acc: 0.9236 - val_loss: 0.2304 - val_acc: 0.9154\n",
            "Epoch 30/40\n",
            "48000/48000 [==============================] - 4s 78us/step - loss: 0.1953 - acc: 0.9253 - val_loss: 0.2374 - val_acc: 0.9137\n",
            "Epoch 31/40\n",
            "48000/48000 [==============================] - 4s 78us/step - loss: 0.1937 - acc: 0.9254 - val_loss: 0.2326 - val_acc: 0.9167\n",
            "Epoch 32/40\n",
            "48000/48000 [==============================] - 4s 79us/step - loss: 0.1918 - acc: 0.9260 - val_loss: 0.2306 - val_acc: 0.9177\n",
            "Epoch 33/40\n",
            "48000/48000 [==============================] - 4s 78us/step - loss: 0.1877 - acc: 0.9275 - val_loss: 0.2434 - val_acc: 0.9121\n",
            "Epoch 34/40\n",
            "48000/48000 [==============================] - 4s 78us/step - loss: 0.1858 - acc: 0.9296 - val_loss: 0.2360 - val_acc: 0.9146\n",
            "Epoch 35/40\n",
            "48000/48000 [==============================] - 4s 78us/step - loss: 0.1887 - acc: 0.9282 - val_loss: 0.2386 - val_acc: 0.9131\n",
            "Epoch 36/40\n",
            "48000/48000 [==============================] - 4s 79us/step - loss: 0.1854 - acc: 0.9292 - val_loss: 0.2378 - val_acc: 0.9161\n",
            "Epoch 37/40\n",
            "48000/48000 [==============================] - 4s 80us/step - loss: 0.1846 - acc: 0.9274 - val_loss: 0.2560 - val_acc: 0.9063\n",
            "Epoch 38/40\n",
            "48000/48000 [==============================] - 4s 80us/step - loss: 0.1844 - acc: 0.9293 - val_loss: 0.2366 - val_acc: 0.9147\n",
            "Epoch 39/40\n",
            "48000/48000 [==============================] - 4s 79us/step - loss: 0.1805 - acc: 0.9305 - val_loss: 0.2382 - val_acc: 0.9153\n",
            "Epoch 40/40\n",
            "48000/48000 [==============================] - 4s 80us/step - loss: 0.1815 - acc: 0.9306 - val_loss: 0.2473 - val_acc: 0.9106\n"
          ],
          "name": "stdout"
        }
      ]
    },
    {
      "cell_type": "code",
      "metadata": {
        "id": "cYhfZuIxpluU",
        "colab_type": "code",
        "outputId": "766902a5-6091-4953-96be-a61667de905f",
        "colab": {
          "base_uri": "https://localhost:8080/",
          "height": 312
        }
      },
      "source": [
        "print(md.history.keys())\n",
        "\n",
        "#Calculating error from accuracy\n",
        "error = [1 - x for x in md.history['acc']]\n",
        "val_error = [1 - x for x in md.history['val_acc']]\n",
        "\n",
        "# summarize error for graph\n",
        "plt.plot(error)\n",
        "plt.plot(val_error)\n",
        "plt.title('model error')\n",
        "plt.ylabel('error')\n",
        "plt.xlabel('epoch')\n",
        "plt.legend(['train', 'validation'], loc='upper left')\n",
        "plt.show()\n"
      ],
      "execution_count": 0,
      "outputs": [
        {
          "output_type": "stream",
          "text": [
            "dict_keys(['val_loss', 'val_acc', 'loss', 'acc'])\n"
          ],
          "name": "stdout"
        },
        {
          "output_type": "display_data",
          "data": {
            "image/png": "[encoded data removed]",
            "text/plain": [
              "<Figure size 432x288 with 1 Axes>"
            ]
          },
          "metadata": {
            "tags": []
          }
        }
      ]
    },
    {
      "cell_type": "code",
      "metadata": {
        "id": "LRF5vzEaztvN",
        "colab_type": "code",
        "colab": {}
      },
      "source": [
        "model.save(\"assg_2_model_AI0051.h5\")\n",
        "\n",
        "op = model.predict(test)\n",
        "np.save(\"labels_1_2_AI0051.npy\", op)"
      ],
      "execution_count": 0,
      "outputs": []
    }
  ]
}