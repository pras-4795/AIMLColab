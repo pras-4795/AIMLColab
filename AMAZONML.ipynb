{
  "nbformat": 4,
  "nbformat_minor": 0,
  "metadata": {
    "colab": {
      "name": "AMAZONML.ipynb",
      "version": "0.3.2",
      "provenance": [],
      "collapsed_sections": [],
      "include_colab_link": true
    },
    "kernelspec": {
      "name": "python3",
      "display_name": "Python 3"
    },
    "accelerator": "GPU"
  },
  "cells": [
    {
      "cell_type": "markdown",
      "metadata": {
        "id": "view-in-github",
        "colab_type": "text"
      },
      "source": [
        "<a href=\"https://colab.research.google.com/github/pras-4795/AIMLColab/blob/master/AMAZONML.ipynb\" target=\"_parent\"><img src=\"https://colab.research.google.com/assets/colab-badge.svg\" alt=\"Open In Colab\"/></a>"
      ]
    },
    {
      "cell_type": "code",
      "metadata": {
        "id": "YDmogvI1locX",
        "colab_type": "code",
        "outputId": "8fbe3d8d-9512-4ec7-cfa7-25043b815754",
        "colab": {
          "base_uri": "https://localhost:8080/",
          "height": 34
        }
      },
      "source": [
        "from google.colab import drive\n",
        "drive.mount('/content/drive')"
      ],
      "execution_count": 1,
      "outputs": [
        {
          "output_type": "stream",
          "text": [
            "Drive already mounted at /content/drive; to attempt to forcibly remount, call drive.mount(\"/content/drive\", force_remount=True).\n"
          ],
          "name": "stdout"
        }
      ]
    },
    {
      "cell_type": "code",
      "metadata": {
        "id": "VwgPE_Zkl3Xe",
        "colab_type": "code",
        "colab": {}
      },
      "source": [
        "import pandas as pd\n",
        "\n",
        "df = pd.read_csv('/content/drive/My Drive/Dataset/train.csv')"
      ],
      "execution_count": 0,
      "outputs": []
    },
    {
      "cell_type": "markdown",
      "metadata": {
        "id": "3QXyagqaTeCM",
        "colab_type": "text"
      },
      "source": [
        "Clean the data by converting all values other than alphabets\n",
        "\n",
        "Remove Frequently used words,\n",
        "\n",
        "Perform stemming on remaining words"
      ]
    },
    {
      "cell_type": "code",
      "metadata": {
        "id": "ye6YMZbMrfHr",
        "colab_type": "code",
        "colab": {}
      },
      "source": [
        "from nltk.tokenize import word_tokenize\n",
        "from nltk.corpus import stopwords\n",
        "from nltk.stem.porter import PorterStemmer\n",
        "import re\n",
        "import nltk\n",
        "\n",
        "stemmer = PorterStemmer()\n",
        "\n",
        "def process_text(text):\n",
        "    # Make all the strings lowercase and remove non alphabetic characters\n",
        "    text = re.sub('[^A-Za-z]', ' ', text.lower())\n",
        "\n",
        "    # Tokenize the text; this is, separate every sentence into a list of words\n",
        "    # Since the text is already split into sentences you don't have to call sent_tokenize\n",
        "    tokenized_text = word_tokenize(text)\n",
        "\n",
        "    # Remove the stopwords and stem each word to its root\n",
        "    clean_text = [\n",
        "        stemmer.stem(word) for word in tokenized_text\n",
        "        if word not in stopwords.words('english')\n",
        "    ]\n",
        "\n",
        "    # Remember, this final output is a list of words\n",
        "    return clean_text"
      ],
      "execution_count": 0,
      "outputs": []
    },
    {
      "cell_type": "markdown",
      "metadata": {
        "id": "KgIYt7OmWo6j",
        "colab_type": "text"
      },
      "source": [
        "Downloading punkt and stopwords corpus to facilitate cleaning of data"
      ]
    },
    {
      "cell_type": "code",
      "metadata": {
        "id": "c-kxIAyzNJZX",
        "colab_type": "code",
        "outputId": "b08b0fcb-9629-48a7-fe88-14e43cf71865",
        "colab": {
          "base_uri": "https://localhost:8080/",
          "height": 101
        }
      },
      "source": [
        "nltk.download('punkt')\n",
        "nltk.download('stopwords')"
      ],
      "execution_count": 4,
      "outputs": [
        {
          "output_type": "stream",
          "text": [
            "[nltk_data] Downloading package punkt to /root/nltk_data...\n",
            "[nltk_data]   Package punkt is already up-to-date!\n",
            "[nltk_data] Downloading package stopwords to /root/nltk_data...\n",
            "[nltk_data]   Package stopwords is already up-to-date!\n"
          ],
          "name": "stdout"
        },
        {
          "output_type": "execute_result",
          "data": {
            "text/plain": [
              "True"
            ]
          },
          "metadata": {
            "tags": []
          },
          "execution_count": 4
        }
      ]
    },
    {
      "cell_type": "markdown",
      "metadata": {
        "id": "YC_Zg1V1XC_5",
        "colab_type": "text"
      },
      "source": [
        "split the data frame into labels and features, here texts is the input features and topics is the label"
      ]
    },
    {
      "cell_type": "code",
      "metadata": {
        "id": "Ohs5Ei8Gs7m8",
        "colab_type": "code",
        "colab": {}
      },
      "source": [
        "# Remove the first row, since it only has the labels\n",
        "reviews =df.copy()\n",
        "\n",
        "texts = [row[1][0] for row in reviews.iterrows()]\n",
        "topics = [row[1][2] for row in reviews.iterrows()]\n",
        "\n",
        "# Process the texts to so they are ready for training\n",
        "# But transform the list of words back to string format to feed it to sklearn\n",
        "texts = [\" \".join(process_text(text)) for text in texts]"
      ],
      "execution_count": 0,
      "outputs": []
    },
    {
      "cell_type": "markdown",
      "metadata": {
        "id": "arULsqF6XLyt",
        "colab_type": "text"
      },
      "source": [
        "Convert each sentence into 750 dimenssion vector usiing TFIDF "
      ]
    },
    {
      "cell_type": "code",
      "metadata": {
        "id": "_gWNUCV7vNqd",
        "colab_type": "code",
        "colab": {}
      },
      "source": [
        "from sklearn.feature_extraction.text import TfidfVectorizer\n",
        "matrix = TfidfVectorizer(max_features=750)\n",
        "vectors = matrix.fit_transform(texts)"
      ],
      "execution_count": 0,
      "outputs": []
    },
    {
      "cell_type": "code",
      "metadata": {
        "id": "ynHwlkyQQT1a",
        "colab_type": "code",
        "colab": {
          "base_uri": "https://localhost:8080/",
          "height": 502
        },
        "outputId": "d6209e01-bc71-46ac-aae1-2906746145cd"
      },
      "source": [
        "import matplotlib.pyplot as plt\n",
        "\n",
        "gk = []\n",
        "k = reviews.topic.unique()\n",
        "for i in k:\n",
        "  gk.append(topics.count(i))\n",
        "\n",
        "plt.figure(figsize=(15,8))\n",
        "plt.bar(k,gk)"
      ],
      "execution_count": 7,
      "outputs": [
        {
          "output_type": "execute_result",
          "data": {
            "text/plain": [
              "<BarContainer object of 21 artists>"
            ]
          },
          "metadata": {
            "tags": []
          },
          "execution_count": 7
        },
        {
          "output_type": "display_data",
          "data": {
            "image/png": "[encoded data removed]",
            "text/plain": [
              "<Figure size 1080x576 with 1 Axes>"
            ]
          },
          "metadata": {
            "tags": []
          }
        }
      ]
    },
    {
      "cell_type": "markdown",
      "metadata": {
        "id": "z70JW4qoXWYS",
        "colab_type": "text"
      },
      "source": [
        "The graph tell us that there are few samples that have very less data, hence  we oversamle the data using SMOTE, and then undersample the data using Tomek"
      ]
    },
    {
      "cell_type": "code",
      "metadata": {
        "id": "RZLoBgYfvRcc",
        "colab_type": "code",
        "outputId": "faf2a1c4-8218-45ac-e709-9217bd74e427",
        "colab": {
          "base_uri": "https://localhost:8080/",
          "height": 70
        }
      },
      "source": [
        "from sklearn.model_selection import train_test_split\n",
        "from imblearn.over_sampling import SMOTE\n",
        "from imblearn.combine import SMOTETomek\n",
        "\n",
        "sm = SMOTE(random_state=40, k_neighbors=1)\n",
        "\n",
        "smote_tomek = SMOTETomek(random_state=0, smote=sm)\n",
        "\n",
        "X_train_res, y_train_res = smote_tomek.fit_resample(vectors, topics)\n",
        "\n",
        "vectors_train, vectors_test, topics_train, topics_test = train_test_split(X_train_res, y_train_res, random_state = 40)"
      ],
      "execution_count": 8,
      "outputs": [
        {
          "output_type": "stream",
          "text": [
            "/usr/local/lib/python3.6/dist-packages/sklearn/externals/six.py:31: DeprecationWarning: The module is deprecated in version 0.21 and will be removed in version 0.23 since we've dropped support for Python 2.7. Please rely on the official version of six (https://pypi.org/project/six/).\n",
            "  \"(https://pypi.org/project/six/).\", DeprecationWarning)\n"
          ],
          "name": "stderr"
        }
      ]
    },
    {
      "cell_type": "markdown",
      "metadata": {
        "id": "oP54yBokY4ET",
        "colab_type": "text"
      },
      "source": [
        "I am using XGBoost to train the data with default sklearn parameters, the classification reports gives us precision, recall, f1 score of each label."
      ]
    },
    {
      "cell_type": "code",
      "metadata": {
        "id": "WzZdZbBHvUpF",
        "colab_type": "code",
        "outputId": "1da8717e-9370-472e-95e3-5bbb31fdf0de",
        "colab": {
          "base_uri": "https://localhost:8080/",
          "height": 487
        }
      },
      "source": [
        "from xgboost import XGBClassifier\n",
        "classifierXGB = XGBClassifier(silent=0)\n",
        "classifierXGB.fit(vectors_train, topics_train)\n",
        "\n",
        "# Predict with the testing set\n",
        "topics_pred = classifierXGB.predict(vectors_test)\n",
        "\n",
        "# ...and measure the accuracy of the results\n",
        "from sklearn.metrics import classification_report\n",
        "print(classification_report(topics_test, topics_pred))"
      ],
      "execution_count": 9,
      "outputs": [
        {
          "output_type": "stream",
          "text": [
            "                         precision    recall  f1-score   support\n",
            "\n",
            "               Allergic       0.74      0.61      0.67       274\n",
            "       Bad Taste/Flavor       0.62      0.42      0.50       300\n",
            "      Color and texture       0.66      0.85      0.74       281\n",
            "        Customer Issues       1.00      1.00      1.00       304\n",
            "       Customer Service       0.71      0.69      0.70       292\n",
            "            Didn't Like       0.96      0.99      0.97       296\n",
            "                 Expiry       0.92      0.96      0.94       313\n",
            "    False Advertisement       0.97      1.00      0.99       302\n",
            "           Hard to Chew       1.00      1.00      1.00       306\n",
            "Inferior to competitors       0.95      0.99      0.97       273\n",
            "            Ingredients       0.80      0.72      0.76       319\n",
            "          Not Effective       0.67      0.73      0.70       278\n",
            "              Packaging       0.76      0.74      0.75       314\n",
            "                Pricing       0.89      0.96      0.92       290\n",
            "   Quality/Contaminated       0.56      0.50      0.53       278\n",
            "  Shipment and delivery       0.78      0.78      0.78       295\n",
            "             Smells Bad       0.87      0.93      0.90       313\n",
            "                Texture       0.72      0.62      0.67       318\n",
            "              Too Sweet       0.83      0.97      0.89       263\n",
            "     Too big to swallow       0.84      0.91      0.88       290\n",
            " Wrong Product received       0.92      0.96      0.94       305\n",
            "\n",
            "               accuracy                           0.83      6204\n",
            "              macro avg       0.82      0.83      0.82      6204\n",
            "           weighted avg       0.82      0.83      0.82      6204\n",
            "\n"
          ],
          "name": "stdout"
        }
      ]
    },
    {
      "cell_type": "markdown",
      "metadata": {
        "id": "lcA6Au9XZQPo",
        "colab_type": "text"
      },
      "source": [
        "Read the test Data"
      ]
    },
    {
      "cell_type": "code",
      "metadata": {
        "id": "yEIbu2uXnR17",
        "colab_type": "code",
        "colab": {}
      },
      "source": [
        "test = pd.read_csv('/content/drive/My Drive/Dataset/test.csv')"
      ],
      "execution_count": 0,
      "outputs": []
    },
    {
      "cell_type": "markdown",
      "metadata": {
        "id": "RqMDZG_RZSyJ",
        "colab_type": "text"
      },
      "source": [
        "Filter the data similar to the train data"
      ]
    },
    {
      "cell_type": "code",
      "metadata": {
        "id": "3fEzUEJeMHhT",
        "colab_type": "code",
        "colab": {}
      },
      "source": [
        "# Remove the first row, since it only has the labels\n",
        "reviews =test.copy()\n",
        "\n",
        "texts = [row[1][0] for row in reviews.iterrows()]\n",
        "#topics = [row[1][2] for row in reviews.iterrows()]\n",
        "\n",
        "# Process the texts to so they are ready for training\n",
        "# But transform the list of words back to string format to feed it to sklearn\n",
        "texts = [\" \".join(process_text(text)) for text in texts]"
      ],
      "execution_count": 0,
      "outputs": []
    },
    {
      "cell_type": "markdown",
      "metadata": {
        "id": "w9Xatuk_Zmf4",
        "colab_type": "text"
      },
      "source": [
        "Transform the test statements using previously trained TFIDF vector, predict the output, then submit it in CSV format"
      ]
    },
    {
      "cell_type": "code",
      "metadata": {
        "id": "7RAiwk_CrZDK",
        "colab_type": "code",
        "colab": {}
      },
      "source": [
        "v = matrix.transform(texts)\n",
        "xg = classifierXGB.predict(v)\n",
        "testxgb = test.copy()\n",
        "testxgb['topic'] = xg\n",
        "testxgb.to_csv('submission.csv', index=False)"
      ],
      "execution_count": 0,
      "outputs": []
    }
  ]
}