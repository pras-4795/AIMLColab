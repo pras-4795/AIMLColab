{
  "nbformat": 4,
  "nbformat_minor": 0,
  "metadata": {
    "colab": {
      "name": "PrasanthParaselli_AI0051_assignment2.ipynb",
      "version": "0.3.2",
      "provenance": [],
      "collapsed_sections": [],
      "include_colab_link": true
    },
    "kernelspec": {
      "name": "python3",
      "display_name": "Python 3"
    }
  },
  "cells": [
    {
      "cell_type": "markdown",
      "metadata": {
        "id": "view-in-github",
        "colab_type": "text"
      },
      "source": [
        "<a href=\"https://colab.research.google.com/github/pras-4795/AIMLColab/blob/master/PrasanthParaselli_AI0051_assignment2.ipynb\" target=\"_parent\"><img src=\"https://colab.research.google.com/assets/colab-badge.svg\" alt=\"Open In Colab\"/></a>"
      ]
    },
    {
      "cell_type": "markdown",
      "metadata": {
        "id": "cI8tDJfRO2f_",
        "colab_type": "text"
      },
      "source": [
        "DL Quiz"
      ]
    },
    {
      "cell_type": "markdown",
      "metadata": {
        "id": "MoML4JkuK2oY",
        "colab_type": "text"
      },
      "source": [
        "1) output is 75.0"
      ]
    },
    {
      "cell_type": "code",
      "metadata": {
        "id": "8ykahHpC2zWM",
        "colab_type": "code",
        "outputId": "ee2a735e-3a0b-4cf7-d436-e0be8e72f9eb",
        "colab": {
          "base_uri": "https://localhost:8080/",
          "height": 34
        }
      },
      "source": [
        "import tensorflow as tf\n",
        "a = tf.constant(10, dtype= 'float32') \n",
        "b = tf.Variable(a*2)\n",
        "model = tf.global_variables_initializer()\n",
        "with tf.Session() as sess:\n",
        "    sess.run(model)\n",
        "    print(sess.run(b))"
      ],
      "execution_count": 0,
      "outputs": [
        {
          "output_type": "stream",
          "text": [
            "20.0\n"
          ],
          "name": "stdout"
        }
      ]
    },
    {
      "cell_type": "markdown",
      "metadata": {
        "id": "YPOVQtO06Vkp",
        "colab_type": "text"
      },
      "source": [
        "3)  A placeholder is simply a variable that we will assign data to at a later date. It allows us to create our operations and build our computation graph, without needing the data"
      ]
    },
    {
      "cell_type": "markdown",
      "metadata": {
        "id": "Hb1JxKof90mU",
        "colab_type": "text"
      },
      "source": [
        "4) W and b should be variables, x and y should be place holders since we need to feed data to x and y, W and b can be variables since they have to be initialized with constant values."
      ]
    },
    {
      "cell_type": "markdown",
      "metadata": {
        "id": "0tgzmkmwFqOl",
        "colab_type": "text"
      },
      "source": [
        "5) error is x is initialized with 2,4 array instead of 3,4 array"
      ]
    },
    {
      "cell_type": "markdown",
      "metadata": {
        "id": "A2YeH_wSJLL9",
        "colab_type": "text"
      },
      "source": [
        "6) Shape of data is (32, 32, 3)"
      ]
    },
    {
      "cell_type": "markdown",
      "metadata": {
        "id": "0qHAa_e6O0N_",
        "colab_type": "text"
      },
      "source": [
        "DL Test"
      ]
    },
    {
      "cell_type": "code",
      "metadata": {
        "id": "628UhHkUeCRq",
        "colab_type": "code",
        "outputId": "8e546926-4c8e-4999-85bd-9f5380a96016",
        "colab": {
          "base_uri": "https://localhost:8080/",
          "height": 1000
        }
      },
      "source": [
        "import numpy as np\n",
        "\n",
        "X = tf.placeholder(\"float\", shape=(None,4,3))\n",
        "NORMALIZED_MATRIX = (X - tf.math.reduce_mean(X))/(tf.math.reduce_std(X))\n",
        "\n",
        "shape = tf.placeholder(\"float\", None)\n",
        "BATCHES_COMBINED_TENSOR = tf.reshape(X, [-1,3])\n",
        "\n",
        "dimension = tf.placeholder(\"int32\", None)\n",
        "MATRIX_SUM = tf.reduce_sum(X, dimension)\n",
        "\n",
        "SOFT_MAX = tf.nn.softmax(tf.reduce_sum(X, dimension))\n",
        "\n",
        "MAX_VALUE_INDEX = tf.math.argmax(tf.nn.softmax(tf.reduce_sum(X, dimension)))\n",
        "\n",
        "model = tf.global_variables_initializer()\n",
        "\n",
        "with tf.Session() as sess:\n",
        "    sess.run(model)\n",
        "    data1 = np.random.randint(10, size=(4,3))\n",
        "    data2 = np.random.randint(10, size=(4,3))\n",
        "    data3 = np.random.randint(10, size=(4,3))\n",
        "    data4 = np.random.randint(10, size=(4,3))\n",
        "    print(\"--------------------------------------------------------------------------------------------------\")\n",
        "    print(\"Input Data\")\n",
        "    print(\"--------------------------------------------------------------------------------------------------\")\n",
        "    print(data1)\n",
        "    print(data2)\n",
        "    print(data3)\n",
        "    print(data4)\n",
        "    print(\"--------------------------------------------------------------------------------------------------\")\n",
        "    print(\"NORMALIZED_MATRIX\")\n",
        "    print(\"--------------------------------------------------------------------------------------------------\")\n",
        "    print(sess.run(NORMALIZED_MATRIX, feed_dict = {X : [data1, data2, data3, data4] } ))\n",
        "    print(\"--------------------------------------------------------------------------------------------------\")\n",
        "    print(\"BATCHES_COMBINED_TENSOR\")\n",
        "    print(\"--------------------------------------------------------------------------------------------------\")\n",
        "    print(sess.run(BATCHES_COMBINED_TENSOR, feed_dict = {X : [data1, data2, data3, data4] } ))\n",
        "    print(\"--------------------------------------------------------------------------------------------------\")\n",
        "    print(\"MATRIX SUM\")\n",
        "    print(\"--------------------------------------------------------------------------------------------------\")\n",
        "    print(sess.run(MATRIX_SUM, feed_dict = {X : [data1, data2, data3, data4], dimension: [1,2]  } ))\n",
        "    print(\"--------------------------------------------------------------------------------------------------\")\n",
        "    print(\"SOFT MAX\")\n",
        "    print(\"--------------------------------------------------------------------------------------------------\")\n",
        "    print(sess.run(SOFT_MAX, feed_dict = {X : [data1, data2, data3, data4], dimension: [1,2]  } ))\n",
        "    print(\"--------------------------------------------------------------------------------------------------\")\n",
        "    print(\"MAX_VALUE_INDEX\")\n",
        "    print(\"--------------------------------------------------------------------------------------------------\")\n",
        "    print(sess.run(MAX_VALUE_INDEX, feed_dict = {X : [data1, data2, data3, data4], dimension: [1,2]  } ))\n",
        "    print(\"--------------------------------------------------------------------------------------------------\")\n",
        "    \n",
        "tf.reset_default_graph()\n",
        "\n"
      ],
      "execution_count": 0,
      "outputs": [
        {
          "output_type": "stream",
          "text": [
            "--------------------------------------------------------------------------------------------------\n",
            "Input Data\n",
            "--------------------------------------------------------------------------------------------------\n",
            "[[1 4 0]\n",
            " [0 5 7]\n",
            " [9 2 8]\n",
            " [5 9 1]]\n",
            "[[1 2 8]\n",
            " [4 3 1]\n",
            " [9 3 0]\n",
            " [2 7 3]]\n",
            "[[0 4 9]\n",
            " [1 6 6]\n",
            " [8 6 3]\n",
            " [0 8 1]]\n",
            "[[6 9 7]\n",
            " [5 0 4]\n",
            " [7 5 9]\n",
            " [8 9 6]]\n",
            "--------------------------------------------------------------------------------------------------\n",
            "NORMALIZED_MATRIX\n",
            "--------------------------------------------------------------------------------------------------\n",
            "[[[-1.1598728  -0.19442949 -1.4816872 ]\n",
            "  [-1.4816872   0.12738493  0.77101374]\n",
            "  [ 1.4146426  -0.83805835  1.0928282 ]\n",
            "  [ 0.12738493  1.4146426  -1.1598728 ]]\n",
            "\n",
            " [[-1.1598728  -0.83805835  1.0928282 ]\n",
            "  [-0.19442949 -0.51624393 -1.1598728 ]\n",
            "  [ 1.4146426  -0.51624393 -1.4816872 ]\n",
            "  [-0.83805835  0.77101374 -0.51624393]]\n",
            "\n",
            " [[-1.4816872  -0.19442949  1.4146426 ]\n",
            "  [-1.1598728   0.44919935  0.44919935]\n",
            "  [ 1.0928282   0.44919935 -0.51624393]\n",
            "  [-1.4816872   1.0928282  -1.1598728 ]]\n",
            "\n",
            " [[ 0.44919935  1.4146426   0.77101374]\n",
            "  [ 0.12738493 -1.4816872  -0.19442949]\n",
            "  [ 0.77101374  0.12738493  1.4146426 ]\n",
            "  [ 1.0928282   1.4146426   0.44919935]]]\n",
            "--------------------------------------------------------------------------------------------------\n",
            "BATCHES_COMBINED_TENSOR\n",
            "--------------------------------------------------------------------------------------------------\n",
            "[[1. 4. 0.]\n",
            " [0. 5. 7.]\n",
            " [9. 2. 8.]\n",
            " [5. 9. 1.]\n",
            " [1. 2. 8.]\n",
            " [4. 3. 1.]\n",
            " [9. 3. 0.]\n",
            " [2. 7. 3.]\n",
            " [0. 4. 9.]\n",
            " [1. 6. 6.]\n",
            " [8. 6. 3.]\n",
            " [0. 8. 1.]\n",
            " [6. 9. 7.]\n",
            " [5. 0. 4.]\n",
            " [7. 5. 9.]\n",
            " [8. 9. 6.]]\n",
            "--------------------------------------------------------------------------------------------------\n",
            "MATRIX SUM\n",
            "--------------------------------------------------------------------------------------------------\n",
            "[51. 43. 52. 75.]\n",
            "--------------------------------------------------------------------------------------------------\n",
            "SOFT MAX\n",
            "--------------------------------------------------------------------------------------------------\n",
            "[3.77513437e-11 1.26641658e-14 1.02618795e-10 1.00000000e+00]\n",
            "--------------------------------------------------------------------------------------------------\n",
            "MAX_VALUE_INDEX\n",
            "--------------------------------------------------------------------------------------------------\n",
            "3\n",
            "--------------------------------------------------------------------------------------------------\n"
          ],
          "name": "stdout"
        }
      ]
    },
    {
      "cell_type": "code",
      "metadata": {
        "id": "NWJFUeg-gRFn",
        "colab_type": "code",
        "outputId": "06bf60be-e781-4707-eaab-c9c695c99f88",
        "colab": {
          "base_uri": "https://localhost:8080/",
          "height": 168
        }
      },
      "source": [
        "rand = np.random.normal(0.5,0.3,4)\n",
        "\n",
        "X = tf.constant([[2.0],[4.0]] , \"float32\")\n",
        "\n",
        "W = tf.constant([[rand[0], rand[1]], [rand[2], rand[3]]])\n",
        "\n",
        "b = tf.constant([[1.0],[1.0]])\n",
        "\n",
        "f = tf.matmul(W,X) + b\n",
        "\n",
        "g = (tf.math.exp(f) - tf.math.exp(-f))/(tf.math.exp(f) + tf.math.exp(-f)) + (1/(1+tf.math.exp(-f)))\n",
        "\n",
        "model = tf.global_variables_initializer()\n",
        "\n",
        "with tf.Session() as sess:\n",
        "    sess.run(model)\n",
        "    print(\"--------------------------------------------------------------------------------------------------\")\n",
        "    print(\"When X,W,b are constants\")\n",
        "    print(\"F Value\")\n",
        "    print(sess.run(f))\n",
        "    print(\"--------------------------------------------------------------------------------------------------\")\n",
        "    print(\"( exp^(f) - exp^(-f) )/( exp^(f) + exp^(-f) ) + (1 / ( 1 + exp^(-f) )) value is:\")\n",
        "    print(sess.run(g))\n",
        "    \n",
        "tf.reset_default_graph()"
      ],
      "execution_count": 0,
      "outputs": [
        {
          "output_type": "stream",
          "text": [
            "--------------------------------------------------------------------------------------------------\n",
            "When X,W,b are constants\n",
            "F Value\n",
            "[[3.9333248]\n",
            " [3.6269264]]\n",
            "--------------------------------------------------------------------------------------------------\n",
            "( exp^(f) - exp^(-f) )/( exp^(f) + exp^(-f) ) + (1 / ( 1 + exp^(-f) )) value is:\n",
            "[[1.9800313]\n",
            " [1.9726775]]\n"
          ],
          "name": "stdout"
        }
      ]
    },
    {
      "cell_type": "code",
      "metadata": {
        "id": "fqh9z8Ntrsdv",
        "colab_type": "code",
        "outputId": "b3f9e03b-05a9-472c-cbce-207f22010195",
        "colab": {
          "base_uri": "https://localhost:8080/",
          "height": 168
        }
      },
      "source": [
        "rand = np.random.normal(0.5,0.3,4)\n",
        "\n",
        "X = tf.placeholder(\"float\", None)\n",
        "\n",
        "W = tf.placeholder(\"float\", None)\n",
        "\n",
        "b = tf.placeholder(\"float\", None)\n",
        "\n",
        "f = tf.matmul(W,X) + b\n",
        "\n",
        "g = (tf.math.exp(f) - tf.math.exp(-f))/(tf.math.exp(f) + tf.math.exp(-f)) + (1/(1+tf.math.exp(-f)))\n",
        "\n",
        "model = tf.global_variables_initializer()\n",
        "\n",
        "with tf.Session() as sess:\n",
        "    sess.run(model)\n",
        "    print(\"--------------------------------------------------------------------------------------------------\")\n",
        "    print(\"When X,W,b are PlaceHolders\")\n",
        "    print(\"F Value\")\n",
        "    s = sess.run(f,feed_dict = {X : [[2.0],[4.0]], W: [[rand[0], rand[1]], [rand[2], rand[3]]], b: [[1.0],[1.0]] })\n",
        "    print(s)\n",
        "    print(\"--------------------------------------------------------------------------------------------------\")\n",
        "    print(\"( exp^(f) - exp^(-f) )/( exp^(f) + exp^(-f) ) + (1 / ( 1 + exp^(-f) )) value is:\")\n",
        "    print(sess.run(g, feed_dict = {f: s}))\n",
        "    \n",
        "tf.reset_default_graph()"
      ],
      "execution_count": 0,
      "outputs": [
        {
          "output_type": "stream",
          "text": [
            "--------------------------------------------------------------------------------------------------\n",
            "When X,W,b are PlaceHolders\n",
            "F Value\n",
            "[[1.0702239]\n",
            " [3.2150116]]\n",
            "--------------------------------------------------------------------------------------------------\n",
            "( exp^(f) - exp^(-f) )/( exp^(f) + exp^(-f) ) + (1 / ( 1 + exp^(-f) )) value is:\n",
            "[[1.5341849]\n",
            " [1.9581757]]\n"
          ],
          "name": "stdout"
        }
      ]
    },
    {
      "cell_type": "markdown",
      "metadata": {
        "id": "0rWxL8LjsBjp",
        "colab_type": "text"
      },
      "source": [
        "In 1st one all values as constants, In second one we used all placeholders and declared values during run time, we could have used variables for X, W, b instead of place holders in second one. But in first case, we should use X,W, b as constants only since the requirement is to have them as constants."
      ]
    },
    {
      "cell_type": "code",
      "metadata": {
        "id": "mt0Pgqk3tYtD",
        "colab_type": "code",
        "colab": {}
      },
      "source": [
        "def mean_var(x):\n",
        "  mean = tf.random.normal(shape=[x])\n",
        "  var = tf.random.normal(shape=[x])\n",
        "  return mean, var\n",
        "\n"
      ],
      "execution_count": 0,
      "outputs": []
    }
  ]
}