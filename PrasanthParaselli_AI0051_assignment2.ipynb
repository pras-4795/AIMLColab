{
  "nbformat": 4,
  "nbformat_minor": 0,
  "metadata": {
    "colab": {
      "name": "PrasanthParaselli_AI0051_assignment2.ipynb",
      "version": "0.3.2",
      "provenance": [],
      "collapsed_sections": [],
      "include_colab_link": true
    },
    "kernelspec": {
      "name": "python3",
      "display_name": "Python 3"
    }
  },
  "cells": [
    {
      "cell_type": "markdown",
      "metadata": {
        "id": "view-in-github",
        "colab_type": "text"
      },
      "source": [
        "<a href=\"https://colab.research.google.com/github/pras-4795/AIMLColab/blob/master/PrasanthParaselli_AI0051_assignment2.ipynb\" target=\"_parent\"><img src=\"https://colab.research.google.com/assets/colab-badge.svg\" alt=\"Open In Colab\"/></a>"
      ]
    },
    {
      "cell_type": "markdown",
      "metadata": {
        "id": "cI8tDJfRO2f_",
        "colab_type": "text"
      },
      "source": [
        "DL Quiz"
      ]
    },
    {
      "cell_type": "markdown",
      "metadata": {
        "id": "MoML4JkuK2oY",
        "colab_type": "text"
      },
      "source": [
        "1) output is 75.0"
      ]
    },
    {
      "cell_type": "code",
      "metadata": {
        "id": "8ykahHpC2zWM",
        "colab_type": "code",
        "outputId": "dea9242c-913e-4a4c-be7e-420320bc1705",
        "colab": {
          "base_uri": "https://localhost:8080/",
          "height": 34
        }
      },
      "source": [
        "import tensorflow as tf\n",
        "a = tf.constant(10, dtype= 'float32') \n",
        "b = tf.Variable(a*2)\n",
        "model = tf.global_variables_initializer()\n",
        "with tf.Session() as sess:\n",
        "    sess.run(model)\n",
        "    print(sess.run(b))"
      ],
      "execution_count": 0,
      "outputs": [
        {
          "output_type": "stream",
          "text": [
            "20.0\n"
          ],
          "name": "stdout"
        }
      ]
    },
    {
      "cell_type": "markdown",
      "metadata": {
        "id": "YPOVQtO06Vkp",
        "colab_type": "text"
      },
      "source": [
        "3)  A placeholder is simply a variable that we will assign data to at a later date. It allows us to create our operations and build our computation graph, without needing the data"
      ]
    },
    {
      "cell_type": "markdown",
      "metadata": {
        "id": "Hb1JxKof90mU",
        "colab_type": "text"
      },
      "source": [
        "4) W and b should be variables, x and y should be place holders since we need to feed data to x and y, W and b can be variables since they have to be initialized with constant values."
      ]
    },
    {
      "cell_type": "markdown",
      "metadata": {
        "id": "0tgzmkmwFqOl",
        "colab_type": "text"
      },
      "source": [
        "5) error is x is initialized with 2,4 array instead of 3,4 array"
      ]
    },
    {
      "cell_type": "markdown",
      "metadata": {
        "id": "A2YeH_wSJLL9",
        "colab_type": "text"
      },
      "source": [
        "6) Shape of data is (32, 32, 3)"
      ]
    },
    {
      "cell_type": "markdown",
      "metadata": {
        "id": "0qHAa_e6O0N_",
        "colab_type": "text"
      },
      "source": [
        "DL Test"
      ]
    },
    {
      "cell_type": "code",
      "metadata": {
        "id": "628UhHkUeCRq",
        "colab_type": "code",
        "outputId": "d9e78921-e436-48ca-c812-b9e13bc2bc56",
        "colab": {
          "base_uri": "https://localhost:8080/",
          "height": 1000
        }
      },
      "source": [
        "import numpy as np\n",
        "\n",
        "X = tf.placeholder(\"float\", shape=(None,4,3))\n",
        "NORMALIZED_MATRIX = (X - tf.math.reduce_mean(X))/(tf.math.reduce_std(X))\n",
        "\n",
        "shape = tf.placeholder(\"float\", None)\n",
        "BATCHES_COMBINED_TENSOR = tf.reshape(X, [-1,3])\n",
        "\n",
        "dimension = tf.placeholder(\"int32\", None)\n",
        "MATRIX_SUM = tf.reduce_sum(X, dimension)\n",
        "\n",
        "SOFT_MAX = tf.nn.softmax(tf.reduce_sum(X, dimension))\n",
        "\n",
        "MAX_VALUE_INDEX = tf.math.argmax(tf.nn.softmax(tf.reduce_sum(X, dimension)))\n",
        "\n",
        "model = tf.global_variables_initializer()\n",
        "\n",
        "with tf.Session() as sess:\n",
        "    sess.run(model)\n",
        "    data1 = np.random.randint(10, size=(4,3))\n",
        "    data2 = np.random.randint(10, size=(4,3))\n",
        "    data3 = np.random.randint(10, size=(4,3))\n",
        "    data4 = np.random.randint(10, size=(4,3))\n",
        "    print(\"--------------------------------------------------------------------------------------------------\")\n",
        "    print(\"Input Data\")\n",
        "    print(\"--------------------------------------------------------------------------------------------------\")\n",
        "    print(data1)\n",
        "    print(data2)\n",
        "    print(data3)\n",
        "    print(data4)\n",
        "    print(\"--------------------------------------------------------------------------------------------------\")\n",
        "    print(\"NORMALIZED_MATRIX\")\n",
        "    print(\"--------------------------------------------------------------------------------------------------\")\n",
        "    print(sess.run(NORMALIZED_MATRIX, feed_dict = {X : [data1, data2, data3, data4] } ))\n",
        "    print(\"--------------------------------------------------------------------------------------------------\")\n",
        "    print(\"BATCHES_COMBINED_TENSOR\")\n",
        "    print(\"--------------------------------------------------------------------------------------------------\")\n",
        "    print(sess.run(BATCHES_COMBINED_TENSOR, feed_dict = {X : [data1, data2, data3, data4] } ))\n",
        "    print(\"--------------------------------------------------------------------------------------------------\")\n",
        "    print(\"MATRIX SUM\")\n",
        "    print(\"--------------------------------------------------------------------------------------------------\")\n",
        "    print(sess.run(MATRIX_SUM, feed_dict = {X : [data1, data2, data3, data4], dimension: [1,2]  } ))\n",
        "    print(\"--------------------------------------------------------------------------------------------------\")\n",
        "    print(\"SOFT MAX\")\n",
        "    print(\"--------------------------------------------------------------------------------------------------\")\n",
        "    print(sess.run(SOFT_MAX, feed_dict = {X : [data1, data2, data3, data4], dimension: [1,2]  } ))\n",
        "    print(\"--------------------------------------------------------------------------------------------------\")\n",
        "    print(\"MAX_VALUE_INDEX\")\n",
        "    print(\"--------------------------------------------------------------------------------------------------\")\n",
        "    print(sess.run(MAX_VALUE_INDEX, feed_dict = {X : [data1, data2, data3, data4], dimension: [1,2]  } ))\n",
        "    print(\"--------------------------------------------------------------------------------------------------\")\n",
        "    \n",
        "tf.reset_default_graph()\n",
        "\n"
      ],
      "execution_count": 0,
      "outputs": [
        {
          "output_type": "stream",
          "text": [
            "--------------------------------------------------------------------------------------------------\n",
            "Input Data\n",
            "--------------------------------------------------------------------------------------------------\n",
            "[[3 9 9]\n",
            " [1 0 3]\n",
            " [4 0 9]\n",
            " [0 6 6]]\n",
            "[[6 5 1]\n",
            " [8 6 8]\n",
            " [2 9 1]\n",
            " [2 0 1]]\n",
            "[[8 9 8]\n",
            " [7 5 5]\n",
            " [0 0 0]\n",
            " [8 5 8]]\n",
            "[[7 7 5]\n",
            " [6 9 2]\n",
            " [9 0 6]\n",
            " [9 4 9]]\n",
            "--------------------------------------------------------------------------------------------------\n",
            "NORMALIZED_MATRIX\n",
            "--------------------------------------------------------------------------------------------------\n",
            "[[[-0.5779555   1.2511781   1.2511781 ]\n",
            "  [-1.1876668  -1.4925224  -0.5779555 ]\n",
            "  [-0.27309987 -1.4925224   1.2511781 ]\n",
            "  [-1.4925224   0.33661136  0.33661136]]\n",
            "\n",
            " [[ 0.33661136  0.03175575 -1.1876668 ]\n",
            "  [ 0.94632256  0.33661136  0.94632256]\n",
            "  [-0.8828111   1.2511781  -1.1876668 ]\n",
            "  [-0.8828111  -1.4925224  -1.1876668 ]]\n",
            "\n",
            " [[ 0.94632256  1.2511781   0.94632256]\n",
            "  [ 0.641467    0.03175575  0.03175575]\n",
            "  [-1.4925224  -1.4925224  -1.4925224 ]\n",
            "  [ 0.94632256  0.03175575  0.94632256]]\n",
            "\n",
            " [[ 0.641467    0.641467    0.03175575]\n",
            "  [ 0.33661136  1.2511781  -0.8828111 ]\n",
            "  [ 1.2511781  -1.4925224   0.33661136]\n",
            "  [ 1.2511781  -0.27309987  1.2511781 ]]]\n",
            "--------------------------------------------------------------------------------------------------\n",
            "BATCHES_COMBINED_TENSOR\n",
            "--------------------------------------------------------------------------------------------------\n",
            "[[3. 9. 9.]\n",
            " [1. 0. 3.]\n",
            " [4. 0. 9.]\n",
            " [0. 6. 6.]\n",
            " [6. 5. 1.]\n",
            " [8. 6. 8.]\n",
            " [2. 9. 1.]\n",
            " [2. 0. 1.]\n",
            " [8. 9. 8.]\n",
            " [7. 5. 5.]\n",
            " [0. 0. 0.]\n",
            " [8. 5. 8.]\n",
            " [7. 7. 5.]\n",
            " [6. 9. 2.]\n",
            " [9. 0. 6.]\n",
            " [9. 4. 9.]]\n",
            "--------------------------------------------------------------------------------------------------\n",
            "MATRIX SUM\n",
            "--------------------------------------------------------------------------------------------------\n",
            "[50. 49. 63. 73.]\n",
            "--------------------------------------------------------------------------------------------------\n",
            "SOFT MAX\n",
            "--------------------------------------------------------------------------------------------------\n",
            "[1.0261413e-10 3.7749630e-11 4.5397868e-05 9.9995458e-01]\n",
            "--------------------------------------------------------------------------------------------------\n",
            "MAX_VALUE_INDEX\n",
            "--------------------------------------------------------------------------------------------------\n",
            "3\n",
            "--------------------------------------------------------------------------------------------------\n"
          ],
          "name": "stdout"
        }
      ]
    },
    {
      "cell_type": "code",
      "metadata": {
        "id": "9EOOBJGqVZ1O",
        "colab_type": "code",
        "outputId": "9552560c-3e6d-43fa-b1bb-ba0979af3010",
        "colab": {
          "base_uri": "https://localhost:8080/",
          "height": 50
        }
      },
      "source": [
        "rand = np.random.normal(0.5,0.3,4)\n",
        "\n",
        "X = tf.constant([[2.0],[4.0]] , \"float32\")\n",
        "\n",
        "W = tf.constant([[rand[0], rand[1]], [rand[2], rand[3]]])\n",
        "\n",
        "b = tf.constant([[1.0],[1.0]])\n",
        "\n",
        "f = tf.math.multiply(W,X) + b\n",
        "\n",
        "model = tf.global_variables_initializer()\n",
        "\n",
        "with tf.Session() as sess:\n",
        "    sess.run(model)\n",
        "    print(sess.run(f))\n"
      ],
      "execution_count": 0,
      "outputs": [
        {
          "output_type": "stream",
          "text": [
            "[[1.850733  2.4279406]\n",
            " [3.9727564 5.373809 ]]\n"
          ],
          "name": "stdout"
        }
      ]
    }
  ]
}