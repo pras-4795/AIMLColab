{
  "nbformat": 4,
  "nbformat_minor": 0,
  "metadata": {
    "colab": {
      "name": "dance.ipynb",
      "provenance": [],
      "mount_file_id": "1j6Zyz865HqTqddsoHbWJ_hUeSY0CnJjb",
      "authorship_tag": "ABX9TyNQdBJFee7fkY72WxXpxg4p",
      "include_colab_link": true
    },
    "kernelspec": {
      "name": "python3",
      "display_name": "Python 3"
    },
    "accelerator": "TPU"
  },
  "cells": [
    {
      "cell_type": "markdown",
      "metadata": {
        "id": "view-in-github",
        "colab_type": "text"
      },
      "source": [
        "<a href=\"https://colab.research.google.com/github/pras-4795/AIMLColab/blob/master/dance.ipynb\" target=\"_parent\"><img src=\"https://colab.research.google.com/assets/colab-badge.svg\" alt=\"Open In Colab\"/></a>"
      ]
    },
    {
      "cell_type": "code",
      "metadata": {
        "id": "KaVSGgwFns7m",
        "colab_type": "code",
        "colab": {}
      },
      "source": [
        "import pandas as pd\n",
        "import cv2\n",
        "import matplotlib.pyplot as plt\n",
        "import os\n",
        "import numpy as np\n",
        "\n",
        "from sklearn.model_selection import train_test_split\n",
        "from sklearn.preprocessing import LabelEncoder\n",
        "from sklearn.preprocessing import OneHotEncoder"
      ],
      "execution_count": 0,
      "outputs": []
    },
    {
      "cell_type": "code",
      "metadata": {
        "id": "A6GMEpI2ES2k",
        "colab_type": "code",
        "colab": {}
      },
      "source": [
        "df = pd.read_csv('/content/drive/My Drive/Dance/dataset/train.csv')"
      ],
      "execution_count": 0,
      "outputs": []
    },
    {
      "cell_type": "code",
      "metadata": {
        "id": "1TRBdIEzEaUh",
        "colab_type": "code",
        "outputId": "f893835e-4ea0-4e76-ac84-c68ba0c90d8c",
        "colab": {
          "base_uri": "https://localhost:8080/",
          "height": 50
        }
      },
      "source": [
        "df['target'].unique()"
      ],
      "execution_count": 0,
      "outputs": [
        {
          "output_type": "execute_result",
          "data": {
            "text/plain": [
              "array(['manipuri', 'bharatanatyam', 'odissi', 'kathakali', 'kathak',\n",
              "       'sattriya', 'kuchipudi', 'mohiniyattam'], dtype=object)"
            ]
          },
          "metadata": {
            "tags": []
          },
          "execution_count": 3
        }
      ]
    },
    {
      "cell_type": "code",
      "metadata": {
        "id": "mOx-dJXODzn8",
        "colab_type": "code",
        "colab": {}
      },
      "source": [
        "  #p = os.path.join('/content/drive/My Drive/Dance/dataset/train', df['Image'][0])\n",
        "  #image = cv2.imread(p)\n",
        "  #g = cv2.resize(image, (255, 255))\n",
        "  #g.shape\n",
        "  #do not execute this is for 2d"
      ],
      "execution_count": 0,
      "outputs": []
    },
    {
      "cell_type": "code",
      "metadata": {
        "id": "281ql2N5DVV_",
        "colab_type": "code",
        "colab": {}
      },
      "source": [
        "#plt.imshow(g)\n",
        "#plt.show()"
      ],
      "execution_count": 0,
      "outputs": []
    },
    {
      "cell_type": "code",
      "metadata": {
        "id": "jnDgwg6lIhLW",
        "colab_type": "code",
        "colab": {}
      },
      "source": [
        "X = np.zeros((1,150,150,3))\n",
        "Y = np.array([])"
      ],
      "execution_count": 0,
      "outputs": []
    },
    {
      "cell_type": "code",
      "metadata": {
        "id": "puB2MQKfJuNt",
        "colab_type": "code",
        "colab": {}
      },
      "source": [
        "#largest width = 4477, largest height = 3872\n",
        "for index, row in df.iterrows():\n",
        "  p = os.path.join('/content/drive/My Drive/Dance/dataset/train', row['Image'])\n",
        "  image = cv2.imread(p)\n",
        "  g = cv2.resize(image, (150, 150))\n",
        "  g = np.reshape(g,(1,150,150,3))\n",
        "  X = np.append(X,g,axis=0)\n",
        "  Y = np.append(Y,row['target'])"
      ],
      "execution_count": 0,
      "outputs": []
    },
    {
      "cell_type": "code",
      "metadata": {
        "id": "569QoeJiqeGE",
        "colab_type": "code",
        "colab": {}
      },
      "source": [
        "X = np.delete(X,0,0)"
      ],
      "execution_count": 0,
      "outputs": []
    },
    {
      "cell_type": "code",
      "metadata": {
        "id": "S4Tap9L_IiTQ",
        "colab_type": "code",
        "outputId": "70863470-c455-4c98-e976-9b1e702139a7",
        "colab": {
          "base_uri": "https://localhost:8080/",
          "height": 34
        }
      },
      "source": [
        "X.shape"
      ],
      "execution_count": 0,
      "outputs": [
        {
          "output_type": "execute_result",
          "data": {
            "text/plain": [
              "(364, 150, 150, 3)"
            ]
          },
          "metadata": {
            "tags": []
          },
          "execution_count": 9
        }
      ]
    },
    {
      "cell_type": "code",
      "metadata": {
        "id": "4sOtmfHtPVoQ",
        "colab_type": "code",
        "outputId": "4929b230-50d3-4c2d-ab76-999ffd6871fc",
        "colab": {
          "base_uri": "https://localhost:8080/",
          "height": 298
        }
      },
      "source": [
        "# as opencv loads in BGR format by default, we want to show it in RGB.\n",
        "plt.imshow(X[2])\n",
        "plt.title(Y[2])\n",
        "plt.show()"
      ],
      "execution_count": 0,
      "outputs": [
        {
          "output_type": "stream",
          "text": [
            "Clipping input data to the valid range for imshow with RGB data ([0..1] for floats or [0..255] for integers).\n"
          ],
          "name": "stderr"
        },
        {
          "output_type": "display_data",
          "data": {
            "image/png": "[encoded data removed]",
            "text/plain": [
              "<Figure size 432x288 with 1 Axes>"
            ]
          },
          "metadata": {
            "tags": [],
            "needs_background": "light"
          }
        }
      ]
    },
    {
      "cell_type": "code",
      "metadata": {
        "id": "358WWHioojjt",
        "colab_type": "code",
        "colab": {}
      },
      "source": [
        "#def get_max_width(img):\n",
        " #   return img.shape[1]\n",
        "\n",
        "#def get_max_height(img):\n",
        " #   return img.shape[0]"
      ],
      "execution_count": 0,
      "outputs": []
    },
    {
      "cell_type": "code",
      "metadata": {
        "id": "R1wKlf6kocT-",
        "colab_type": "code",
        "colab": {}
      },
      "source": [
        "#w = max(X, key=get_max_width).shape[1]\n",
        "#h = max(X, key=get_max_height).shape[0]"
      ],
      "execution_count": 0,
      "outputs": []
    },
    {
      "cell_type": "code",
      "metadata": {
        "id": "zrzOah2Vb_4i",
        "colab_type": "code",
        "colab": {}
      },
      "source": [
        "label_encoder = LabelEncoder()\n",
        "integer_encoded = label_encoder.fit_transform(Y)\n",
        "\n",
        "onehot_encoder = OneHotEncoder(sparse=False)\n",
        "integer_encoded = integer_encoded.reshape(len(integer_encoded), 1)\n",
        "Y = onehot_encoder.fit_transform(integer_encoded)"
      ],
      "execution_count": 0,
      "outputs": []
    },
    {
      "cell_type": "code",
      "metadata": {
        "id": "EM3R4OaIcZg6",
        "colab_type": "code",
        "outputId": "cfc81d60-162d-4090-a69a-65ab1737e01e",
        "colab": {
          "base_uri": "https://localhost:8080/",
          "height": 34
        }
      },
      "source": [
        "Y.shape"
      ],
      "execution_count": 0,
      "outputs": [
        {
          "output_type": "execute_result",
          "data": {
            "text/plain": [
              "(364, 8)"
            ]
          },
          "metadata": {
            "tags": []
          },
          "execution_count": 14
        }
      ]
    },
    {
      "cell_type": "code",
      "metadata": {
        "id": "wbKFEow4Q8y1",
        "colab_type": "code",
        "colab": {}
      },
      "source": [
        "X = X/255"
      ],
      "execution_count": 0,
      "outputs": []
    },
    {
      "cell_type": "code",
      "metadata": {
        "id": "o-MC0WoRWfLS",
        "colab_type": "code",
        "colab": {}
      },
      "source": [
        "X_train, X_test, y_train, y_test = train_test_split(X, Y, test_size=0.2, random_state=42)"
      ],
      "execution_count": 0,
      "outputs": []
    },
    {
      "cell_type": "code",
      "metadata": {
        "id": "xzM622ZJk6nq",
        "colab_type": "code",
        "outputId": "921a9dd0-dc7c-42f9-aa12-1335d86db60b",
        "colab": {
          "base_uri": "https://localhost:8080/",
          "height": 34
        }
      },
      "source": [
        "from keras.models import Sequential\n",
        "from keras.layers import Convolution2D, Activation, MaxPooling2D, Dense, Flatten, SpatialDropout2D\n",
        "#import SpatialPyramidPooling"
      ],
      "execution_count": 0,
      "outputs": [
        {
          "output_type": "stream",
          "text": [
            "Using TensorFlow backend.\n"
          ],
          "name": "stderr"
        }
      ]
    },
    {
      "cell_type": "code",
      "metadata": {
        "id": "gIzNCg7pX0KJ",
        "colab_type": "code",
        "outputId": "0da80d7e-13b7-45b7-fa69-89b6a2fc8083",
        "colab": {
          "base_uri": "https://localhost:8080/",
          "height": 386
        }
      },
      "source": [
        "model = Sequential()\n",
        "\n",
        "model.add(Convolution2D(32, (3, 3), input_shape=(150,150,3)))\n",
        "model.add(Activation('relu'))\n",
        "model.add(MaxPooling2D(pool_size=(2,2)))\n",
        "model.add(SpatialDropout2D(0.1))\n",
        "model.add(Flatten())\n",
        "model.add(Dense(8))\n",
        "model.add(Activation('softmax'))\n",
        "\n",
        "model.compile(loss='categorical_crossentropy', optimizer='adam', metrics=['accuracy'])\n",
        "\n",
        "model.summary()\n"
      ],
      "execution_count": 0,
      "outputs": [
        {
          "output_type": "stream",
          "text": [
            "Model: \"sequential_3\"\n",
            "_________________________________________________________________\n",
            "Layer (type)                 Output Shape              Param #   \n",
            "=================================================================\n",
            "conv2d_3 (Conv2D)            (None, 148, 148, 32)      896       \n",
            "_________________________________________________________________\n",
            "activation_5 (Activation)    (None, 148, 148, 32)      0         \n",
            "_________________________________________________________________\n",
            "max_pooling2d_3 (MaxPooling2 (None, 74, 74, 32)        0         \n",
            "_________________________________________________________________\n",
            "spatial_dropout2d_3 (Spatial (None, 74, 74, 32)        0         \n",
            "_________________________________________________________________\n",
            "flatten_3 (Flatten)          (None, 175232)            0         \n",
            "_________________________________________________________________\n",
            "dense_3 (Dense)              (None, 8)                 1401864   \n",
            "_________________________________________________________________\n",
            "activation_6 (Activation)    (None, 8)                 0         \n",
            "=================================================================\n",
            "Total params: 1,402,760\n",
            "Trainable params: 1,402,760\n",
            "Non-trainable params: 0\n",
            "_________________________________________________________________\n"
          ],
          "name": "stdout"
        }
      ]
    },
    {
      "cell_type": "code",
      "metadata": {
        "id": "rgXIfH6ysEnn",
        "colab_type": "code",
        "outputId": "9ce788e2-b32b-4c07-e904-fc1329412031",
        "colab": {
          "base_uri": "https://localhost:8080/",
          "height": 370
        }
      },
      "source": [
        "model.fit(X_train, y_train, epochs=10)"
      ],
      "execution_count": 0,
      "outputs": [
        {
          "output_type": "stream",
          "text": [
            "Epoch 1/10\n",
            "291/291 [==============================] - 4s 12ms/step - loss: 7.4622 - accuracy: 0.1478\n",
            "Epoch 2/10\n",
            "291/291 [==============================] - 3s 12ms/step - loss: 2.6559 - accuracy: 0.3162\n",
            "Epoch 3/10\n",
            "291/291 [==============================] - 3s 12ms/step - loss: 1.3385 - accuracy: 0.5842\n",
            "Epoch 4/10\n",
            "291/291 [==============================] - 3s 12ms/step - loss: 0.7725 - accuracy: 0.8282\n",
            "Epoch 5/10\n",
            "291/291 [==============================] - 3s 12ms/step - loss: 0.4068 - accuracy: 0.9553\n",
            "Epoch 6/10\n",
            "291/291 [==============================] - 3s 12ms/step - loss: 0.2062 - accuracy: 0.9966\n",
            "Epoch 7/10\n",
            "291/291 [==============================] - 3s 12ms/step - loss: 0.1058 - accuracy: 0.9931\n",
            "Epoch 8/10\n",
            "291/291 [==============================] - 3s 12ms/step - loss: 0.0610 - accuracy: 0.9966\n",
            "Epoch 9/10\n",
            "291/291 [==============================] - 3s 12ms/step - loss: 0.0417 - accuracy: 1.0000\n",
            "Epoch 10/10\n",
            "291/291 [==============================] - 3s 12ms/step - loss: 0.0312 - accuracy: 1.0000\n"
          ],
          "name": "stdout"
        },
        {
          "output_type": "execute_result",
          "data": {
            "text/plain": [
              "<keras.callbacks.callbacks.History at 0x7fd267932630>"
            ]
          },
          "metadata": {
            "tags": []
          },
          "execution_count": 32
        }
      ]
    },
    {
      "cell_type": "code",
      "metadata": {
        "id": "hma5zfcGRgjX",
        "colab_type": "code",
        "outputId": "280c291f-0d41-492e-cb63-8867ea0b35b4",
        "colab": {
          "base_uri": "https://localhost:8080/",
          "height": 50
        }
      },
      "source": [
        "model.evaluate(X_test, y_test)"
      ],
      "execution_count": 0,
      "outputs": [
        {
          "output_type": "stream",
          "text": [
            "73/73 [==============================] - 0s 5ms/step\n"
          ],
          "name": "stdout"
        },
        {
          "output_type": "execute_result",
          "data": {
            "text/plain": [
              "[1.524629040940167, 0.465753436088562]"
            ]
          },
          "metadata": {
            "tags": []
          },
          "execution_count": 33
        }
      ]
    },
    {
      "cell_type": "code",
      "metadata": {
        "id": "40MwMnHuNOM6",
        "colab_type": "code",
        "colab": {}
      },
      "source": [
        "p = model.predict(X_test)"
      ],
      "execution_count": 0,
      "outputs": []
    },
    {
      "cell_type": "code",
      "metadata": {
        "id": "fTd2USDF5Gmg",
        "colab_type": "code",
        "colab": {}
      },
      "source": [
        "inarr = np.array([])"
      ],
      "execution_count": 0,
      "outputs": []
    },
    {
      "cell_type": "code",
      "metadata": {
        "id": "06VYwcYzzvM6",
        "colab_type": "code",
        "colab": {}
      },
      "source": [
        "for e in p:\n",
        "  inarr  = np.append(inarr, np.argmax(e))"
      ],
      "execution_count": 0,
      "outputs": []
    },
    {
      "cell_type": "code",
      "metadata": {
        "id": "rBZt1rgjOQMk",
        "colab_type": "code",
        "colab": {}
      },
      "source": [
        "from sklearn.metrics import classification_report"
      ],
      "execution_count": 0,
      "outputs": []
    },
    {
      "cell_type": "code",
      "metadata": {
        "id": "KHN3Y42QOUFT",
        "colab_type": "code",
        "outputId": "1f7f9010-502d-4e1e-ee2a-147d61b31c9e",
        "colab": {
          "base_uri": "https://localhost:8080/",
          "height": 269
        }
      },
      "source": [
        "print(classification_report(onehot_encoder.inverse_transform(y_test),inarr))"
      ],
      "execution_count": 0,
      "outputs": [
        {
          "output_type": "stream",
          "text": [
            "              precision    recall  f1-score   support\n",
            "\n",
            "           0       0.44      0.40      0.42        10\n",
            "           1       0.33      0.50      0.40        10\n",
            "           2       0.67      0.55      0.60        11\n",
            "           3       0.27      0.43      0.33         7\n",
            "           4       0.67      0.57      0.62         7\n",
            "           5       0.50      0.50      0.50         8\n",
            "           6       1.00      0.27      0.42        15\n",
            "           7       0.36      0.80      0.50         5\n",
            "\n",
            "    accuracy                           0.47        73\n",
            "   macro avg       0.53      0.50      0.47        73\n",
            "weighted avg       0.58      0.47      0.47        73\n",
            "\n"
          ],
          "name": "stdout"
        }
      ]
    },
    {
      "cell_type": "code",
      "metadata": {
        "id": "ehW05CZPQUGk",
        "colab_type": "code",
        "colab": {}
      },
      "source": [
        "df = pd.read_csv('/content/drive/My Drive/Dance/dataset/test.csv')\n",
        "X = np.zeros((1,150,150,3))\n",
        "#largest width = 4477, largest height = 3872\n",
        "for index, row in df.iterrows():\n",
        "  p = os.path.join('/content/drive/My Drive/Dance/dataset/test', row['Image'])\n",
        "  image = cv2.imread(p)\n",
        "  g = cv2.resize(image, (150, 150))\n",
        "  g = np.reshape(g,(1,150,150,3))\n",
        "  X = np.append(X,g,axis=0)\n",
        "\n",
        "X = np.delete(X,0,0)\n",
        "X = X/255\n",
        "p = model.predict(X)\n",
        "inarr = np.array([])\n",
        "for e in p:\n",
        "  inarr  = np.append(inarr, np.argmax(e))"
      ],
      "execution_count": 0,
      "outputs": []
    },
    {
      "cell_type": "code",
      "metadata": {
        "id": "h8JoyP_i-ITu",
        "colab_type": "code",
        "colab": {}
      },
      "source": [
        "out = label_encoder.inverse_transform(inarr.astype(int))"
      ],
      "execution_count": 0,
      "outputs": []
    },
    {
      "cell_type": "code",
      "metadata": {
        "id": "b3Mb3hUc_i_2",
        "colab_type": "code",
        "colab": {}
      },
      "source": [
        "df['target']=out"
      ],
      "execution_count": 0,
      "outputs": []
    },
    {
      "cell_type": "code",
      "metadata": {
        "id": "_9ktW8K4_OiM",
        "colab_type": "code",
        "colab": {}
      },
      "source": [
        "df.to_csv('submission1.csv',index=False)"
      ],
      "execution_count": 0,
      "outputs": []
    }
  ]
}