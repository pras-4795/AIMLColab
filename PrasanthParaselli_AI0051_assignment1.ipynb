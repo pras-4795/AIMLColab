{
 "cells": [
  {
   "cell_type": "code",
   "execution_count": 1,
   "metadata": {},
   "outputs": [],
   "source": [
    "import pandas as pd \n",
    "\n",
    "%matplotlib inline\n",
    "\n",
    "from sklearn.linear_model import LogisticRegression\n",
    "from sklearn.ensemble import RandomForestClassifier\n",
    "from sklearn.linear_model import Perceptron\n",
    "from sklearn.linear_model import SGDClassifier\n",
    "from sklearn.tree import DecisionTreeClassifier\n",
    "from sklearn.neighbors import KNeighborsClassifier\n",
    "from sklearn.ensemble import GradientBoostingClassifier\n",
    "from sklearn.model_selection import train_test_split\n",
    "from sklearn.metrics import f1_score\n",
    "from sklearn.neural_network import MLPClassifier\n",
    "from sklearn.preprocessing import StandardScaler"
   ]
  },
  {
   "cell_type": "code",
   "execution_count": 2,
   "metadata": {},
   "outputs": [],
   "source": [
    "test_df = pd.read_csv(\"test.csv\")\n",
    "train_df = pd.read_csv(\"train.csv\")"
   ]
  },
  {
   "cell_type": "code",
   "execution_count": 3,
   "metadata": {},
   "outputs": [
    {
     "name": "stdout",
     "output_type": "stream",
     "text": [
      "<class 'pandas.core.frame.DataFrame'>\n",
      "RangeIndex: 24169 entries, 0 to 24168\n",
      "Data columns (total 26 columns):\n",
      "Unnamed: 0                    24169 non-null int64\n",
      "ID                            24169 non-null int64\n",
      "LIMIT_BAL                     24169 non-null int64\n",
      "SEX                           24169 non-null int64\n",
      "EDUCATION                     24169 non-null int64\n",
      "MARRIAGE                      24169 non-null int64\n",
      "AGE                           24169 non-null int64\n",
      "PAY_0                         24169 non-null int64\n",
      "PAY_2                         24169 non-null int64\n",
      "PAY_3                         24169 non-null int64\n",
      "PAY_4                         24169 non-null int64\n",
      "PAY_5                         24169 non-null int64\n",
      "PAY_6                         24169 non-null int64\n",
      "BILL_AMT1                     24169 non-null int64\n",
      "BILL_AMT2                     24169 non-null int64\n",
      "BILL_AMT3                     24169 non-null int64\n",
      "BILL_AMT4                     24169 non-null int64\n",
      "BILL_AMT5                     24169 non-null int64\n",
      "BILL_AMT6                     24169 non-null int64\n",
      "PAY_AMT1                      24169 non-null int64\n",
      "PAY_AMT2                      24169 non-null int64\n",
      "PAY_AMT3                      24169 non-null int64\n",
      "PAY_AMT4                      24169 non-null int64\n",
      "PAY_AMT5                      24169 non-null int64\n",
      "PAY_AMT6                      24169 non-null int64\n",
      "default payment next month    24169 non-null int64\n",
      "dtypes: int64(26)\n",
      "memory usage: 4.8 MB\n"
     ]
    }
   ],
   "source": [
    "train_df.info()"
   ]
  },
  {
   "cell_type": "code",
   "execution_count": 4,
   "metadata": {},
   "outputs": [
    {
     "data": {
      "text/html": [
       "<div>\n",
       "<style scoped>\n",
       "    .dataframe tbody tr th:only-of-type {\n",
       "        vertical-align: middle;\n",
       "    }\n",
       "\n",
       "    .dataframe tbody tr th {\n",
       "        vertical-align: top;\n",
       "    }\n",
       "\n",
       "    .dataframe thead th {\n",
       "        text-align: right;\n",
       "    }\n",
       "</style>\n",
       "<table border=\"1\" class=\"dataframe\">\n",
       "  <thead>\n",
       "    <tr style=\"text-align: right;\">\n",
       "      <th></th>\n",
       "      <th>Unnamed: 0</th>\n",
       "      <th>ID</th>\n",
       "      <th>LIMIT_BAL</th>\n",
       "      <th>SEX</th>\n",
       "      <th>EDUCATION</th>\n",
       "      <th>MARRIAGE</th>\n",
       "      <th>AGE</th>\n",
       "      <th>PAY_0</th>\n",
       "      <th>PAY_2</th>\n",
       "      <th>PAY_3</th>\n",
       "      <th>...</th>\n",
       "      <th>BILL_AMT4</th>\n",
       "      <th>BILL_AMT5</th>\n",
       "      <th>BILL_AMT6</th>\n",
       "      <th>PAY_AMT1</th>\n",
       "      <th>PAY_AMT2</th>\n",
       "      <th>PAY_AMT3</th>\n",
       "      <th>PAY_AMT4</th>\n",
       "      <th>PAY_AMT5</th>\n",
       "      <th>PAY_AMT6</th>\n",
       "      <th>default payment next month</th>\n",
       "    </tr>\n",
       "  </thead>\n",
       "  <tbody>\n",
       "    <tr>\n",
       "      <th>count</th>\n",
       "      <td>24169.000000</td>\n",
       "      <td>24169.000000</td>\n",
       "      <td>24169.000000</td>\n",
       "      <td>24169.000000</td>\n",
       "      <td>24169.000000</td>\n",
       "      <td>24169.000000</td>\n",
       "      <td>24169.000000</td>\n",
       "      <td>24169.000000</td>\n",
       "      <td>24169.000000</td>\n",
       "      <td>24169.000000</td>\n",
       "      <td>...</td>\n",
       "      <td>24169.000000</td>\n",
       "      <td>24169.000000</td>\n",
       "      <td>24169.000000</td>\n",
       "      <td>24169.000000</td>\n",
       "      <td>2.416900e+04</td>\n",
       "      <td>24169.000000</td>\n",
       "      <td>24169.000000</td>\n",
       "      <td>24169.000000</td>\n",
       "      <td>24169.000000</td>\n",
       "      <td>24169.000000</td>\n",
       "    </tr>\n",
       "    <tr>\n",
       "      <th>mean</th>\n",
       "      <td>15031.693161</td>\n",
       "      <td>15032.693161</td>\n",
       "      <td>167391.024867</td>\n",
       "      <td>1.605817</td>\n",
       "      <td>1.853076</td>\n",
       "      <td>1.550871</td>\n",
       "      <td>35.469444</td>\n",
       "      <td>-0.018453</td>\n",
       "      <td>-0.135504</td>\n",
       "      <td>-0.164963</td>\n",
       "      <td>...</td>\n",
       "      <td>43153.864372</td>\n",
       "      <td>40156.224585</td>\n",
       "      <td>38738.109603</td>\n",
       "      <td>5681.134759</td>\n",
       "      <td>5.942295e+03</td>\n",
       "      <td>5213.239935</td>\n",
       "      <td>4801.607017</td>\n",
       "      <td>4803.390128</td>\n",
       "      <td>5252.875047</td>\n",
       "      <td>0.218420</td>\n",
       "    </tr>\n",
       "    <tr>\n",
       "      <th>std</th>\n",
       "      <td>8661.614261</td>\n",
       "      <td>8661.614261</td>\n",
       "      <td>129519.754764</td>\n",
       "      <td>0.488685</td>\n",
       "      <td>0.790629</td>\n",
       "      <td>0.520981</td>\n",
       "      <td>9.193634</td>\n",
       "      <td>1.123273</td>\n",
       "      <td>1.195428</td>\n",
       "      <td>1.195498</td>\n",
       "      <td>...</td>\n",
       "      <td>64197.409775</td>\n",
       "      <td>60531.338697</td>\n",
       "      <td>59314.750357</td>\n",
       "      <td>16895.052567</td>\n",
       "      <td>2.331366e+04</td>\n",
       "      <td>16984.502935</td>\n",
       "      <td>15798.979087</td>\n",
       "      <td>15282.699900</td>\n",
       "      <td>17668.019737</td>\n",
       "      <td>0.413183</td>\n",
       "    </tr>\n",
       "    <tr>\n",
       "      <th>min</th>\n",
       "      <td>0.000000</td>\n",
       "      <td>1.000000</td>\n",
       "      <td>10000.000000</td>\n",
       "      <td>1.000000</td>\n",
       "      <td>0.000000</td>\n",
       "      <td>0.000000</td>\n",
       "      <td>21.000000</td>\n",
       "      <td>-2.000000</td>\n",
       "      <td>-2.000000</td>\n",
       "      <td>-2.000000</td>\n",
       "      <td>...</td>\n",
       "      <td>-170000.000000</td>\n",
       "      <td>-61372.000000</td>\n",
       "      <td>-339603.000000</td>\n",
       "      <td>0.000000</td>\n",
       "      <td>0.000000e+00</td>\n",
       "      <td>0.000000</td>\n",
       "      <td>0.000000</td>\n",
       "      <td>0.000000</td>\n",
       "      <td>0.000000</td>\n",
       "      <td>0.000000</td>\n",
       "    </tr>\n",
       "    <tr>\n",
       "      <th>25%</th>\n",
       "      <td>7555.000000</td>\n",
       "      <td>7556.000000</td>\n",
       "      <td>50000.000000</td>\n",
       "      <td>1.000000</td>\n",
       "      <td>1.000000</td>\n",
       "      <td>1.000000</td>\n",
       "      <td>28.000000</td>\n",
       "      <td>-1.000000</td>\n",
       "      <td>-1.000000</td>\n",
       "      <td>-1.000000</td>\n",
       "      <td>...</td>\n",
       "      <td>2360.000000</td>\n",
       "      <td>1776.000000</td>\n",
       "      <td>1256.000000</td>\n",
       "      <td>1000.000000</td>\n",
       "      <td>8.200000e+02</td>\n",
       "      <td>392.000000</td>\n",
       "      <td>295.000000</td>\n",
       "      <td>265.000000</td>\n",
       "      <td>150.000000</td>\n",
       "      <td>0.000000</td>\n",
       "    </tr>\n",
       "    <tr>\n",
       "      <th>50%</th>\n",
       "      <td>15049.000000</td>\n",
       "      <td>15050.000000</td>\n",
       "      <td>140000.000000</td>\n",
       "      <td>2.000000</td>\n",
       "      <td>2.000000</td>\n",
       "      <td>2.000000</td>\n",
       "      <td>34.000000</td>\n",
       "      <td>0.000000</td>\n",
       "      <td>0.000000</td>\n",
       "      <td>0.000000</td>\n",
       "      <td>...</td>\n",
       "      <td>18981.000000</td>\n",
       "      <td>18043.000000</td>\n",
       "      <td>16921.000000</td>\n",
       "      <td>2100.000000</td>\n",
       "      <td>2.005000e+03</td>\n",
       "      <td>1804.000000</td>\n",
       "      <td>1500.000000</td>\n",
       "      <td>1500.000000</td>\n",
       "      <td>1500.000000</td>\n",
       "      <td>0.000000</td>\n",
       "    </tr>\n",
       "    <tr>\n",
       "      <th>75%</th>\n",
       "      <td>22555.000000</td>\n",
       "      <td>22556.000000</td>\n",
       "      <td>240000.000000</td>\n",
       "      <td>2.000000</td>\n",
       "      <td>2.000000</td>\n",
       "      <td>2.000000</td>\n",
       "      <td>41.000000</td>\n",
       "      <td>0.000000</td>\n",
       "      <td>0.000000</td>\n",
       "      <td>0.000000</td>\n",
       "      <td>...</td>\n",
       "      <td>54078.000000</td>\n",
       "      <td>50147.000000</td>\n",
       "      <td>49062.000000</td>\n",
       "      <td>5006.000000</td>\n",
       "      <td>5.000000e+03</td>\n",
       "      <td>4504.000000</td>\n",
       "      <td>4000.000000</td>\n",
       "      <td>4026.000000</td>\n",
       "      <td>4001.000000</td>\n",
       "      <td>0.000000</td>\n",
       "    </tr>\n",
       "    <tr>\n",
       "      <th>max</th>\n",
       "      <td>29999.000000</td>\n",
       "      <td>30000.000000</td>\n",
       "      <td>800000.000000</td>\n",
       "      <td>2.000000</td>\n",
       "      <td>6.000000</td>\n",
       "      <td>3.000000</td>\n",
       "      <td>75.000000</td>\n",
       "      <td>8.000000</td>\n",
       "      <td>8.000000</td>\n",
       "      <td>8.000000</td>\n",
       "      <td>...</td>\n",
       "      <td>706864.000000</td>\n",
       "      <td>823540.000000</td>\n",
       "      <td>699944.000000</td>\n",
       "      <td>873552.000000</td>\n",
       "      <td>1.684259e+06</td>\n",
       "      <td>889043.000000</td>\n",
       "      <td>621000.000000</td>\n",
       "      <td>426529.000000</td>\n",
       "      <td>528666.000000</td>\n",
       "      <td>1.000000</td>\n",
       "    </tr>\n",
       "  </tbody>\n",
       "</table>\n",
       "<p>8 rows × 26 columns</p>\n",
       "</div>"
      ],
      "text/plain": [
       "         Unnamed: 0            ID      LIMIT_BAL           SEX     EDUCATION  \\\n",
       "count  24169.000000  24169.000000   24169.000000  24169.000000  24169.000000   \n",
       "mean   15031.693161  15032.693161  167391.024867      1.605817      1.853076   \n",
       "std     8661.614261   8661.614261  129519.754764      0.488685      0.790629   \n",
       "min        0.000000      1.000000   10000.000000      1.000000      0.000000   \n",
       "25%     7555.000000   7556.000000   50000.000000      1.000000      1.000000   \n",
       "50%    15049.000000  15050.000000  140000.000000      2.000000      2.000000   \n",
       "75%    22555.000000  22556.000000  240000.000000      2.000000      2.000000   \n",
       "max    29999.000000  30000.000000  800000.000000      2.000000      6.000000   \n",
       "\n",
       "           MARRIAGE           AGE         PAY_0         PAY_2         PAY_3  \\\n",
       "count  24169.000000  24169.000000  24169.000000  24169.000000  24169.000000   \n",
       "mean       1.550871     35.469444     -0.018453     -0.135504     -0.164963   \n",
       "std        0.520981      9.193634      1.123273      1.195428      1.195498   \n",
       "min        0.000000     21.000000     -2.000000     -2.000000     -2.000000   \n",
       "25%        1.000000     28.000000     -1.000000     -1.000000     -1.000000   \n",
       "50%        2.000000     34.000000      0.000000      0.000000      0.000000   \n",
       "75%        2.000000     41.000000      0.000000      0.000000      0.000000   \n",
       "max        3.000000     75.000000      8.000000      8.000000      8.000000   \n",
       "\n",
       "                  ...                  BILL_AMT4      BILL_AMT5  \\\n",
       "count             ...               24169.000000   24169.000000   \n",
       "mean              ...               43153.864372   40156.224585   \n",
       "std               ...               64197.409775   60531.338697   \n",
       "min               ...             -170000.000000  -61372.000000   \n",
       "25%               ...                2360.000000    1776.000000   \n",
       "50%               ...               18981.000000   18043.000000   \n",
       "75%               ...               54078.000000   50147.000000   \n",
       "max               ...              706864.000000  823540.000000   \n",
       "\n",
       "           BILL_AMT6       PAY_AMT1      PAY_AMT2       PAY_AMT3  \\\n",
       "count   24169.000000   24169.000000  2.416900e+04   24169.000000   \n",
       "mean    38738.109603    5681.134759  5.942295e+03    5213.239935   \n",
       "std     59314.750357   16895.052567  2.331366e+04   16984.502935   \n",
       "min   -339603.000000       0.000000  0.000000e+00       0.000000   \n",
       "25%      1256.000000    1000.000000  8.200000e+02     392.000000   \n",
       "50%     16921.000000    2100.000000  2.005000e+03    1804.000000   \n",
       "75%     49062.000000    5006.000000  5.000000e+03    4504.000000   \n",
       "max    699944.000000  873552.000000  1.684259e+06  889043.000000   \n",
       "\n",
       "            PAY_AMT4       PAY_AMT5       PAY_AMT6  default payment next month  \n",
       "count   24169.000000   24169.000000   24169.000000                24169.000000  \n",
       "mean     4801.607017    4803.390128    5252.875047                    0.218420  \n",
       "std     15798.979087   15282.699900   17668.019737                    0.413183  \n",
       "min         0.000000       0.000000       0.000000                    0.000000  \n",
       "25%       295.000000     265.000000     150.000000                    0.000000  \n",
       "50%      1500.000000    1500.000000    1500.000000                    0.000000  \n",
       "75%      4000.000000    4026.000000    4001.000000                    0.000000  \n",
       "max    621000.000000  426529.000000  528666.000000                    1.000000  \n",
       "\n",
       "[8 rows x 26 columns]"
      ]
     },
     "execution_count": 4,
     "metadata": {},
     "output_type": "execute_result"
    }
   ],
   "source": [
    "train_df.describe()"
   ]
  },
  {
   "cell_type": "code",
   "execution_count": 5,
   "metadata": {},
   "outputs": [
    {
     "data": {
      "text/plain": [
       "Index(['Unnamed: 0', 'ID', 'LIMIT_BAL', 'SEX', 'EDUCATION', 'MARRIAGE', 'AGE',\n",
       "       'PAY_0', 'PAY_2', 'PAY_3', 'PAY_4', 'PAY_5', 'PAY_6', 'BILL_AMT1',\n",
       "       'BILL_AMT2', 'BILL_AMT3', 'BILL_AMT4', 'BILL_AMT5', 'BILL_AMT6',\n",
       "       'PAY_AMT1', 'PAY_AMT2', 'PAY_AMT3', 'PAY_AMT4', 'PAY_AMT5', 'PAY_AMT6',\n",
       "       'default payment next month'],\n",
       "      dtype='object')"
      ]
     },
     "execution_count": 5,
     "metadata": {},
     "output_type": "execute_result"
    }
   ],
   "source": [
    "train_df.columns"
   ]
  },
  {
   "cell_type": "code",
   "execution_count": 6,
   "metadata": {},
   "outputs": [
    {
     "data": {
      "text/html": [
       "<div>\n",
       "<style scoped>\n",
       "    .dataframe tbody tr th:only-of-type {\n",
       "        vertical-align: middle;\n",
       "    }\n",
       "\n",
       "    .dataframe tbody tr th {\n",
       "        vertical-align: top;\n",
       "    }\n",
       "\n",
       "    .dataframe thead th {\n",
       "        text-align: right;\n",
       "    }\n",
       "</style>\n",
       "<table border=\"1\" class=\"dataframe\">\n",
       "  <thead>\n",
       "    <tr style=\"text-align: right;\">\n",
       "      <th></th>\n",
       "      <th>Total</th>\n",
       "      <th>Percentage</th>\n",
       "    </tr>\n",
       "  </thead>\n",
       "  <tbody>\n",
       "    <tr>\n",
       "      <th>Unnamed: 0</th>\n",
       "      <td>0</td>\n",
       "      <td>0.0</td>\n",
       "    </tr>\n",
       "    <tr>\n",
       "      <th>ID</th>\n",
       "      <td>0</td>\n",
       "      <td>0.0</td>\n",
       "    </tr>\n",
       "    <tr>\n",
       "      <th>LIMIT_BAL</th>\n",
       "      <td>0</td>\n",
       "      <td>0.0</td>\n",
       "    </tr>\n",
       "    <tr>\n",
       "      <th>SEX</th>\n",
       "      <td>0</td>\n",
       "      <td>0.0</td>\n",
       "    </tr>\n",
       "    <tr>\n",
       "      <th>EDUCATION</th>\n",
       "      <td>0</td>\n",
       "      <td>0.0</td>\n",
       "    </tr>\n",
       "    <tr>\n",
       "      <th>MARRIAGE</th>\n",
       "      <td>0</td>\n",
       "      <td>0.0</td>\n",
       "    </tr>\n",
       "    <tr>\n",
       "      <th>AGE</th>\n",
       "      <td>0</td>\n",
       "      <td>0.0</td>\n",
       "    </tr>\n",
       "    <tr>\n",
       "      <th>PAY_0</th>\n",
       "      <td>0</td>\n",
       "      <td>0.0</td>\n",
       "    </tr>\n",
       "    <tr>\n",
       "      <th>PAY_2</th>\n",
       "      <td>0</td>\n",
       "      <td>0.0</td>\n",
       "    </tr>\n",
       "    <tr>\n",
       "      <th>PAY_3</th>\n",
       "      <td>0</td>\n",
       "      <td>0.0</td>\n",
       "    </tr>\n",
       "    <tr>\n",
       "      <th>PAY_4</th>\n",
       "      <td>0</td>\n",
       "      <td>0.0</td>\n",
       "    </tr>\n",
       "    <tr>\n",
       "      <th>PAY_5</th>\n",
       "      <td>0</td>\n",
       "      <td>0.0</td>\n",
       "    </tr>\n",
       "    <tr>\n",
       "      <th>PAY_6</th>\n",
       "      <td>0</td>\n",
       "      <td>0.0</td>\n",
       "    </tr>\n",
       "    <tr>\n",
       "      <th>BILL_AMT1</th>\n",
       "      <td>0</td>\n",
       "      <td>0.0</td>\n",
       "    </tr>\n",
       "    <tr>\n",
       "      <th>BILL_AMT2</th>\n",
       "      <td>0</td>\n",
       "      <td>0.0</td>\n",
       "    </tr>\n",
       "    <tr>\n",
       "      <th>BILL_AMT3</th>\n",
       "      <td>0</td>\n",
       "      <td>0.0</td>\n",
       "    </tr>\n",
       "    <tr>\n",
       "      <th>BILL_AMT4</th>\n",
       "      <td>0</td>\n",
       "      <td>0.0</td>\n",
       "    </tr>\n",
       "    <tr>\n",
       "      <th>BILL_AMT5</th>\n",
       "      <td>0</td>\n",
       "      <td>0.0</td>\n",
       "    </tr>\n",
       "    <tr>\n",
       "      <th>BILL_AMT6</th>\n",
       "      <td>0</td>\n",
       "      <td>0.0</td>\n",
       "    </tr>\n",
       "    <tr>\n",
       "      <th>PAY_AMT1</th>\n",
       "      <td>0</td>\n",
       "      <td>0.0</td>\n",
       "    </tr>\n",
       "    <tr>\n",
       "      <th>PAY_AMT2</th>\n",
       "      <td>0</td>\n",
       "      <td>0.0</td>\n",
       "    </tr>\n",
       "    <tr>\n",
       "      <th>PAY_AMT3</th>\n",
       "      <td>0</td>\n",
       "      <td>0.0</td>\n",
       "    </tr>\n",
       "    <tr>\n",
       "      <th>PAY_AMT4</th>\n",
       "      <td>0</td>\n",
       "      <td>0.0</td>\n",
       "    </tr>\n",
       "    <tr>\n",
       "      <th>PAY_AMT5</th>\n",
       "      <td>0</td>\n",
       "      <td>0.0</td>\n",
       "    </tr>\n",
       "    <tr>\n",
       "      <th>PAY_AMT6</th>\n",
       "      <td>0</td>\n",
       "      <td>0.0</td>\n",
       "    </tr>\n",
       "    <tr>\n",
       "      <th>default payment next month</th>\n",
       "      <td>0</td>\n",
       "      <td>0.0</td>\n",
       "    </tr>\n",
       "  </tbody>\n",
       "</table>\n",
       "</div>"
      ],
      "text/plain": [
       "                            Total  Percentage\n",
       "Unnamed: 0                      0         0.0\n",
       "ID                              0         0.0\n",
       "LIMIT_BAL                       0         0.0\n",
       "SEX                             0         0.0\n",
       "EDUCATION                       0         0.0\n",
       "MARRIAGE                        0         0.0\n",
       "AGE                             0         0.0\n",
       "PAY_0                           0         0.0\n",
       "PAY_2                           0         0.0\n",
       "PAY_3                           0         0.0\n",
       "PAY_4                           0         0.0\n",
       "PAY_5                           0         0.0\n",
       "PAY_6                           0         0.0\n",
       "BILL_AMT1                       0         0.0\n",
       "BILL_AMT2                       0         0.0\n",
       "BILL_AMT3                       0         0.0\n",
       "BILL_AMT4                       0         0.0\n",
       "BILL_AMT5                       0         0.0\n",
       "BILL_AMT6                       0         0.0\n",
       "PAY_AMT1                        0         0.0\n",
       "PAY_AMT2                        0         0.0\n",
       "PAY_AMT3                        0         0.0\n",
       "PAY_AMT4                        0         0.0\n",
       "PAY_AMT5                        0         0.0\n",
       "PAY_AMT6                        0         0.0\n",
       "default payment next month      0         0.0"
      ]
     },
     "execution_count": 6,
     "metadata": {},
     "output_type": "execute_result"
    }
   ],
   "source": [
    "total = train_df.isnull().sum()\n",
    "percentage = (train_df.isnull().sum()/train_df.isnull().count()*100)\n",
    "pd.concat([total, percentage], axis=1, keys=['Total', 'Percentage'])"
   ]
  },
  {
   "cell_type": "markdown",
   "metadata": {},
   "source": [
    "there is no missing data"
   ]
  },
  {
   "cell_type": "code",
   "execution_count": 7,
   "metadata": {},
   "outputs": [],
   "source": [
    "train_df = train_df.drop(['Unnamed: 0'], axis=1)\n",
    "train_df = train_df.drop(['ID'], axis=1)\n",
    "\n",
    "test_df = test_df.drop(['Unnamed: 0'], axis=1)\n",
    "test_df = test_df.drop(['ID'], axis=1)"
   ]
  },
  {
   "cell_type": "code",
   "execution_count": 8,
   "metadata": {},
   "outputs": [],
   "source": [
    "train_df = train_df.rename(columns={'default payment next month': 'default_pay', 'PAY_0': 'PAY_1'})\n",
    "\n",
    "test_df = test_df.rename(columns={'default payment next month': 'default_pay', 'PAY_0': 'PAY_1'})"
   ]
  },
  {
   "cell_type": "code",
   "execution_count": 9,
   "metadata": {},
   "outputs": [
    {
     "data": {
      "text/plain": [
       "2    14642\n",
       "1     9527\n",
       "Name: SEX, dtype: int64"
      ]
     },
     "execution_count": 9,
     "metadata": {},
     "output_type": "execute_result"
    }
   ],
   "source": [
    "train_df.SEX.value_counts()"
   ]
  },
  {
   "cell_type": "code",
   "execution_count": 10,
   "metadata": {},
   "outputs": [
    {
     "data": {
      "text/plain": [
       "2    12863\n",
       "1    11016\n",
       "3      247\n",
       "0       43\n",
       "Name: MARRIAGE, dtype: int64"
      ]
     },
     "execution_count": 10,
     "metadata": {},
     "output_type": "execute_result"
    }
   ],
   "source": [
    "train_df.MARRIAGE.value_counts()"
   ]
  },
  {
   "cell_type": "code",
   "execution_count": 11,
   "metadata": {},
   "outputs": [
    {
     "data": {
      "text/plain": [
       "2    11323\n",
       "1     8524\n",
       "3     3952\n",
       "5      229\n",
       "4       88\n",
       "6       44\n",
       "0        9\n",
       "Name: EDUCATION, dtype: int64"
      ]
     },
     "execution_count": 11,
     "metadata": {},
     "output_type": "execute_result"
    }
   ],
   "source": [
    "train_df.EDUCATION.value_counts()"
   ]
  },
  {
   "cell_type": "markdown",
   "metadata": {},
   "source": [
    "Remove Unlabelled values 5,6,0 in education and replace them with 4"
   ]
  },
  {
   "cell_type": "code",
   "execution_count": 12,
   "metadata": {},
   "outputs": [],
   "source": [
    "train_df.loc[(train_df.EDUCATION==5) | (train_df.EDUCATION==6) | (train_df.EDUCATION==0), 'EDUCATION'] = 4\n",
    "\n",
    "test_df.loc[(test_df.EDUCATION==5) | (test_df.EDUCATION==6) | (test_df.EDUCATION==0), 'EDUCATION'] = 4"
   ]
  },
  {
   "cell_type": "code",
   "execution_count": 13,
   "metadata": {},
   "outputs": [
    {
     "data": {
      "text/plain": [
       "2    11323\n",
       "1     8524\n",
       "3     3952\n",
       "4      370\n",
       "Name: EDUCATION, dtype: int64"
      ]
     },
     "execution_count": 13,
     "metadata": {},
     "output_type": "execute_result"
    }
   ],
   "source": [
    "train_df.EDUCATION.value_counts()"
   ]
  },
  {
   "cell_type": "markdown",
   "metadata": {},
   "source": [
    "Remove Unlabelled values 0 in Marriage and replace them with 3"
   ]
  },
  {
   "cell_type": "code",
   "execution_count": 14,
   "metadata": {},
   "outputs": [],
   "source": [
    "train_df.loc[train_df.MARRIAGE==0, 'MARRIAGE'] = 3\n",
    "\n",
    "test_df.loc[test_df.MARRIAGE==0, 'MARRIAGE'] = 3"
   ]
  },
  {
   "cell_type": "code",
   "execution_count": 15,
   "metadata": {},
   "outputs": [
    {
     "data": {
      "text/plain": [
       "2    12863\n",
       "1    11016\n",
       "3      290\n",
       "Name: MARRIAGE, dtype: int64"
      ]
     },
     "execution_count": 15,
     "metadata": {},
     "output_type": "execute_result"
    }
   ],
   "source": [
    "train_df.MARRIAGE.value_counts()"
   ]
  },
  {
   "cell_type": "code",
   "execution_count": 16,
   "metadata": {},
   "outputs": [
    {
     "data": {
      "text/plain": [
       " 0    11874\n",
       "-1     4632\n",
       " 1     2948\n",
       "-2     2203\n",
       " 2     2131\n",
       " 3      265\n",
       " 4       61\n",
       " 5       23\n",
       " 8       15\n",
       " 6       11\n",
       " 7        6\n",
       "Name: PAY_1, dtype: int64"
      ]
     },
     "execution_count": 16,
     "metadata": {},
     "output_type": "execute_result"
    }
   ],
   "source": [
    "train_df.PAY_1.value_counts()"
   ]
  },
  {
   "cell_type": "code",
   "execution_count": 17,
   "metadata": {},
   "outputs": [
    {
     "data": {
      "text/plain": [
       " 0    12669\n",
       "-1     4931\n",
       " 2     3142\n",
       "-2     3019\n",
       " 3      255\n",
       " 4       84\n",
       " 5       23\n",
       " 1       20\n",
       " 7       16\n",
       " 6        9\n",
       " 8        1\n",
       "Name: PAY_2, dtype: int64"
      ]
     },
     "execution_count": 17,
     "metadata": {},
     "output_type": "execute_result"
    }
   ],
   "source": [
    "train_df.PAY_2.value_counts()"
   ]
  },
  {
   "cell_type": "code",
   "execution_count": 18,
   "metadata": {},
   "outputs": [
    {
     "data": {
      "text/plain": [
       " 0    12673\n",
       "-1     4830\n",
       "-2     3261\n",
       " 2     3089\n",
       " 3      192\n",
       " 4       63\n",
       " 7       21\n",
       " 6       18\n",
       " 5       17\n",
       " 1        3\n",
       " 8        2\n",
       "Name: PAY_3, dtype: int64"
      ]
     },
     "execution_count": 18,
     "metadata": {},
     "output_type": "execute_result"
    }
   ],
   "source": [
    "train_df.PAY_3.value_counts()"
   ]
  },
  {
   "cell_type": "code",
   "execution_count": 19,
   "metadata": {},
   "outputs": [
    {
     "data": {
      "text/plain": [
       " 0    13272\n",
       "-1     4603\n",
       "-2     3473\n",
       " 2     2549\n",
       " 3      137\n",
       " 4       50\n",
       " 7       47\n",
       " 5       29\n",
       " 6        5\n",
       " 8        2\n",
       " 1        2\n",
       "Name: PAY_4, dtype: int64"
      ]
     },
     "execution_count": 19,
     "metadata": {},
     "output_type": "execute_result"
    }
   ],
   "source": [
    "train_df.PAY_4.value_counts()"
   ]
  },
  {
   "cell_type": "code",
   "execution_count": 20,
   "metadata": {},
   "outputs": [
    {
     "data": {
      "text/plain": [
       " 0    13661\n",
       "-1     4489\n",
       "-2     3628\n",
       " 2     2118\n",
       " 3      135\n",
       " 4       72\n",
       " 7       47\n",
       " 5       14\n",
       " 6        4\n",
       " 8        1\n",
       "Name: PAY_5, dtype: int64"
      ]
     },
     "execution_count": 20,
     "metadata": {},
     "output_type": "execute_result"
    }
   ],
   "source": [
    "train_df.PAY_5.value_counts()"
   ]
  },
  {
   "cell_type": "code",
   "execution_count": 21,
   "metadata": {},
   "outputs": [
    {
     "data": {
      "text/plain": [
       " 0    13147\n",
       "-1     4651\n",
       "-2     3897\n",
       " 2     2221\n",
       " 3      149\n",
       " 4       39\n",
       " 7       38\n",
       " 6       14\n",
       " 5       11\n",
       " 8        2\n",
       "Name: PAY_6, dtype: int64"
      ]
     },
     "execution_count": 21,
     "metadata": {},
     "output_type": "execute_result"
    }
   ],
   "source": [
    "train_df.PAY_6.value_counts()"
   ]
  },
  {
   "cell_type": "markdown",
   "metadata": {},
   "source": [
    "PAY_1 to PAY_6 all have -1, -2 which should be converted to 0"
   ]
  },
  {
   "cell_type": "code",
   "execution_count": 22,
   "metadata": {},
   "outputs": [],
   "source": [
    "train_df.loc[(train_df.PAY_1==-1) | (train_df.PAY_1==-2), 'PAY_1'] = 0\n",
    "train_df.loc[(train_df.PAY_2==-1) | (train_df.PAY_2==-2), 'PAY_2'] = 0\n",
    "train_df.loc[(train_df.PAY_3==-1) | (train_df.PAY_3==-2), 'PAY_3'] = 0\n",
    "train_df.loc[(train_df.PAY_4==-1) | (train_df.PAY_4==-2), 'PAY_4'] = 0\n",
    "train_df.loc[(train_df.PAY_5==-1) | (train_df.PAY_5==-2), 'PAY_5'] = 0\n",
    "train_df.loc[(train_df.PAY_6==-1) | (train_df.PAY_6==-2), 'PAY_6'] = 0\n",
    "\n",
    "test_df.loc[(test_df.PAY_1==-1) | (test_df.PAY_1==-2), 'PAY_1'] = 0\n",
    "test_df.loc[(test_df.PAY_2==-1) | (test_df.PAY_2==-2), 'PAY_2'] = 0\n",
    "test_df.loc[(test_df.PAY_3==-1) | (test_df.PAY_3==-2), 'PAY_3'] = 0\n",
    "test_df.loc[(test_df.PAY_4==-1) | (test_df.PAY_4==-2), 'PAY_4'] = 0\n",
    "test_df.loc[(test_df.PAY_5==-1) | (test_df.PAY_5==-2), 'PAY_5'] = 0\n",
    "test_df.loc[(test_df.PAY_6==-1) | (test_df.PAY_6==-2), 'PAY_6'] = 0"
   ]
  },
  {
   "cell_type": "markdown",
   "metadata": {},
   "source": [
    "Add New Column age Category"
   ]
  },
  {
   "cell_type": "code",
   "execution_count": 23,
   "metadata": {},
   "outputs": [],
   "source": [
    "train_df['AgeCat'] = pd.cut(train_df['AGE'], 6, labels = [1,2,3,4,5,6])\n",
    "train_df['AgeCat'] = pd.to_numeric(train_df['AgeCat'])\n",
    "train_df.loc[(train_df['AgeCat'] == 6) , 'AgeCat'] = 5\n",
    "\n",
    "test_df['AgeCat'] = pd.cut(test_df['AGE'], 6, labels = [1,2,3,4,5,6])\n",
    "test_df['AgeCat'] = pd.to_numeric(test_df['AgeCat'])\n",
    "test_df.loc[(test_df['AgeCat'] == 6) , 'AgeCat'] = 5"
   ]
  },
  {
   "cell_type": "markdown",
   "metadata": {},
   "source": [
    "Sex and marriage, sex and age are two important factors that can influence hence, add both the rows"
   ]
  },
  {
   "cell_type": "code",
   "execution_count": 24,
   "metadata": {},
   "outputs": [],
   "source": [
    "train_df['SE_MA'] = 0\n",
    "train_df.loc[((train_df.SEX == 1) & (train_df.MARRIAGE == 1)) , 'SE_MA'] = 1 #married man\n",
    "train_df.loc[((train_df.SEX == 1) & (train_df.MARRIAGE == 2)) , 'SE_MA'] = 2 #single man\n",
    "train_df.loc[((train_df.SEX == 1) & (train_df.MARRIAGE == 3)) , 'SE_MA'] = 3 #divorced man\n",
    "train_df.loc[((train_df.SEX == 2) & (train_df.MARRIAGE == 1)) , 'SE_MA'] = 4 #married woman\n",
    "train_df.loc[((train_df.SEX == 2) & (train_df.MARRIAGE == 2)) , 'SE_MA'] = 5 #single woman\n",
    "train_df.loc[((train_df.SEX == 2) & (train_df.MARRIAGE == 3)) , 'SE_MA'] = 6 #divorced woman\n",
    "\n",
    "test_df['SE_MA'] = 0\n",
    "test_df.loc[((test_df.SEX == 1) & (test_df.MARRIAGE == 1)) , 'SE_MA'] = 1 #married man\n",
    "test_df.loc[((test_df.SEX == 1) & (test_df.MARRIAGE == 2)) , 'SE_MA'] = 2 #single man\n",
    "test_df.loc[((test_df.SEX == 1) & (test_df.MARRIAGE == 3)) , 'SE_MA'] = 3 #divorced man\n",
    "test_df.loc[((test_df.SEX == 2) & (test_df.MARRIAGE == 1)) , 'SE_MA'] = 4 #married woman\n",
    "test_df.loc[((test_df.SEX == 2) & (test_df.MARRIAGE == 2)) , 'SE_MA'] = 5 #single woman\n",
    "test_df.loc[((test_df.SEX == 2) & (test_df.MARRIAGE == 3)) , 'SE_MA'] = 6 #divorced woman"
   ]
  },
  {
   "cell_type": "code",
   "execution_count": 25,
   "metadata": {},
   "outputs": [],
   "source": [
    "train_df['SE_AG'] = 0\n",
    "train_df.loc[((train_df.SEX == 1) & (train_df.AgeCat == 1)) , 'SE_AG'] = 1 #man in 20's\n",
    "train_df.loc[((train_df.SEX == 1) & (train_df.AgeCat == 2)) , 'SE_AG'] = 2 #man in 30's\n",
    "train_df.loc[((train_df.SEX == 1) & (train_df.AgeCat == 3)) , 'SE_AG'] = 3 #man in 40's\n",
    "train_df.loc[((train_df.SEX == 1) & (train_df.AgeCat == 4)) , 'SE_AG'] = 4 #man in 50's\n",
    "train_df.loc[((train_df.SEX == 1) & (train_df.AgeCat == 5)) , 'SE_AG'] = 5 #man in 60's and above\n",
    "train_df.loc[((train_df.SEX == 2) & (train_df.AgeCat == 1)) , 'SE_AG'] = 6 #woman in 20's\n",
    "train_df.loc[((train_df.SEX == 2) & (train_df.AgeCat == 2)) , 'SE_AG'] = 7 #woman in 30's\n",
    "train_df.loc[((train_df.SEX == 2) & (train_df.AgeCat == 3)) , 'SE_AG'] = 8 #woman in 40's\n",
    "train_df.loc[((train_df.SEX == 2) & (train_df.AgeCat == 4)) , 'SE_AG'] = 9 #woman in 50's\n",
    "train_df.loc[((train_df.SEX == 2) & (train_df.AgeCat == 5)) , 'SE_AG'] = 10 #woman in 60's and above\n",
    "\n",
    "test_df['SE_AG'] = 0\n",
    "test_df.loc[((test_df.SEX == 1) & (test_df.AgeCat == 1)) , 'SE_AG'] = 1 #man in 20's\n",
    "test_df.loc[((test_df.SEX == 1) & (test_df.AgeCat == 2)) , 'SE_AG'] = 2 #man in 30's\n",
    "test_df.loc[((test_df.SEX == 1) & (test_df.AgeCat == 3)) , 'SE_AG'] = 3 #man in 40's\n",
    "test_df.loc[((test_df.SEX == 1) & (test_df.AgeCat == 4)) , 'SE_AG'] = 4 #man in 50's\n",
    "test_df.loc[((test_df.SEX == 1) & (test_df.AgeCat == 5)) , 'SE_AG'] = 5 #man in 60's and above\n",
    "test_df.loc[((test_df.SEX == 2) & (test_df.AgeCat == 1)) , 'SE_AG'] = 6 #woman in 20's\n",
    "test_df.loc[((test_df.SEX == 2) & (test_df.AgeCat == 2)) , 'SE_AG'] = 7 #woman in 30's\n",
    "test_df.loc[((test_df.SEX == 2) & (test_df.AgeCat == 3)) , 'SE_AG'] = 8 #woman in 40's\n",
    "test_df.loc[((test_df.SEX == 2) & (test_df.AgeCat == 4)) , 'SE_AG'] = 9 #woman in 50's\n",
    "test_df.loc[((test_df.SEX == 2) & (test_df.AgeCat == 5)) , 'SE_AG'] = 10 #woman in 60's and above"
   ]
  },
  {
   "cell_type": "markdown",
   "metadata": {},
   "source": [
    "Since we have created two new categories bcaed on sex, we will drop column sex, and we will drop age and use agecat"
   ]
  },
  {
   "cell_type": "code",
   "execution_count": 26,
   "metadata": {},
   "outputs": [],
   "source": [
    "#train_df = train_df.drop(['AGE'], axis=1)\n",
    "#train_df = train_df.drop(['SEX'], axis=1)\n",
    "\n",
    "#test_df = test_df.drop(['AGE'], axis=1)\n",
    "#test_df = test_df.drop(['SEX'], axis=1)"
   ]
  },
  {
   "cell_type": "code",
   "execution_count": 27,
   "metadata": {},
   "outputs": [],
   "source": [
    "features = ['LIMIT_BAL', 'EDUCATION', 'MARRIAGE', 'PAY_1', 'PAY_2', 'PAY_3',\n",
    "       'PAY_4', 'PAY_5', 'PAY_6', 'BILL_AMT1', 'BILL_AMT2', 'BILL_AMT3',\n",
    "       'BILL_AMT4', 'BILL_AMT5', 'BILL_AMT6', 'PAY_AMT1', 'PAY_AMT2',\n",
    "       'PAY_AMT3', 'PAY_AMT4', 'PAY_AMT5', 'PAY_AMT6', 'AgeCat',\n",
    "       'SE_MA', 'SE_AG']"
   ]
  },
  {
   "cell_type": "code",
   "execution_count": 28,
   "metadata": {},
   "outputs": [],
   "source": [
    "X = train_df[features].copy()\n",
    "Y = train_df['default_pay'].copy()\n",
    "X_train, X_test, Y_train, Y_test = train_test_split(X, Y, test_size=0.20, random_state=100) "
   ]
  },
  {
   "cell_type": "code",
   "execution_count": 29,
   "metadata": {},
   "outputs": [],
   "source": [
    "random_forest = RandomForestClassifier(n_estimators=25)\n",
    "random_forest.fit(X_train, Y_train)\n",
    "\n",
    "Y_prediction = random_forest.predict_proba(X_test)"
   ]
  },
  {
   "cell_type": "code",
   "execution_count": 30,
   "metadata": {},
   "outputs": [],
   "source": [
    "Y_f1 = Y_prediction[:,1] > 0.5\n",
    "Y_f1 = Y_f1.astype(int)"
   ]
  },
  {
   "cell_type": "code",
   "execution_count": 31,
   "metadata": {},
   "outputs": [
    {
     "data": {
      "text/plain": [
       "array([0, 0, 0, ..., 0, 0, 0])"
      ]
     },
     "execution_count": 31,
     "metadata": {},
     "output_type": "execute_result"
    }
   ],
   "source": [
    "Y_f1"
   ]
  },
  {
   "cell_type": "code",
   "execution_count": 32,
   "metadata": {},
   "outputs": [
    {
     "data": {
      "text/plain": [
       "0.4686746987951807"
      ]
     },
     "execution_count": 32,
     "metadata": {},
     "output_type": "execute_result"
    }
   ],
   "source": [
    "f1_score(Y_test, Y_f1)"
   ]
  },
  {
   "cell_type": "code",
   "execution_count": 33,
   "metadata": {},
   "outputs": [],
   "source": [
    "knn = KNeighborsClassifier(n_neighbors = 3)\n",
    "knn.fit(X_train, Y_train)\n",
    "\n",
    "Y_prediction = knn.predict_proba(X_test)"
   ]
  },
  {
   "cell_type": "code",
   "execution_count": 34,
   "metadata": {},
   "outputs": [],
   "source": [
    "Y_f2 = Y_prediction[:,1] > 0.5\n",
    "Y_f2 = Y_f2.astype(int)"
   ]
  },
  {
   "cell_type": "code",
   "execution_count": 35,
   "metadata": {},
   "outputs": [
    {
     "data": {
      "text/plain": [
       "0.27764976958525345"
      ]
     },
     "execution_count": 35,
     "metadata": {},
     "output_type": "execute_result"
    }
   ],
   "source": [
    "f1_score(Y_test, Y_f2)"
   ]
  },
  {
   "cell_type": "code",
   "execution_count": 36,
   "metadata": {},
   "outputs": [
    {
     "name": "stderr",
     "output_type": "stream",
     "text": [
      "C:\\Users\\admin\\Anaconda3\\lib\\site-packages\\sklearn\\linear_model\\logistic.py:433: FutureWarning: Default solver will be changed to 'lbfgs' in 0.22. Specify a solver to silence this warning.\n",
      "  FutureWarning)\n"
     ]
    }
   ],
   "source": [
    "logisticRegression = LogisticRegression()\n",
    "logisticRegression.fit(X_train, Y_train)\n",
    "\n",
    "Y_prediction = logisticRegression.predict_proba(X_test)"
   ]
  },
  {
   "cell_type": "code",
   "execution_count": 37,
   "metadata": {},
   "outputs": [],
   "source": [
    "Y_f3 = Y_prediction[:,1] > 0.5\n",
    "Y_f3 = Y_f3.astype(int)"
   ]
  },
  {
   "cell_type": "code",
   "execution_count": 38,
   "metadata": {},
   "outputs": [
    {
     "data": {
      "text/plain": [
       "0.0019230769230769232"
      ]
     },
     "execution_count": 38,
     "metadata": {},
     "output_type": "execute_result"
    }
   ],
   "source": [
    "f1_score(Y_test, Y_f3)"
   ]
  },
  {
   "cell_type": "code",
   "execution_count": 39,
   "metadata": {},
   "outputs": [],
   "source": [
    "clf = DecisionTreeClassifier()\n",
    "clf.fit(X_train, Y_train)\n",
    "\n",
    "Y_prediction = clf.predict_proba(X_test)"
   ]
  },
  {
   "cell_type": "code",
   "execution_count": 40,
   "metadata": {},
   "outputs": [],
   "source": [
    "Y_f4 = Y_prediction[:,1] > 0.5\n",
    "Y_f4 = Y_f4.astype(int)"
   ]
  },
  {
   "cell_type": "code",
   "execution_count": 41,
   "metadata": {},
   "outputs": [
    {
     "data": {
      "text/plain": [
       "0.3916349809885932"
      ]
     },
     "execution_count": 41,
     "metadata": {},
     "output_type": "execute_result"
    }
   ],
   "source": [
    "f1_score(Y_test, Y_f4)"
   ]
  },
  {
   "cell_type": "code",
   "execution_count": 42,
   "metadata": {},
   "outputs": [],
   "source": [
    "gbclf = GradientBoostingClassifier()\n",
    "gbclf.fit(X_train, Y_train)\n",
    "\n",
    "Y_prediction = gbclf.predict_proba(X_test)"
   ]
  },
  {
   "cell_type": "code",
   "execution_count": 43,
   "metadata": {},
   "outputs": [],
   "source": [
    "Y_f5 = Y_prediction[:,1] > 0.5\n",
    "Y_f5 = Y_f5.astype(int)"
   ]
  },
  {
   "cell_type": "code",
   "execution_count": 44,
   "metadata": {},
   "outputs": [
    {
     "data": {
      "text/plain": [
       "0.47565543071161054"
      ]
     },
     "execution_count": 44,
     "metadata": {},
     "output_type": "execute_result"
    }
   ],
   "source": [
    "f1_score(Y_test, Y_f5)"
   ]
  },
  {
   "cell_type": "code",
   "execution_count": 45,
   "metadata": {},
   "outputs": [
    {
     "name": "stderr",
     "output_type": "stream",
     "text": [
      "C:\\Users\\admin\\Anaconda3\\lib\\site-packages\\sklearn\\preprocessing\\data.py:625: DataConversionWarning: Data with input dtype int64 were all converted to float64 by StandardScaler.\n",
      "  return self.partial_fit(X, y)\n",
      "C:\\Users\\admin\\Anaconda3\\lib\\site-packages\\ipykernel_launcher.py:3: DataConversionWarning: Data with input dtype int64 were all converted to float64 by StandardScaler.\n",
      "  This is separate from the ipykernel package so we can avoid doing imports until\n",
      "C:\\Users\\admin\\Anaconda3\\lib\\site-packages\\ipykernel_launcher.py:4: DataConversionWarning: Data with input dtype int64 were all converted to float64 by StandardScaler.\n",
      "  after removing the cwd from sys.path.\n"
     ]
    }
   ],
   "source": [
    "scaler = StandardScaler()\n",
    "scaler.fit(X_train)\n",
    "X_train = scaler.transform(X_train)\n",
    "X_test = scaler.transform(X_test)\n",
    "\n",
    "\n",
    "mlp = MLPClassifier(solver='lbfgs', alpha=1e-5, hidden_layer_sizes=(7, 2), random_state=1)\n",
    "mlp.fit(X_train, Y_train)\n",
    "\n",
    "Y_prediction = mlp.predict_proba(X_test)"
   ]
  },
  {
   "cell_type": "code",
   "execution_count": 46,
   "metadata": {},
   "outputs": [],
   "source": [
    "Y_f6 = Y_prediction[:,1] > 0.5\n",
    "Y_f6 = Y_f6.astype(int)"
   ]
  },
  {
   "cell_type": "code",
   "execution_count": 47,
   "metadata": {},
   "outputs": [
    {
     "data": {
      "text/plain": [
       "0.48053527980535277"
      ]
     },
     "execution_count": 47,
     "metadata": {},
     "output_type": "execute_result"
    }
   ],
   "source": [
    "f1_score(Y_test, Y_f6)"
   ]
  },
  {
   "cell_type": "markdown",
   "metadata": {},
   "source": [
    "MLP has highest f1 score among others, second is boosting, third is random forest, followed by Decision tree, KNN, logistic regression"
   ]
  },
  {
   "cell_type": "code",
   "execution_count": 48,
   "metadata": {},
   "outputs": [
    {
     "name": "stderr",
     "output_type": "stream",
     "text": [
      "C:\\Users\\admin\\Anaconda3\\lib\\site-packages\\ipykernel_launcher.py:2: DataConversionWarning: Data with input dtype int64 were all converted to float64 by StandardScaler.\n",
      "  \n"
     ]
    }
   ],
   "source": [
    "test_data = test_df.copy() \n",
    "test_data = scaler.transform(test_data[features]) "
   ]
  },
  {
   "cell_type": "code",
   "execution_count": 49,
   "metadata": {},
   "outputs": [],
   "source": [
    "prediction = mlp.predict_proba(test_data)"
   ]
  },
  {
   "cell_type": "code",
   "execution_count": 50,
   "metadata": {},
   "outputs": [
    {
     "data": {
      "text/plain": [
       "array([[0.68425972, 0.31574028],\n",
       "       [0.8425544 , 0.1574456 ],\n",
       "       [0.91175342, 0.08824658],\n",
       "       ...,\n",
       "       [0.7756179 , 0.2243821 ],\n",
       "       [0.26794449, 0.73205551],\n",
       "       [0.85415146, 0.14584854]])"
      ]
     },
     "execution_count": 50,
     "metadata": {},
     "output_type": "execute_result"
    }
   ],
   "source": [
    "prediction"
   ]
  },
  {
   "cell_type": "code",
   "execution_count": 51,
   "metadata": {},
   "outputs": [],
   "source": [
    "test_df['default payment next month'] = prediction[:,1]"
   ]
  },
  {
   "cell_type": "code",
   "execution_count": 52,
   "metadata": {},
   "outputs": [],
   "source": [
    "export_csv = test_df.to_csv (r'PrasanthParaselli_AI0051_assignment1_test.csv', index = None, header=True) "
   ]
  },
  {
   "cell_type": "markdown",
   "metadata": {},
   "source": [
    "The final output is given in probability of becoming defaulter"
   ]
  },
  {
   "cell_type": "code",
   "execution_count": null,
   "metadata": {},
   "outputs": [],
   "source": []
  }
 ],
 "metadata": {
  "kernelspec": {
   "display_name": "Python 3",
   "language": "python",
   "name": "python3"
  },
  "language_info": {
   "codemirror_mode": {
    "name": "ipython",
    "version": 3
   },
   "file_extension": ".py",
   "mimetype": "text/x-python",
   "name": "python",
   "nbconvert_exporter": "python",
   "pygments_lexer": "ipython3",
   "version": "3.7.1"
  }
 },
 "nbformat": 4,
 "nbformat_minor": 2
}
