{
  "nbformat": 4,
  "nbformat_minor": 0,
  "metadata": {
    "colab": {
      "name": "ai0051.ipynb",
      "version": "0.3.2",
      "provenance": [],
      "collapsed_sections": [],
      "toc_visible": true,
      "include_colab_link": true
    },
    "kernelspec": {
      "name": "python3",
      "display_name": "Python 3"
    },
    "accelerator": "GPU"
  },
  "cells": [
    {
      "cell_type": "markdown",
      "metadata": {
        "id": "view-in-github",
        "colab_type": "text"
      },
      "source": [
        "<a href=\"https://colab.research.google.com/github/pras-4795/AIMLColab/blob/master/ai0051.ipynb\" target=\"_parent\"><img src=\"https://colab.research.google.com/assets/colab-badge.svg\" alt=\"Open In Colab\"/></a>"
      ]
    },
    {
      "cell_type": "markdown",
      "metadata": {
        "id": "aaKBdCHBtv09",
        "colab_type": "text"
      },
      "source": [
        "# Scalable Data Mining\n",
        "## Assignment # 2\n",
        "\n",
        "\n",
        "## Problem Statement\n",
        "\n",
        "You are given an undirected social network graph as **network.txt**.\n",
        "\n",
        "In this network, if ***alice*** and ***bob*** are friends, then the network graph has an entry like this: ***alice, bob***.\n",
        "\n",
        "Your task is to find out those pairs of people who are not friends but have at least one common mutual friend. For example, if ***alice*** and ***bob*** are friends and ***bob*** and ***charlie*** are friends, but ***alice*** is not a friend of ***charlie***, your output should be ***alice, charlie***.\n",
        "\n",
        "The network graph has integer IDs for each person instead of their names.\n",
        "\n",
        "*Hint: You may want to verify your code on this toy network:*\n",
        "\n",
        "    `[(alice, bob), (bob, charlie), (bob, doris), (doris, alice)]`\n",
        "    \n",
        "### Important Note:\n",
        "\n",
        "You may **not** use the GraphFrames library. Please use RDDs for this assignment.\n",
        "\n",
        "## File Upload\n",
        "\n",
        "Click on the tiny **\">\"** button towards the top left of this Google colab notebook.\n",
        "\n",
        "This will open up the left sidebar. In the sidebar, you can see three tabs: **\"Table of contents\"**, **\"Code snippets\"**, and **\"Files\"**. Click on \"**Files\"**.\n",
        "\n",
        "You can see an **\"Upload\"** button. Click on it to upload the input file.\n",
        "\n",
        "After the file is uploaded, it will be listed in the left sidebar. Right-click on the filename and select **\"Copy path\"** to get the path. Use this path for the assignment.\n",
        "\n",
        "(This has already been demonstrated during the 2nd demo session. You may refer to the video.)\n",
        "\n",
        "## Instructions\n",
        "\n",
        "This notebook has the required setup code in the first cell. You may use as many cells of code as you need. Your final output RDD must be named **result**.\n",
        "\n",
        "To submit your assignment, click on **\"File\"** in the main menu, then select **\"Download .ipynb\"** to download this notebook as a Jupyter/IPython notebook on your computer.\n",
        "\n",
        "Rename this downloaded notebook as `ai<YourRollNumber>.ipynb`. For example, if your roll number is **AI007**, your notebook should be  called **ai007.ipynb**.\n",
        "\n",
        "Submit this renamed notebook using the assignment submission link.\n",
        "\n",
        "### Update:\n",
        "\n",
        "Deadline for assignment submission has been extended to 18th August (11:55pm)."
      ]
    },
    {
      "cell_type": "code",
      "metadata": {
        "id": "ndZBa5xStwJu",
        "colab_type": "code",
        "outputId": "8fb7f6f8-22f0-43d5-db33-1375294f92a8",
        "colab": {
          "base_uri": "https://localhost:8080/",
          "height": 50
        }
      },
      "source": [
        "# Do not edit this cell\n",
        "\n",
        "import os\n",
        "java8_location= '/usr/lib/jvm/java-8-openjdk-amd64'\n",
        "os.environ['JAVA_HOME'] = java8_location\n",
        "\n",
        "!pip install pyspark\n",
        "\n",
        "from pyspark import SparkConf, SparkContext\n",
        "conf = SparkConf().setMaster(\"local\").setAppName(\"My App\")\n",
        "sc = SparkContext(conf = conf)"
      ],
      "execution_count": 1,
      "outputs": [
        {
          "output_type": "stream",
          "text": [
            "Requirement already satisfied: pyspark in /usr/local/lib/python3.6/dist-packages (2.4.3)\n",
            "Requirement already satisfied: py4j==0.10.7 in /usr/local/lib/python3.6/dist-packages (from pyspark) (0.10.7)\n"
          ],
          "name": "stdout"
        }
      ]
    },
    {
      "cell_type": "code",
      "metadata": {
        "id": "t0roP_9RWq0e",
        "colab_type": "code",
        "outputId": "33751606-96c6-4515-c4bb-f94a5e1dcc19",
        "colab": {
          "base_uri": "https://localhost:8080/",
          "height": 34
        }
      },
      "source": [
        "from google.colab import drive\n",
        "drive.mount('/content/drive')"
      ],
      "execution_count": 2,
      "outputs": [
        {
          "output_type": "stream",
          "text": [
            "Drive already mounted at /content/drive; to attempt to forcibly remount, call drive.mount(\"/content/drive\", force_remount=True).\n"
          ],
          "name": "stdout"
        }
      ]
    },
    {
      "cell_type": "code",
      "metadata": {
        "id": "teyzTjKbYFxm",
        "colab_type": "code",
        "colab": {}
      },
      "source": [
        "t1 = sc.textFile('/content/drive/My Drive/network.txt', 4)"
      ],
      "execution_count": 0,
      "outputs": []
    },
    {
      "cell_type": "code",
      "metadata": {
        "colab_type": "code",
        "id": "eYtK06K5ODR9",
        "colab": {}
      },
      "source": [
        "#t1 = sc.parallelize([('alice', 'bob'), ('bob', 'charlie'), ('bob', 'doris'), ('doris', 'alice')])"
      ],
      "execution_count": 0,
      "outputs": []
    },
    {
      "cell_type": "code",
      "metadata": {
        "id": "XK-EkUeJgabC",
        "colab_type": "code",
        "colab": {}
      },
      "source": [
        "def order_nodes(x):\n",
        "  if x[0] < x[1]:\n",
        "    return (x[0],x[1])\n",
        "  else:\n",
        "    return (x[1],x[0])"
      ],
      "execution_count": 0,
      "outputs": []
    },
    {
      "cell_type": "code",
      "metadata": {
        "id": "ngDg1z4qzhwj",
        "colab_type": "code",
        "colab": {}
      },
      "source": [
        "def reverse(x):\n",
        "  return (x[1], x[0])"
      ],
      "execution_count": 0,
      "outputs": []
    },
    {
      "cell_type": "code",
      "metadata": {
        "id": "GZ7ehp2HxO6R",
        "colab_type": "code",
        "colab": {}
      },
      "source": [
        "t3 = t1.map(reverse)"
      ],
      "execution_count": 0,
      "outputs": []
    },
    {
      "cell_type": "code",
      "metadata": {
        "id": "_J1n3HHb0inA",
        "colab_type": "code",
        "colab": {}
      },
      "source": [
        "t4 = t1.join(t3)"
      ],
      "execution_count": 0,
      "outputs": []
    },
    {
      "cell_type": "code",
      "metadata": {
        "id": "P911bsiv0yyK",
        "colab_type": "code",
        "colab": {}
      },
      "source": [
        "t5 = t3.join(t1)"
      ],
      "execution_count": 0,
      "outputs": []
    },
    {
      "cell_type": "code",
      "metadata": {
        "id": "2yUP3Up78svT",
        "colab_type": "code",
        "colab": {}
      },
      "source": [
        "t6 = t5.values().distinct()"
      ],
      "execution_count": 0,
      "outputs": []
    },
    {
      "cell_type": "code",
      "metadata": {
        "id": "0JtTf51k9DEU",
        "colab_type": "code",
        "colab": {}
      },
      "source": [
        "t7 = t4.values().distinct()"
      ],
      "execution_count": 0,
      "outputs": []
    },
    {
      "cell_type": "code",
      "metadata": {
        "id": "gsz_aD6V9GT6",
        "colab_type": "code",
        "colab": {}
      },
      "source": [
        "t8 = t6.union(t7)"
      ],
      "execution_count": 0,
      "outputs": []
    },
    {
      "cell_type": "code",
      "metadata": {
        "id": "HskYUs_49155",
        "colab_type": "code",
        "colab": {}
      },
      "source": [
        "t9 = t8.subtract(t1)"
      ],
      "execution_count": 0,
      "outputs": []
    },
    {
      "cell_type": "code",
      "metadata": {
        "id": "Yb0pIysLAZQd",
        "colab_type": "code",
        "colab": {}
      },
      "source": [
        "t12 = t9.map(order_nodes)"
      ],
      "execution_count": 0,
      "outputs": []
    },
    {
      "cell_type": "code",
      "metadata": {
        "id": "2XKkQ2motyB6",
        "colab_type": "code",
        "colab": {}
      },
      "source": [
        "# Your final result should be stored in an RDD called \"result\".\n",
        "\n",
        "result = t12.map(lambda x: (x,1)).reduceByKey(lambda x,y: x+y).filter(lambda x: x[1]>1).keys()"
      ],
      "execution_count": 0,
      "outputs": []
    },
    {
      "cell_type": "code",
      "metadata": {
        "id": "xbKIWX6mEN80",
        "colab_type": "code",
        "colab": {
          "base_uri": "https://localhost:8080/",
          "height": 1000
        },
        "outputId": "387fef02-a2ee-4248-b876-923092e7ad5f"
      },
      "source": [
        "result.collect()"
      ],
      "execution_count": 17,
      "outputs": [
        {
          "output_type": "execute_result",
          "data": {
            "text/plain": [
              "[('7', '9'),\n",
              " ('2', '6'),\n",
              " ('1', '1'),\n",
              " (',', '3'),\n",
              " ('0', '7'),\n",
              " ('1', '4'),\n",
              " ('3', '3'),\n",
              " ('3', '6'),\n",
              " ('6', '8'),\n",
              " ('6', '9'),\n",
              " ('5', '7'),\n",
              " ('2', '7'),\n",
              " ('9', '9'),\n",
              " ('1', '8'),\n",
              " (',', '6'),\n",
              " ('2', '9'),\n",
              " ('4', '5'),\n",
              " ('1', '7'),\n",
              " (',', '8'),\n",
              " (',', '1'),\n",
              " ('3', '7'),\n",
              " ('4', '8'),\n",
              " ('1', '5'),\n",
              " ('4', '6'),\n",
              " ('4', '7'),\n",
              " ('7', '8'),\n",
              " ('3', '8'),\n",
              " ('3', '9'),\n",
              " (',', '4'),\n",
              " ('5', '6'),\n",
              " ('1', '3'),\n",
              " ('5', '8'),\n",
              " ('3', '4'),\n",
              " ('4', '9'),\n",
              " ('0', '4'),\n",
              " ('2', '5'),\n",
              " ('5', '5'),\n",
              " ('6', '6'),\n",
              " ('0', '5'),\n",
              " ('0', '8'),\n",
              " ('8', '9'),\n",
              " ('0', '1'),\n",
              " (',', '7'),\n",
              " ('2', '3'),\n",
              " ('8', '8'),\n",
              " ('2', '8'),\n",
              " (',', '9'),\n",
              " ('0', '6'),\n",
              " ('1', '6'),\n",
              " ('6', '7'),\n",
              " (',', '2'),\n",
              " (',', '5'),\n",
              " ('2', '2'),\n",
              " ('7', '7'),\n",
              " ('1', '2'),\n",
              " ('0', '2'),\n",
              " ('2', '4'),\n",
              " ('3', '5'),\n",
              " ('0', '9'),\n",
              " ('1', '9'),\n",
              " ('4', '4'),\n",
              " ('5', '9'),\n",
              " ('0', '3')]"
            ]
          },
          "metadata": {
            "tags": []
          },
          "execution_count": 17
        }
      ]
    }
  ]
}