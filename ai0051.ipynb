{
  "nbformat": 4,
  "nbformat_minor": 0,
  "metadata": {
    "colab": {
      "name": "ai0051.ipynb",
      "version": "0.3.2",
      "provenance": [],
      "collapsed_sections": [],
      "include_colab_link": true
    },
    "kernelspec": {
      "name": "python3",
      "display_name": "Python 3"
    }
  },
  "cells": [
    {
      "cell_type": "markdown",
      "metadata": {
        "id": "view-in-github",
        "colab_type": "text"
      },
      "source": [
        "<a href=\"https://colab.research.google.com/github/pras-4795/AIMLColab/blob/master/ai0051.ipynb\" target=\"_parent\"><img src=\"https://colab.research.google.com/assets/colab-badge.svg\" alt=\"Open In Colab\"/></a>"
      ]
    },
    {
      "cell_type": "code",
      "metadata": {
        "id": "OI8Ec_uYPl8g",
        "colab_type": "code",
        "outputId": "f0d489a4-79c2-4faa-8689-e5f66fb71560",
        "colab": {
          "base_uri": "https://localhost:8080/",
          "height": 121
        }
      },
      "source": [
        "from google.colab import drive\n",
        "drive.mount('/content/drive')"
      ],
      "execution_count": 0,
      "outputs": [
        {
          "output_type": "stream",
          "text": [
            "Go to this URL in a browser: https://accounts.google.com/o/oauth2/auth?client_id=947318989803-6bn6qk8qdgf4n4g3pfee6491hc0brc4i.apps.googleusercontent.com&redirect_uri=urn%3Aietf%3Awg%3Aoauth%3A2.0%3Aoob&scope=email%20https%3A%2F%2Fwww.googleapis.com%2Fauth%2Fdocs.test%20https%3A%2F%2Fwww.googleapis.com%2Fauth%2Fdrive%20https%3A%2F%2Fwww.googleapis.com%2Fauth%2Fdrive.photos.readonly%20https%3A%2F%2Fwww.googleapis.com%2Fauth%2Fpeopleapi.readonly&response_type=code\n",
            "\n",
            "Enter your authorization code:\n",
            "··········\n",
            "Mounted at /content/drive\n"
          ],
          "name": "stdout"
        }
      ]
    },
    {
      "cell_type": "markdown",
      "metadata": {
        "id": "xaiOwBBiPzg1",
        "colab_type": "text"
      },
      "source": [
        "# Load the dataset and convert the data into a matrix\n",
        "\n",
        "Load the ratings.csv file and convert the data into a matrix R. Depending on how you load it, your movies may be rows or columns (and users vice versa). Mention that in the comment."
      ]
    },
    {
      "cell_type": "code",
      "metadata": {
        "id": "M3bJPWlAPusL",
        "colab_type": "code",
        "colab": {}
      },
      "source": [
        "# Mention: for my matrix, the movies are rows and the users are columns\n",
        "\n",
        "import pandas as pd\n",
        "df = pd.read_csv('/content/drive/My Drive/ratings.csv')\n",
        "A=df.pivot(index='movieId', columns='userId', values='rating')"
      ],
      "execution_count": 0,
      "outputs": []
    },
    {
      "cell_type": "markdown",
      "metadata": {
        "id": "YKRox-ZwXf02",
        "colab_type": "text"
      },
      "source": [
        "#Set your test set apart\n",
        "\n",
        "there are no rows with all nan's"
      ]
    },
    {
      "cell_type": "code",
      "metadata": {
        "id": "o5wgp-0lXBWy",
        "colab_type": "code",
        "colab": {}
      },
      "source": [
        "B = A.iloc[0:2000]\n",
        "A = A.iloc[2000:]"
      ],
      "execution_count": 0,
      "outputs": []
    },
    {
      "cell_type": "markdown",
      "metadata": {
        "id": "hRpINNlyhG-I",
        "colab_type": "text"
      },
      "source": [
        "#Normalize and center"
      ]
    },
    {
      "cell_type": "code",
      "metadata": {
        "id": "lHTpe5LZb7nc",
        "colab_type": "code",
        "colab": {}
      },
      "source": [
        "A1=A.apply(lambda x: x.fillna(x.mean()),axis=1)"
      ],
      "execution_count": 0,
      "outputs": []
    },
    {
      "cell_type": "code",
      "metadata": {
        "id": "PcvrIdYgcOTY",
        "colab_type": "code",
        "colab": {}
      },
      "source": [
        "A2 = A1.sub(A.mean(axis=1), axis=0)"
      ],
      "execution_count": 0,
      "outputs": []
    },
    {
      "cell_type": "markdown",
      "metadata": {
        "id": "QJ_7vVcCo55-",
        "colab_type": "text"
      },
      "source": [
        " # Compute SVD"
      ]
    },
    {
      "cell_type": "code",
      "metadata": {
        "id": "jEujZTLxo5gN",
        "colab_type": "code",
        "colab": {}
      },
      "source": [
        "# Singular-value decomposition\n",
        "from numpy import array\n",
        "from scipy.linalg import svd\n",
        "\n",
        "U, s, VT = svd(A2)"
      ],
      "execution_count": 0,
      "outputs": []
    },
    {
      "cell_type": "code",
      "metadata": {
        "id": "V4-IdwTgp76C",
        "colab_type": "code",
        "colab": {}
      },
      "source": [
        "# Set your k\n",
        "k = 7\n",
        "from numpy import array\n",
        "from sklearn.decomposition import TruncatedSVD\n",
        "\n",
        "svd = TruncatedSVD(n_components=k)\n",
        "svd.fit(A2)\n",
        "A_trunc = svd.transform(A2)"
      ],
      "execution_count": 0,
      "outputs": []
    },
    {
      "cell_type": "code",
      "metadata": {
        "id": "YvPjxzZssTEw",
        "colab_type": "code",
        "outputId": "4acfb950-39bf-4ab8-d3e8-017f301bbe61",
        "colab": {
          "base_uri": "https://localhost:8080/",
          "height": 34
        }
      },
      "source": [
        "import math\n",
        "\n",
        "sqs = 0\n",
        "s = 0\n",
        "b = 0\n",
        "try:\n",
        "  for i in range(B.shape[0]):\n",
        "    for j in range(B.shape[1]):\n",
        "      if(not(math.isnan(B[i+1][j+1]))):\n",
        "        sqs = sqs + ((A2[i][j] - B[i+1][j+1])**2)\n",
        "        s = s + ((A_trunc[i][j] - B[i+1][j+1])**2)\n",
        "        b = b + B[i+1][j+1]\n",
        "except:\n",
        "  print('')\n",
        "#A2 = pd.DataFrame(A2)"
      ],
      "execution_count": 197,
      "outputs": [
        {
          "output_type": "stream",
          "text": [
            "\n"
          ],
          "name": "stdout"
        }
      ]
    },
    {
      "cell_type": "code",
      "metadata": {
        "id": "vEckSsayxiMf",
        "colab_type": "code",
        "outputId": "2db481e5-b883-4d7e-abe8-d39ac99f9011",
        "colab": {
          "base_uri": "https://localhost:8080/",
          "height": 50
        }
      },
      "source": [
        "RMSE_A2 = math.sqrt(sqs/b)\n",
        "RMSE_Ak = math.sqrt(s/b)\n",
        "print(\"RMSE with A2 is %f.\" %RMSE_A2)\n",
        "print(\"RMSE with Ak is %f.\" %RMSE_Ak)"
      ],
      "execution_count": 198,
      "outputs": [
        {
          "output_type": "stream",
          "text": [
            "RMSE with A2 is 2.000000.\n",
            "RMSE with Ak is 2.130292.\n"
          ],
          "name": "stdout"
        }
      ]
    }
  ]
}